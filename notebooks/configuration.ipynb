{
 "cells": [
  {
   "cell_type": "markdown",
   "id": "49a6e748",
   "metadata": {},
   "source": [
    "# Configuration\n",
    "\n",
    "The 3ML configuration sets up defaults that are read in at runtime and is a session wide state that the user can modify at any point during an analysis to alter behavior throughout 3ML.\n",
    "\n",
    "The configuration is a hierarchical you can import and modify.\n"
   ]
  },
  {
   "cell_type": "code",
   "execution_count": null,
   "id": "27e1858b",
   "metadata": {
    "lines_to_next_cell": 2
   },
   "outputs": [],
   "source": [
    "import warnings\n",
    "warnings.simplefilter('ignore')\n",
    "import numpy as np\n",
    "np.seterr(all=\"ignore\")"
   ]
  },
  {
   "cell_type": "code",
   "execution_count": null,
   "id": "4cfabd6a",
   "metadata": {},
   "outputs": [],
   "source": [
    "%%capture\n",
    "from threeML import threeML_config, show_configuration\n",
    "\n",
    "show_configuration()"
   ]
  },
  {
   "cell_type": "markdown",
   "id": "f80f1587",
   "metadata": {},
   "source": [
    "## Local configuration"
   ]
  },
  {
   "cell_type": "markdown",
   "id": "b1917ecf",
   "metadata": {},
   "source": [
    "You can store a local configuration read in at the beginning of every session. By default, 3ML looking in ``` ~/.config/threeml/*.yml``` for configuration files.\n",
    "\n",
    "* You can set your own location with the environment variable ```THREEML_CONFIG``` \n",
    "* All YAML files in this directiory are considered to be configuration files.\n",
    "\n",
    "Multiple configuration files can be added allowing you to have readable seperation between different topics.\n",
    "\n",
    "E.g, here are two configuration files that modify some plotting defaults and logging defaults in separate files.\n",
    "\n",
    "```~/.config/threeml/plotting.yml```\n",
    "```yaml\n",
    "plugins:\n",
    "  ogip:\n",
    "    fit_plot:\n",
    "      model_cmap: Spectral\n",
    "      data_color: grey\n",
    "      background_color: k\n",
    "      background_mpl_kwargs:\n",
    "        lw: .8\n",
    "        ls: \"-\"\n",
    "\n",
    "\n",
    "```\n",
    "\n",
    "```~/.config/threeml/logging.yml```\n",
    "```yaml\n",
    "logging:\n",
    "  developer: on\n",
    "  startup_warnings: off\n",
    "```"
   ]
  },
  {
   "cell_type": "code",
   "execution_count": null,
   "id": "57a5cda3",
   "metadata": {},
   "outputs": [],
   "source": [
    "show_configuration(\"plugins\")"
   ]
  },
  {
   "cell_type": "markdown",
   "id": "63279222",
   "metadata": {},
   "source": [
    "The configuration now includes the values from the files. \n",
    "\n",
    "### Environment variables\n",
    "\n",
    "It is possible to set configuration values from environment variables. For example, if you are working in a HPC cluster environment and need to log to w write-safe directory:\n",
    "```~/.config/threeml/cluster_logging.yml```\n",
    "```yaml\n",
    "logging:\n",
    "  path: ${env:USER_LOG_DIR}\n",
    "  developer: off\n",
    "  console: off\n",
    "  startup_warnings: off\n",
    "```\n",
    "\n",
    "where ```USER_LOG_DIR``` could be a directory where you are allowed to write to disk. At run time, we convert this variable to a path. However, any value can be set. Thus, you can make an adaptable configuration that mutates based on your local workstation. \n"
   ]
  },
  {
   "cell_type": "markdown",
   "id": "da8e178f",
   "metadata": {},
   "source": [
    "## Run-time configuration changes"
   ]
  },
  {
   "cell_type": "markdown",
   "id": "d8e18da0",
   "metadata": {},
   "source": [
    "But perhaps you want to change a parameter in the middle of a session? The configuration behaves like a nested dictionary but it has both *dot* and key access. Let's take a look at what we can configure:"
   ]
  },
  {
   "cell_type": "markdown",
   "id": "e333e787",
   "metadata": {},
   "source": [
    "Perhaps we want the default colors for light curves to be altered for this session:"
   ]
  },
  {
   "cell_type": "code",
   "execution_count": null,
   "id": "44c940b3",
   "metadata": {},
   "outputs": [],
   "source": [
    "threeML_config.time_series.background_color"
   ]
  },
  {
   "cell_type": "code",
   "execution_count": null,
   "id": "9a567e96",
   "metadata": {},
   "outputs": [],
   "source": [
    "threeML_config['time_series']['background_color']"
   ]
  },
  {
   "cell_type": "code",
   "execution_count": null,
   "id": "eaab402f",
   "metadata": {},
   "outputs": [],
   "source": [
    "threeML_config.time_series.background_color = 'green'\n",
    "show_configuration('time_series')"
   ]
  },
  {
   "cell_type": "markdown",
   "id": "3dd5556b",
   "metadata": {},
   "source": [
    "From this point on in this session, fitting LLE backgrounds will be unbinned. When we close python, the next time we start 3ML, the values set in the configuration file be loaded.\n",
    "\n",
    "Do not worry about entering incorrect values in the file as 3ML checks both the structure and types of the parameters. \n",
    "\n",
    "\n",
    "If you modify your configuration at run time and want to save it to a file (**in your configration directory**) try this:"
   ]
  },
  {
   "cell_type": "code",
   "execution_count": null,
   "id": "517d65f2",
   "metadata": {},
   "outputs": [],
   "source": [
    "from threeML import get_current_configuration_copy\n",
    "\n",
    "get_current_configuration_copy(\"my_config.yml\", overwrite=True)"
   ]
  },
  {
   "cell_type": "markdown",
   "id": "361673f0",
   "metadata": {},
   "source": [
    "If you have a default configuration you would like to add, consider opening a pull request. We would love to hear your ideas. "
   ]
  }
 ],
 "metadata": {
  "jupytext": {
   "formats": "ipynb,md"
  },
  "kernelspec": {
   "display_name": "Python 3",
   "language": "python",
   "name": "python3"
  }
 },
 "nbformat": 4,
 "nbformat_minor": 5
}
