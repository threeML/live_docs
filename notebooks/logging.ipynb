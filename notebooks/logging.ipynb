{
 "cells": [
  {
   "cell_type": "markdown",
   "id": "469cd0fb",
   "metadata": {
    "lines_to_next_cell": 2
   },
   "source": [
    "# Logging and Verbosity\n",
    "\n",
    "We have recently switched to reporting information to the user via logging. Logging in 3ML occurs in three different ways:\n",
    "\n",
    "* to the console (jupyter or command line)\n",
    "* a user log file\n",
    "* a debug log file\n",
    "\n",
    "The first two files record information relvant to the average 3ML user. The debug file records low level information useful when trying to solve runtime errors. \n",
    "\n",
    "\n",
    "The logging of 3ML is configurable in the configuration file.\n"
   ]
  },
  {
   "cell_type": "code",
   "execution_count": null,
   "id": "f1f68acd",
   "metadata": {
    "lines_to_next_cell": 2
   },
   "outputs": [],
   "source": [
    "import warnings\n",
    "warnings.simplefilter('ignore')\n",
    "import numpy as np\n",
    "np.seterr(all=\"ignore\")"
   ]
  },
  {
   "cell_type": "code",
   "execution_count": null,
   "id": "970e922e",
   "metadata": {},
   "outputs": [],
   "source": [
    "%%capture\n",
    "from threeML import threeML_config\n",
    "\n",
    "threeML_config[\"logging\"]"
   ]
  },
  {
   "cell_type": "markdown",
   "id": "18026be1",
   "metadata": {},
   "source": [
    "First, **the location of the log files can be set** before start a 3ML session in python. By default, logging to the debug file is off (**developer** switch). The **console** and **usr** switches can also be disabled by default to completely silence 3ML. Additionally, the default logging level of 3ML can be set for both the usr and console logs."
   ]
  },
  {
   "cell_type": "markdown",
   "id": "0e71682d",
   "metadata": {},
   "source": [
    "## Logging controls and verbosity\n",
    "\n",
    "During a 3ML session, it may be diserable to toggle the state of the logger for certain actions. While it is possible to access the logger and handlers from ```bash threeml.io.logging``` and following the [standard practices](https://docs.python.org/3/howto/logging.html) of python logging, we provide some simple utilites to toggle the state the logger.\n"
   ]
  },
  {
   "cell_type": "code",
   "execution_count": null,
   "id": "fe694081",
   "metadata": {},
   "outputs": [],
   "source": [
    "from threeML import silence_logs, silence_warnings, activate_logs, activate_warnings, update_logging_level\n",
    "import logging\n",
    "log = logging.getLogger(\"threeML\")\n",
    "log.info(\"Hello there\")"
   ]
  },
  {
   "cell_type": "markdown",
   "id": "284292f5",
   "metadata": {},
   "source": [
    "If we want to shut off all logging for a few operations, we can call ```python silence_logs()``` which diable all logs "
   ]
  },
  {
   "cell_type": "code",
   "execution_count": null,
   "id": "2e5b1259",
   "metadata": {},
   "outputs": [],
   "source": [
    "log.info(\"Now you see me\")\n",
    "\n",
    "# logging will be silenced\n",
    "silence_logs()\n",
    "\n",
    "log.info(\"Now you don't\")\n",
    "\n",
    "# now we can restore the LAST state of the logs \n",
    "# before we silenced them\n",
    "activate_logs()\n",
    "\n",
    "log.info(\"I'm back\")"
   ]
  },
  {
   "cell_type": "markdown",
   "id": "933b5683",
   "metadata": {},
   "source": [
    "3ML has a lot of useful warning information. Sometimes we just want to get on with out analysis and now have to see this. ```python silence_warnings()``` removes warnings while maintained all other logs"
   ]
  },
  {
   "cell_type": "code",
   "execution_count": null,
   "id": "2e6b969e",
   "metadata": {},
   "outputs": [],
   "source": [
    "log.info(\"I am tired of\")\n",
    "log.warning(\"being warned\")\n",
    "\n",
    "# silence warnings temporarily\n",
    "silence_warnings()\n",
    "log.info(\"so I will turn off\")\n",
    "log.warning(\"all the IMPORTANT warning info\")\n",
    "\n",
    "# and bring them back\n",
    "activate_warnings()\n",
    "log.warning(\"I hope your computer didn't crash in the mean time\")\n"
   ]
  },
  {
   "cell_type": "markdown",
   "id": "b6894f1b",
   "metadata": {},
   "source": [
    "We can also control the level of the console log:"
   ]
  },
  {
   "cell_type": "code",
   "execution_count": null,
   "id": "334d019f",
   "metadata": {},
   "outputs": [],
   "source": [
    "update_logging_level(\"DEBUG\")\n",
    "\n",
    "log.debug(\"Now we can see low level logging\")\n",
    "\n",
    "update_logging_level(\"CRITICAL\")\n",
    "\n",
    "log.info(\"This is invisible\")\n"
   ]
  },
  {
   "cell_type": "markdown",
   "id": "57f1ffd2",
   "metadata": {},
   "source": [
    "## Progress bars\n",
    "\n",
    "Some analyses take a while and it is nice to see that something is happening, or at least point to the screen when our boss walks by and we are on twitter to show that we are still working. Thus, 3ML reports the progress of various tasks with progress bars. \n",
    "\n",
    "These are configurable from the configuration file.\n"
   ]
  },
  {
   "cell_type": "code",
   "execution_count": null,
   "id": "edc91d2d",
   "metadata": {},
   "outputs": [],
   "source": [
    "threeML_config[\"interface\"]"
   ]
  },
  {
   "cell_type": "markdown",
   "id": "625ea4fe",
   "metadata": {},
   "source": [
    "We see that it is possible to show or not show progress for all of 3ML. However, it is also possible to toggle the progress bars during a session"
   ]
  },
  {
   "cell_type": "code",
   "execution_count": null,
   "id": "6b2b61fe",
   "metadata": {},
   "outputs": [],
   "source": [
    "from threeML import silence_progress_bars, activate_progress_bars, toggle_progress_bars\n",
    "from threeML.utils.progress_bar import trange"
   ]
  },
  {
   "cell_type": "code",
   "execution_count": null,
   "id": "d8b62fc9",
   "metadata": {},
   "outputs": [],
   "source": [
    "activate_progress_bars()\n",
    "\n",
    "for i in trange(10, desc=\"progressive\"):\n",
    "    pass\n",
    "\n",
    "# this will turn of progress for all of 3ML\n",
    "silence_progress_bars()\n",
    "\n",
    "for i in trange(10, desc=\"conservative\"):\n",
    "    pass\n",
    "\n",
    "# toggling the progress bar simply switches the state\n",
    "toggle_progress_bars()\n",
    "for i in trange(10, desc=\"more progress\"):\n",
    "    pass\n"
   ]
  },
  {
   "cell_type": "markdown",
   "id": "7f4fb1e7",
   "metadata": {},
   "source": [
    "## Loud and Quiet\n",
    "\n",
    "If you want to silence everything or turn everything on, there are toggles for this:"
   ]
  },
  {
   "cell_type": "code",
   "execution_count": null,
   "id": "852df881",
   "metadata": {},
   "outputs": [],
   "source": [
    "from threeML import quiet_mode, loud_mode"
   ]
  },
  {
   "cell_type": "code",
   "execution_count": null,
   "id": "96e8b458",
   "metadata": {},
   "outputs": [],
   "source": [
    "quiet_mode()\n",
    "\n",
    "for i in trange(10, desc=\"invisible\"):\n",
    "    pass\n",
    "\n",
    "log.info(\"you will not see me\")\n",
    "\n",
    "loud_mode()\n",
    "\n",
    "for i in trange(10, desc=\"visible\"):\n",
    "    pass\n",
    "\n",
    "log.info(\"here I am\")"
   ]
  }
 ],
 "metadata": {
  "jupytext": {
   "formats": "ipynb,md"
  },
  "kernelspec": {
   "display_name": "Python 3",
   "language": "python",
   "name": "python3"
  }
 },
 "nbformat": 4,
 "nbformat_minor": 5
}
