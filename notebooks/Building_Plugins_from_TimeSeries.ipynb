{
 "cells": [
  {
   "cell_type": "code",
   "execution_count": null,
   "id": "6082444f",
   "metadata": {
    "lines_to_next_cell": 2
   },
   "outputs": [],
   "source": [
    "import warnings\n",
    "warnings.simplefilter('ignore')\n"
   ]
  },
  {
   "cell_type": "code",
   "execution_count": null,
   "id": "a7495f85",
   "metadata": {},
   "outputs": [],
   "source": [
    "%%capture\n",
    "import matplotlib.pyplot as plt\n",
    "import numpy as np\n",
    "np.seterr(all=\"ignore\")\n",
    "\n",
    "from threeML import *\n",
    "from threeML.io.package_data import get_path_of_data_file"
   ]
  },
  {
   "cell_type": "code",
   "execution_count": null,
   "id": "c7908cf3",
   "metadata": {},
   "outputs": [],
   "source": [
    "from jupyterthemes import jtplot\n",
    "%matplotlib inline\n",
    "jtplot.style(context=\"talk\", fscale=1, ticks=True, grid=False)\n",
    "\n",
    "silence_warnings()\n",
    "\n",
    "set_threeML_style()\n"
   ]
  },
  {
   "cell_type": "markdown",
   "id": "3a0ade88",
   "metadata": {},
   "source": [
    "# Constructing plugins from TimeSeries\n",
    "\n",
    "Many times we encounter event lists or sets of spectral histograms from which we would like to derive a single or set of plugins. For this purpose, we provide the **TimeSeriesBuilder** which provides a unified interface to time series data. Here we will demonstrate how to construct plugins from different data types. \n",
    "\n",
    "These utilities are helpers that allow you to *reduce data to pluigns* for spectral and temporal fitting. They are not plugins themselves."
   ]
  },
  {
   "cell_type": "markdown",
   "id": "9f9e1fa0",
   "metadata": {},
   "source": [
    "## Constructing time series objects from different data types\n",
    "\n",
    "The **TimeSeriesBuilder** currently supports reading of the following data type:\n",
    "* A generic PHAII data file\n",
    "* GBM TTE/CSPEC/CTIME files\n",
    "* LAT LLE files\n",
    "* POLAR spectra and polarization light curves\n",
    "* KONUS GRB data\n",
    "\n",
    "<div class=\"alert alert-info\">\n",
    "\n",
    "**Note:** If you would like to build a time series from your own custom data, consider creating a ```TimeSeriesBuilder.from_your_data()``` class method.\n",
    "\n",
    "</div>\n",
    "\n"
   ]
  },
  {
   "cell_type": "markdown",
   "id": "de9e563e",
   "metadata": {},
   "source": [
    "### GBM Data \n",
    "\n",
    "Building plugins from GBM is achieved in the following fashion"
   ]
  },
  {
   "cell_type": "code",
   "execution_count": null,
   "id": "390f9b0c",
   "metadata": {},
   "outputs": [],
   "source": [
    "cspec_file = get_path_of_data_file('datasets/glg_cspec_n3_bn080916009_v01.pha')\n",
    "tte_file = get_path_of_data_file('datasets/glg_tte_n3_bn080916009_v01.fit.gz')\n",
    "gbm_rsp = get_path_of_data_file('datasets/glg_cspec_n3_bn080916009_v00.rsp2')\n",
    "\n",
    "\n",
    "gbm_cspec = TimeSeriesBuilder.from_gbm_cspec_or_ctime('nai3_cspec',\n",
    "                                                      cspec_or_ctime_file=cspec_file,\n",
    "                                                      rsp_file=gbm_rsp)\n",
    "\n",
    "gbm_tte = TimeSeriesBuilder.from_gbm_tte('nai3_tte',\n",
    "                                          tte_file=tte_file,\n",
    "                                          rsp_file=gbm_rsp)"
   ]
  },
  {
   "cell_type": "markdown",
   "id": "29bf4a16",
   "metadata": {},
   "source": [
    "### LAT LLE data\n",
    "\n",
    "LAT LLE data is constructed in a similar fashion"
   ]
  },
  {
   "cell_type": "code",
   "execution_count": null,
   "id": "df49d968",
   "metadata": {},
   "outputs": [],
   "source": [
    "lle_file = get_path_of_data_file('datasets/gll_lle_bn080916009_v10.fit')\n",
    "ft2_file = get_path_of_data_file('datasets/gll_pt_bn080916009_v10.fit')\n",
    "lle_rsp = get_path_of_data_file('datasets/gll_cspec_bn080916009_v10.rsp')\n",
    "\n",
    "lat_lle = TimeSeriesBuilder.from_lat_lle('lat_lle',\n",
    "                                        lle_file=lle_file,\n",
    "                                        ft2_file=ft2_file,\n",
    "                                        rsp_file=lle_rsp)"
   ]
  },
  {
   "cell_type": "markdown",
   "id": "7f510b55",
   "metadata": {},
   "source": [
    "## Viewing Lightcurves and selecting source intervals\n",
    "\n",
    "All time series objects share the same commands to get you to a plugin. \n",
    "Let's have a look at the GBM TTE lightcurve."
   ]
  },
  {
   "cell_type": "code",
   "execution_count": null,
   "id": "5c88f157",
   "metadata": {},
   "outputs": [],
   "source": [
    "fig = gbm_tte.view_lightcurve(start=-20,stop=200)"
   ]
  },
  {
   "cell_type": "markdown",
   "id": "97b9557e",
   "metadata": {},
   "source": [
    "Perhaps we want to fit the time interval from 0-10 seconds. We make a selection like this:"
   ]
  },
  {
   "cell_type": "code",
   "execution_count": null,
   "id": "4951f81b",
   "metadata": {},
   "outputs": [],
   "source": [
    "\n",
    "gbm_tte.set_active_time_interval('0-10')\n",
    "fig = gbm_tte.view_lightcurve(start=-20,stop=200);"
   ]
  },
  {
   "cell_type": "markdown",
   "id": "73a988a1",
   "metadata": {},
   "source": [
    "For event list style data like time tagged events, the selection is *exact*. However, pre-binned data in the form of e.g. PHAII files will have the selection automatically adjusted to the underlying temporal bins.\n",
    "\n",
    "Several discontinuous time selections can be made.\n",
    "\n",
    "## Fitting a polynomial background\n",
    "\n",
    "In order to get to a plugin, we need to model and create an estimated background in each channel ($B_i$) for our interval of interest. The process that we have implemented is to fit temporal off-source regions to polynomials ($P(t;\\vec{\\theta})$) in time. First, a polynomial is fit to the total count rate. From this fit we determine the best polynomial order via a likelihood ratio test, unless the user supplies a polynomial order in the constructor or directly via the polynomial_order attribute. Then, this order of polynomial is fit to every channel in the data.\n",
    "\n",
    "From the polynomial fit, the polynomial is integrated in time over the active source interval to estimate the count rate in each channel. The estimated background and background errors then stored for each channel.\n",
    "\n",
    "$$ B_i = \\int_{T_1}^{T_2}P(t;\\vec{\\theta}) {\\rm d}t $$\n"
   ]
  },
  {
   "cell_type": "code",
   "execution_count": null,
   "id": "2e1ebeb2",
   "metadata": {
    "lines_to_next_cell": 2,
    "tags": [
     "nbsphinx-thumbnail"
    ]
   },
   "outputs": [],
   "source": [
    "gbm_tte.set_background_interval('-24--5','100-200')\n",
    "fig = gbm_tte.view_lightcurve(start=-20,stop=200)"
   ]
  },
  {
   "cell_type": "markdown",
   "id": "9428a855",
   "metadata": {},
   "source": [
    "### What occurs during a fit?\n",
    "\n",
    "In the background, the data type of the time series is analyzed (is it Poisson of Gaussian distributed?) and the time series are converted to plugins of counts / measurements vs. time. These plugins are then fit with either MLE or Bayesian methods just any other 3ML analysis. While this happens behinds the scene, it is possible to interface to these low-level operations are create your own custom background routines! "
   ]
  },
  {
   "cell_type": "markdown",
   "id": "03b3564d",
   "metadata": {},
   "source": [
    "For event list data, binned or unbinned background fits are possible. For pre-binned data, only a binned fit is possible. "
   ]
  },
  {
   "cell_type": "code",
   "execution_count": null,
   "id": "52746d63",
   "metadata": {},
   "outputs": [],
   "source": [
    "gbm_tte.set_background_interval('-24--5','100-200',unbinned=False)"
   ]
  },
  {
   "cell_type": "markdown",
   "id": "7d765c40",
   "metadata": {},
   "source": [
    "## Saving the background fit\n",
    "\n",
    "The background polynomial coefficients can be saved to disk for faster manipulation of time series data.\n"
   ]
  },
  {
   "cell_type": "code",
   "execution_count": null,
   "id": "6dcb2aa8",
   "metadata": {},
   "outputs": [],
   "source": [
    "gbm_tte.save_background('background_store',overwrite=True)"
   ]
  },
  {
   "cell_type": "code",
   "execution_count": null,
   "id": "7f9fd075",
   "metadata": {},
   "outputs": [],
   "source": [
    "gbm_tte_reloaded = TimeSeriesBuilder.from_gbm_tte('nai3_tte',\n",
    "                                          tte_file=tte_file,\n",
    "                                          rsp_file=gbm_rsp,\n",
    "                                          restore_background='background_store.h5')"
   ]
  },
  {
   "cell_type": "code",
   "execution_count": null,
   "id": "2b65b520",
   "metadata": {},
   "outputs": [],
   "source": [
    "fig = gbm_tte_reloaded.view_lightcurve(-10,200)"
   ]
  },
  {
   "cell_type": "markdown",
   "id": "88132701",
   "metadata": {},
   "source": [
    "## Creating a plugin\n",
    "\n",
    "With our background selections made, we can now create a plugin instance. In the case of GBM data, this results in a **DispersionSpectrumLike**\n",
    "plugin. Please refer to the Plugins documentation for more details."
   ]
  },
  {
   "cell_type": "code",
   "execution_count": null,
   "id": "85fb327a",
   "metadata": {},
   "outputs": [],
   "source": [
    "gbm_plugin = gbm_tte.to_spectrumlike()"
   ]
  },
  {
   "cell_type": "code",
   "execution_count": null,
   "id": "71834f59",
   "metadata": {},
   "outputs": [],
   "source": [
    "gbm_plugin.display()"
   ]
  },
  {
   "cell_type": "markdown",
   "id": "30ad9334",
   "metadata": {},
   "source": [
    "## Time-resolved binning and plugin creation\n",
    "\n",
    "It is possible to temporally bin time series. There are up to four methods provided depending on the type of time series being used:\n",
    "\n",
    "* Constant cadence (all time series)\n",
    "* Custom (all time series)\n",
    "* Significance (all time series)\n",
    "* Bayesian Blocks (event lists)"
   ]
  },
  {
   "cell_type": "markdown",
   "id": "c030025a",
   "metadata": {},
   "source": [
    "### Constant Cadence\n",
    "\n",
    "Constant cadence bins are defined by a start and a stop time along with a time delta.\n"
   ]
  },
  {
   "cell_type": "code",
   "execution_count": null,
   "id": "197fcbc7",
   "metadata": {},
   "outputs": [],
   "source": [
    "gbm_tte.create_time_bins(start=0, stop=10, method='constant', dt=2.)"
   ]
  },
  {
   "cell_type": "code",
   "execution_count": null,
   "id": "82d38d90",
   "metadata": {},
   "outputs": [],
   "source": [
    "gbm_tte.bins.display()"
   ]
  },
  {
   "cell_type": "markdown",
   "id": "87c007d3",
   "metadata": {},
   "source": [
    "### Custom\n",
    "\n",
    "Custom time bins can be created by providing a contiguous list of start and stop times.\n",
    "\n"
   ]
  },
  {
   "cell_type": "code",
   "execution_count": null,
   "id": "348e0b2d",
   "metadata": {},
   "outputs": [],
   "source": [
    "time_edges = np.array([.5,.63,20.,21.])\n",
    "\n",
    "starts = time_edges[:-1]\n",
    "\n",
    "stops = time_edges[1:]\n",
    "\n",
    "gbm_tte.create_time_bins(start=starts, stop=stops, method='custom')"
   ]
  },
  {
   "cell_type": "code",
   "execution_count": null,
   "id": "23eb848c",
   "metadata": {},
   "outputs": [],
   "source": [
    "gbm_tte.bins.display()"
   ]
  },
  {
   "cell_type": "markdown",
   "id": "d4820454",
   "metadata": {},
   "source": [
    "### Significance\n",
    "\n",
    "Time bins can be created by specifying a significance of signal to background if a background fit has been performed."
   ]
  },
  {
   "cell_type": "code",
   "execution_count": null,
   "id": "5a9722f5",
   "metadata": {},
   "outputs": [],
   "source": [
    "gbm_tte.create_time_bins(start=0., stop=50., method='significance', sigma=25)"
   ]
  },
  {
   "cell_type": "code",
   "execution_count": null,
   "id": "efca137c",
   "metadata": {},
   "outputs": [],
   "source": [
    "gbm_tte.bins.display()"
   ]
  },
  {
   "cell_type": "markdown",
   "id": "11066568",
   "metadata": {},
   "source": [
    "### Bayesian Blocks\n",
    "\n",
    "The Bayesian Blocks algorithm (Scargle et al. 2013) can be used to bin event list by looking for significant changes in the rate. \n"
   ]
  },
  {
   "cell_type": "code",
   "execution_count": null,
   "id": "81689a78",
   "metadata": {},
   "outputs": [],
   "source": [
    "gbm_tte.create_time_bins(start=0., stop=50., method='bayesblocks', p0=.01, use_background=True)"
   ]
  },
  {
   "cell_type": "code",
   "execution_count": null,
   "id": "e9ec89c1",
   "metadata": {},
   "outputs": [],
   "source": [
    "gbm_tte.bins.display()"
   ]
  },
  {
   "cell_type": "markdown",
   "id": "ae4eba91",
   "metadata": {},
   "source": [
    "### Working with bins\n",
    "\n",
    "The light curve can be displayed by supplying the use_binner option to display the time binning\n"
   ]
  },
  {
   "cell_type": "code",
   "execution_count": null,
   "id": "75ebc37d",
   "metadata": {},
   "outputs": [],
   "source": [
    "fig = gbm_tte.view_lightcurve(use_binner=True)"
   ]
  },
  {
   "cell_type": "markdown",
   "id": "56f88d49",
   "metadata": {},
   "source": [
    "The bins can all be writted to a PHAII file for analysis via OGIPLike."
   ]
  },
  {
   "cell_type": "code",
   "execution_count": null,
   "id": "39d4b41d",
   "metadata": {},
   "outputs": [],
   "source": [
    "gbm_tte.write_pha_from_binner(file_name='out', overwrite=True,\n",
    "                              force_rsp_write = False)  # if you need to write the RSP to a file. We try to choose the best option for you."
   ]
  },
  {
   "cell_type": "markdown",
   "id": "718026f1",
   "metadata": {},
   "source": [
    "Similarly, we can create a list of plugins directly from the time series."
   ]
  },
  {
   "cell_type": "code",
   "execution_count": null,
   "id": "55826728",
   "metadata": {},
   "outputs": [],
   "source": [
    "my_plugins = gbm_tte.to_spectrumlike(from_bins=True)"
   ]
  }
 ],
 "metadata": {
  "jupytext": {
   "formats": "ipynb,md"
  },
  "kernelspec": {
   "display_name": "Python 3",
   "language": "python",
   "name": "python3"
  }
 },
 "nbformat": 4,
 "nbformat_minor": 5
}
