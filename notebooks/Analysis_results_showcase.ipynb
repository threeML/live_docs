{
 "cells": [
  {
   "cell_type": "markdown",
   "id": "c59aa88b",
   "metadata": {},
   "source": [
    "# Analysis Results\n",
    "\n",
    "3ML stores the results of a fit in a container we call an \"Analysis Result\" (AR). The structure of this object is designed to be useable in a *live* sense within an *active* analysis (python script, ipython interactive shell, jupyter notebook) as well as storable as a FITS file for saving results for later.\n",
    "\n",
    "The structure is nearly the same between MLE and Bayesian analyses in order to make a seamless functionality between all analyses.\n"
   ]
  },
  {
   "cell_type": "code",
   "execution_count": null,
   "id": "aabc7878",
   "metadata": {},
   "outputs": [],
   "source": [
    "%%capture\n",
    "import numpy as np\n",
    "np.seterr(all=\"ignore\")\n",
    "from threeML import *\n",
    "from threeML.analysis_results import *\n",
    "import astropy.units as u"
   ]
  },
  {
   "cell_type": "code",
   "execution_count": null,
   "id": "ddb7d749",
   "metadata": {},
   "outputs": [],
   "source": [
    "silence_logs()\n",
    "from tqdm.auto import tqdm\n",
    "from jupyterthemes import jtplot\n",
    "%matplotlib inline\n",
    "jtplot.style(context=\"talk\", fscale=1, ticks=True, grid=False)\n",
    "import matplotlib.pyplot as plt\n",
    "set_threeML_style()"
   ]
  },
  {
   "cell_type": "markdown",
   "id": "d521a7e1",
   "metadata": {},
   "source": [
    "Let's take a look at what we can do with an AR. First, we will simulate some data."
   ]
  },
  {
   "cell_type": "code",
   "execution_count": null,
   "id": "01fa3da1",
   "metadata": {},
   "outputs": [],
   "source": [
    "gen_function = Line(a=2, b=0) + Gaussian(F=30.0, mu=25.0, sigma=1)\n",
    "\n",
    "# Generate a dataset using the line and a gaussian.\n",
    "# constant 20% error\n",
    "\n",
    "x = np.linspace(0, 50, 50)\n",
    "\n",
    "xy = XYLike.from_function(\n",
    "    \"sim_data\", function=gen_function, x=x, yerr=0.2 * gen_function(x)\n",
    ")\n",
    "\n",
    "fig = xy.plot();"
   ]
  },
  {
   "cell_type": "markdown",
   "id": "7d4e9336",
   "metadata": {},
   "source": [
    "## MLE Results\n",
    "\n",
    "\n",
    "First we will demonstrate how AR's work for an MLE analysis on our synthetic data. As we will see, most of the functionality exists in the Bayesian AR's as well. \n",
    "\n",
    "Let's do a simple likelihood maximization of our data and model."
   ]
  },
  {
   "cell_type": "code",
   "execution_count": null,
   "id": "1e81fb53",
   "metadata": {},
   "outputs": [],
   "source": [
    "fitfun = Line() + Gaussian()\n",
    "\n",
    "fitfun.b_1.bounds = (-10, 10.0)\n",
    "fitfun.a_1.bounds = (-100, 100.0)\n",
    "fitfun.F_2 = 25.0\n",
    "fitfun.F_2.bounds = (1e-3, 200.0)\n",
    "fitfun.mu_2 = 25.0\n",
    "fitfun.mu_2.bounds = (0.0, 100.0)\n",
    "fitfun.sigma_2.bounds = (1e-3, 10.0)\n",
    "\n",
    "model = Model(PointSource(\"fake\", 0.0, 0.0, fitfun))\n",
    "\n",
    "data = DataList(xy)\n",
    "\n",
    "jl = JointLikelihood(model, DataList(xy))\n",
    "_ = jl.fit()"
   ]
  },
  {
   "cell_type": "markdown",
   "id": "61820b1b",
   "metadata": {},
   "source": [
    "We can get our errors as always, but the results cannot be propagated (error propagation assumes Gaussian errors, i.e., symmetric errors)\n",
    "In this case though errors are pretty symmetric, so we are likely in the case\n",
    "where the MLE is actually normally distributed."
   ]
  },
  {
   "cell_type": "code",
   "execution_count": null,
   "id": "608d0c4a",
   "metadata": {},
   "outputs": [],
   "source": [
    "jl.get_errors();"
   ]
  },
  {
   "cell_type": "markdown",
   "id": "5e664344",
   "metadata": {},
   "source": [
    "We need to get the AnalysisResults object that is created after a fit is performed. The AR object is a member of the JointLikelihood object"
   ]
  },
  {
   "cell_type": "code",
   "execution_count": null,
   "id": "f90e70c8",
   "metadata": {},
   "outputs": [],
   "source": [
    "ar = jl.results"
   ]
  },
  {
   "cell_type": "markdown",
   "id": "f375ed73",
   "metadata": {},
   "source": [
    "We can display the results of the analysis. Note, when a fit is performed, the post display is actaully from the internal AR."
   ]
  },
  {
   "cell_type": "code",
   "execution_count": null,
   "id": "0e457a27",
   "metadata": {},
   "outputs": [],
   "source": [
    "ar.display()"
   ]
  },
  {
   "cell_type": "markdown",
   "id": "decb2bed",
   "metadata": {},
   "source": [
    "By default, the equal tail intervals are displayed. We can instead display highest posterior densities (equal in the MLE case)"
   ]
  },
  {
   "cell_type": "code",
   "execution_count": null,
   "id": "de1b8199",
   "metadata": {},
   "outputs": [],
   "source": [
    "ar.display(\"hpd\")"
   ]
  },
  {
   "cell_type": "markdown",
   "id": "7c538a45",
   "metadata": {},
   "source": [
    "The AR stores several properties from the analysis:"
   ]
  },
  {
   "cell_type": "code",
   "execution_count": null,
   "id": "48a5440d",
   "metadata": {},
   "outputs": [],
   "source": [
    "ar.analysis_type"
   ]
  },
  {
   "cell_type": "code",
   "execution_count": null,
   "id": "2b314c2d",
   "metadata": {},
   "outputs": [],
   "source": [
    "ar.covariance_matrix"
   ]
  },
  {
   "cell_type": "code",
   "execution_count": null,
   "id": "103fbc37",
   "metadata": {},
   "outputs": [],
   "source": [
    "ar.get_point_source_flux(1*u.keV, .1*u.MeV)"
   ]
  },
  {
   "cell_type": "code",
   "execution_count": null,
   "id": "aa60fd15",
   "metadata": {},
   "outputs": [],
   "source": [
    "ar.optimized_model"
   ]
  },
  {
   "cell_type": "markdown",
   "id": "d40d8711",
   "metadata": {},
   "source": [
    "## Saving results to disk\n",
    "\n",
    "The beauty of the analysis result is that all of this information can be written to disk and restored at a later time. The statistical parameters, best-fit model, etc. can all be recovered.\n",
    "\n",
    "AR's are stored as a structured FITS file. We write the AR like this:"
   ]
  },
  {
   "cell_type": "code",
   "execution_count": null,
   "id": "492624e1",
   "metadata": {},
   "outputs": [],
   "source": [
    "ar.write_to(\"test_mle.fits\", overwrite=True)"
   ]
  },
  {
   "cell_type": "markdown",
   "id": "18f74a46",
   "metadata": {},
   "source": [
    "The FITS file can be examines with any normal FITS reader."
   ]
  },
  {
   "cell_type": "code",
   "execution_count": null,
   "id": "5382dfe7",
   "metadata": {},
   "outputs": [],
   "source": [
    "import astropy.io.fits as fits"
   ]
  },
  {
   "cell_type": "code",
   "execution_count": null,
   "id": "78ad8fad",
   "metadata": {},
   "outputs": [],
   "source": [
    "ar_fits = fits.open('test_mle.fits')\n",
    "ar_fits.info()"
   ]
  },
  {
   "cell_type": "markdown",
   "id": "fe62b085",
   "metadata": {},
   "source": [
    "However, to easily pull the results back into the 3ML framework, we use the ${\\tt load\\_analysis\\_results}$ function:"
   ]
  },
  {
   "cell_type": "code",
   "execution_count": null,
   "id": "341cd984",
   "metadata": {},
   "outputs": [],
   "source": [
    "ar_reloaded = load_analysis_results(\"test_mle.fits\")"
   ]
  },
  {
   "cell_type": "code",
   "execution_count": null,
   "id": "2f5a5a87",
   "metadata": {},
   "outputs": [],
   "source": [
    "ar_reloaded.get_statistic_frame()"
   ]
  },
  {
   "cell_type": "markdown",
   "id": "ab032323",
   "metadata": {},
   "source": [
    "You can get a DataFrame with the saved results:"
   ]
  },
  {
   "cell_type": "code",
   "execution_count": null,
   "id": "1cac9cab",
   "metadata": {},
   "outputs": [],
   "source": [
    "ar_reloaded.get_data_frame()"
   ]
  },
  {
   "cell_type": "markdown",
   "id": "b129fb2c",
   "metadata": {},
   "source": [
    "## Analysis Result Sets"
   ]
  },
  {
   "cell_type": "markdown",
   "id": "fedf0d3c",
   "metadata": {},
   "source": [
    "When doing time-resolved analysis or analysing a several objects, we can save several AR's is a set. This is achieved with the analysis result set. We can pass an array of AR's to the set and even set up descriptions for the different entries."
   ]
  },
  {
   "cell_type": "code",
   "execution_count": null,
   "id": "e19908ed",
   "metadata": {},
   "outputs": [],
   "source": [
    "from threeML.analysis_results import AnalysisResultsSet\n",
    "\n",
    "analysis_set = AnalysisResultsSet([ar, ar_reloaded])\n",
    "\n",
    "# index as time bins\n",
    "analysis_set.set_bins(\"testing\", [-1, 1], [3, 5], unit=\"s\")\n",
    "\n",
    "# write to disk\n",
    "analysis_set.write_to(\"analysis_set_test.fits\", overwrite=True)"
   ]
  },
  {
   "cell_type": "code",
   "execution_count": null,
   "id": "c57be1a8",
   "metadata": {},
   "outputs": [],
   "source": [
    "analysis_set = load_analysis_results(\"analysis_set_test.fits\")"
   ]
  },
  {
   "cell_type": "code",
   "execution_count": null,
   "id": "4bd8bf5a",
   "metadata": {},
   "outputs": [],
   "source": [
    "analysis_set[0].display()"
   ]
  },
  {
   "cell_type": "markdown",
   "id": "8809279b",
   "metadata": {},
   "source": [
    "## Error propagation\n",
    "In 3ML, we propagate errors for MLE reults via sampling of the covariance matrix *instead* of Taylor exanding around the maximum of the likelihood and computing a jacobain. Thus, we can achieve non-linear error propagation.\n",
    "\n",
    "You can use the results for propagating errors non-linearly for analytical functions:\n"
   ]
  },
  {
   "cell_type": "code",
   "execution_count": null,
   "id": "7ace5fb0",
   "metadata": {},
   "outputs": [],
   "source": [
    "p1 = ar.get_variates(\"fake.spectrum.main.composite.b_1\")\n",
    "p2 = ar.get_variates(\"fake.spectrum.main.composite.a_1\")\n",
    "\n",
    "print(\"Propagating a+b, with a and b respectively:\")\n",
    "print(p1)\n",
    "print(p2)\n",
    "\n",
    "print(\"\\nThis is the result (with errors):\")\n",
    "res = p1 + p2\n",
    "print(res)\n",
    "\n",
    "print(res.equal_tail_interval())"
   ]
  },
  {
   "cell_type": "markdown",
   "id": "e8133928",
   "metadata": {},
   "source": [
    "The propagation accounts for covariances. For example this\n",
    "has error of zero (of course) since there is perfect covariance."
   ]
  },
  {
   "cell_type": "code",
   "execution_count": null,
   "id": "89662e5b",
   "metadata": {},
   "outputs": [],
   "source": [
    "print(\"\\nThis is 50 * a/a:\")\n",
    "print(50 * p1/p1)"
   ]
  },
  {
   "cell_type": "markdown",
   "id": "e62f843a",
   "metadata": {},
   "source": [
    "You can use arbitrary (np) functions"
   ]
  },
  {
   "cell_type": "code",
   "execution_count": null,
   "id": "37c8d0a9",
   "metadata": {},
   "outputs": [],
   "source": [
    "print(\"\\nThis is arcsinh(b + 5*) / np.log10(b) (why not?)\")\n",
    "print(np.arcsinh(p1 + 5 * p2) / np.log10(p2))"
   ]
  },
  {
   "cell_type": "markdown",
   "id": "ffa79ce5",
   "metadata": {},
   "source": [
    "Errors can become asymmetric. For example, the ratio of two gaussians is\n",
    "asymmetric notoriously:"
   ]
  },
  {
   "cell_type": "code",
   "execution_count": null,
   "id": "6cbdf82a",
   "metadata": {},
   "outputs": [],
   "source": [
    "print(\"\\nRatio a/b:\")\n",
    "print(p2 / p1)"
   ]
  },
  {
   "cell_type": "markdown",
   "id": "b8a76328",
   "metadata": {},
   "source": [
    "You can always use it with arbitrary functions:"
   ]
  },
  {
   "cell_type": "code",
   "execution_count": null,
   "id": "faec649b",
   "metadata": {},
   "outputs": [],
   "source": [
    "def my_function(x, a, b):\n",
    "\n",
    "    return b * x ** a\n",
    "\n",
    "\n",
    "print(\"\\nPropagating using a custom function:\")\n",
    "print(my_function(2.3, p1, p2))"
   ]
  },
  {
   "cell_type": "markdown",
   "id": "2bf1f10d",
   "metadata": {},
   "source": [
    "This is an example of an error propagation to get the plot of the model with its errors\n",
    "(which are propagated without assuming linearity on parameters)"
   ]
  },
  {
   "cell_type": "code",
   "execution_count": null,
   "id": "528677c6",
   "metadata": {},
   "outputs": [],
   "source": [
    "def go(fitfun, ar, model):\n",
    "\n",
    "    fig, ax = plt.subplots()\n",
    "\n",
    "    # Gather the parameter variates\n",
    "\n",
    "    arguments = {}\n",
    "\n",
    "    for par in fitfun.parameters.values():\n",
    "\n",
    "        if par.free:\n",
    "\n",
    "            this_name = par.name\n",
    "\n",
    "            this_variate = ar.get_variates(par.path)\n",
    "\n",
    "            # Do not use more than 1000 values (would make computation too slow for nothing)\n",
    "\n",
    "            if len(this_variate) > 1000:\n",
    "\n",
    "                this_variate = np.random.choice(this_variate, size=1000)\n",
    "\n",
    "            arguments[this_name] = this_variate\n",
    "\n",
    "    # Prepare the error propagator function\n",
    "\n",
    "    pp = ar.propagate(\n",
    "        ar.optimized_model.fake.spectrum.main.shape.evaluate_at, **arguments\n",
    "    )\n",
    "\n",
    "    # You can just use it as:\n",
    "\n",
    "    print(pp(5.0))\n",
    "\n",
    "    # Make the plot\n",
    "\n",
    "    energies = np.linspace(0, 50, 100)\n",
    "\n",
    "    low_curve = np.zeros_like(energies)\n",
    "    middle_curve = np.zeros_like(energies)\n",
    "    hi_curve = np.zeros_like(energies)\n",
    "\n",
    "    free_parameters = model.free_parameters\n",
    "\n",
    "    p = tqdm(total=len(energies), desc=\"Propagating errors\")\n",
    "\n",
    "    with use_astromodels_memoization(False):\n",
    "        for i, e in enumerate(energies):\n",
    "            this_flux = pp(e)\n",
    "\n",
    "            low_bound, hi_bound = this_flux.equal_tail_interval()\n",
    "\n",
    "            low_curve[i], middle_curve[i], hi_curve[i] = (\n",
    "                low_bound,\n",
    "                this_flux.median,\n",
    "                hi_bound,\n",
    "            )\n",
    "\n",
    "            p.update(1)\n",
    "\n",
    "    ax.plot(energies, middle_curve, \"--\", color=\"black\")\n",
    "    ax.fill_between(energies, low_curve, hi_curve, alpha=0.5, color=\"blue\")"
   ]
  },
  {
   "cell_type": "code",
   "execution_count": null,
   "id": "8429ad93",
   "metadata": {
    "tags": [
     "nbsphinx-thumbnail"
    ]
   },
   "outputs": [],
   "source": [
    "go(fitfun, ar, model)"
   ]
  },
  {
   "cell_type": "markdown",
   "id": "6caba4fb",
   "metadata": {},
   "source": [
    "## Bayesian Analysis Results\n",
    "Analysis Results work exactly the same under Bayesian analysis. \n",
    "\n",
    "Let's run the analysis first."
   ]
  },
  {
   "cell_type": "code",
   "execution_count": null,
   "id": "eaf38f2b",
   "metadata": {},
   "outputs": [],
   "source": [
    "\n",
    "for parameter in ar.optimized_model:\n",
    "    \n",
    "    model[parameter.path].value = parameter.value\n",
    "\n",
    "model.fake.spectrum.main.composite.a_1.set_uninformative_prior(Uniform_prior)\n",
    "model.fake.spectrum.main.composite.b_1.set_uninformative_prior(Uniform_prior)\n",
    "model.fake.spectrum.main.composite.F_2.set_uninformative_prior(Log_uniform_prior)\n",
    "model.fake.spectrum.main.composite.mu_2.set_uninformative_prior(Uniform_prior)\n",
    "model.fake.spectrum.main.composite.sigma_2.set_uninformative_prior(Log_uniform_prior)\n",
    "\n",
    "bs = BayesianAnalysis(model, data)\n",
    "bs.set_sampler('emcee')\n",
    "bs.sampler.setup(n_iterations=1000,n_burn_in=100,n_walkers=20 )\n",
    "samples = bs.sample()"
   ]
  },
  {
   "cell_type": "markdown",
   "id": "09da56a6",
   "metadata": {},
   "source": [
    "Again, we grab the results from the BayesianAnalysis object:"
   ]
  },
  {
   "cell_type": "code",
   "execution_count": null,
   "id": "3721ffb0",
   "metadata": {},
   "outputs": [],
   "source": [
    "ar2 = bs.results"
   ]
  },
  {
   "cell_type": "markdown",
   "id": "b7c99c7c",
   "metadata": {},
   "source": [
    "We can write and read the results to/from a file:"
   ]
  },
  {
   "cell_type": "code",
   "execution_count": null,
   "id": "317df93f",
   "metadata": {},
   "outputs": [],
   "source": [
    "ar2.write_to(\"test_bayes.fits\", overwrite=True)"
   ]
  },
  {
   "cell_type": "code",
   "execution_count": null,
   "id": "6855d974",
   "metadata": {},
   "outputs": [],
   "source": [
    "ar2_reloaded = load_analysis_results(\"test_bayes.fits\")"
   ]
  },
  {
   "cell_type": "markdown",
   "id": "04afa5fa",
   "metadata": {},
   "source": [
    "The AR holds the posterior samples from the analysis. We can see the saved and live reults are the same:"
   ]
  },
  {
   "cell_type": "code",
   "execution_count": null,
   "id": "f4b53db3",
   "metadata": {},
   "outputs": [],
   "source": [
    "np.allclose(ar2_reloaded.samples, ar2.samples)"
   ]
  },
  {
   "cell_type": "markdown",
   "id": "0d680b94",
   "metadata": {},
   "source": [
    "**NOTE:** *MLE AR's store samples as well. These are the samples from the covariance matrix*\n",
    "\n",
    "We can examine the marginal distributions of the parameters:"
   ]
  },
  {
   "cell_type": "code",
   "execution_count": null,
   "id": "8072993a",
   "metadata": {},
   "outputs": [],
   "source": [
    "fig = ar2.corner_plot();\n"
   ]
  },
  {
   "cell_type": "markdown",
   "id": "304908ff",
   "metadata": {},
   "source": [
    "We can return pandas DataFrames with equal tail or HPD results."
   ]
  },
  {
   "cell_type": "code",
   "execution_count": null,
   "id": "817e6955",
   "metadata": {},
   "outputs": [],
   "source": [
    "ar2.get_data_frame(\"equal tail\")"
   ]
  },
  {
   "cell_type": "code",
   "execution_count": null,
   "id": "32ca5718",
   "metadata": {},
   "outputs": [],
   "source": [
    "ar2.get_data_frame(\"hpd\")"
   ]
  },
  {
   "cell_type": "markdown",
   "id": "318c643e",
   "metadata": {},
   "source": [
    "Error propagation operates the same way. Internally, the process is the same as the MLE results, however, the samples are those of the posterior rather than the (assumed) covariance matrix."
   ]
  },
  {
   "cell_type": "code",
   "execution_count": null,
   "id": "c4511672",
   "metadata": {},
   "outputs": [],
   "source": [
    "p1 = ar2.get_variates(\"fake.spectrum.main.composite.b_1\")\n",
    "p2 = ar2.get_variates(\"fake.spectrum.main.composite.a_1\")\n",
    "\n",
    "print(p1)\n",
    "print(p2)\n",
    "\n",
    "res = p1 + p2\n",
    "\n",
    "print(res)\n"
   ]
  },
  {
   "cell_type": "markdown",
   "id": "26210145",
   "metadata": {},
   "source": [
    "To demonstrate how the two objects (MLE and Bayes) are the same, we see that our plotting function written for the MLE result works on our Bayesian results seamlessly."
   ]
  },
  {
   "cell_type": "code",
   "execution_count": null,
   "id": "3f6e34f2",
   "metadata": {},
   "outputs": [],
   "source": [
    "go(fitfun, ar2, model)"
   ]
  },
  {
   "cell_type": "code",
   "execution_count": null,
   "id": "b8019dc9",
   "metadata": {},
   "outputs": [],
   "source": []
  }
 ],
 "metadata": {
  "jupytext": {
   "formats": "ipynb,md"
  },
  "kernelspec": {
   "display_name": "Python 3",
   "language": "python",
   "name": "python3"
  }
 },
 "nbformat": 4,
 "nbformat_minor": 5
}
