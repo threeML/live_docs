{
 "cells": [
  {
   "cell_type": "markdown",
   "id": "3d93657d",
   "metadata": {},
   "source": [
    "# Fermi-LAT via FermiPyLike"
   ]
  },
  {
   "cell_type": "markdown",
   "id": "2540114a",
   "metadata": {},
   "source": [
    "In this Example we show how to use the fermipy plugin in threeML. We perform a Binned likelihood analysis and a Bayesian analysis of the Crab, optimizing the parameters of the Crab Pulsar (PSR J0534+2200) keeping fixed the parameters of the Crab Nebula. In the model, the nebula is described by two sources, one representing the synchrotron spectrum, the othet the Inverse Compton emission.\n",
    "In this example we show how to download Fermi-LAT data, how to build a model starting from the 4FGL, how to free and fix parameters of the sources in the model, and how to perform a spectral analysis using the fermipy plugin."
   ]
  },
  {
   "cell_type": "code",
   "execution_count": null,
   "id": "73b12efc",
   "metadata": {
    "lines_to_next_cell": 2
   },
   "outputs": [],
   "source": [
    "import warnings\n",
    "warnings.simplefilter('ignore')\n",
    "import numpy as np\n",
    "np.seterr(all=\"ignore\")\n",
    "import shutil\n",
    "from IPython.display import Image,display\n",
    "import glob\n",
    "from pathlib import Path\n",
    "import matplotlib as mpl\n",
    "from matplotlib import pyplot as plt\n",
    "from astropy.io import fits as pyfits\n",
    "import scipy as sp\n"
   ]
  },
  {
   "cell_type": "code",
   "execution_count": null,
   "id": "258620b3",
   "metadata": {
    "lines_to_next_cell": 2
   },
   "outputs": [],
   "source": [
    "%%capture\n",
    "from threeML import *\n"
   ]
  },
  {
   "cell_type": "code",
   "execution_count": null,
   "id": "67e166f5",
   "metadata": {
    "lines_to_next_cell": 0
   },
   "outputs": [],
   "source": [
    "from jupyterthemes import jtplot\n",
    "%matplotlib inline\n",
    "jtplot.style(context=\"talk\", fscale=1, ticks=True, grid=False)\n",
    "set_threeML_style()\n",
    "silence_warnings()\n"
   ]
  },
  {
   "cell_type": "markdown",
   "id": "4bbe147a",
   "metadata": {},
   "source": []
  },
  {
   "cell_type": "markdown",
   "id": "14efeb10",
   "metadata": {},
   "source": [
    "## The Fermi 4FGL catalog\n",
    "Let's interrogate the 4FGL to get the sources in a radius of 20.0 deg around the Crab"
   ]
  },
  {
   "cell_type": "code",
   "execution_count": null,
   "id": "73c05742",
   "metadata": {},
   "outputs": [],
   "source": [
    "lat_catalog = FermiLATSourceCatalog()\n",
    "\n",
    "ra, dec, table = lat_catalog.search_around_source(\"Crab\", radius=20.0)\n",
    "\n",
    "table"
   ]
  },
  {
   "cell_type": "markdown",
   "id": "f7bf884a",
   "metadata": {},
   "source": [
    "This gets a 3ML model (a Model instance) from the table above, where every source in the 4FGL becomes a Source instance. Note that by default all parameters of all sources are fixed."
   ]
  },
  {
   "cell_type": "code",
   "execution_count": null,
   "id": "1e8a8f3c",
   "metadata": {},
   "outputs": [],
   "source": [
    "model = lat_catalog.get_model()"
   ]
  },
  {
   "cell_type": "markdown",
   "id": "f15a3dbe",
   "metadata": {},
   "source": [
    "Let's free all the normalizations within 3 deg from the center."
   ]
  },
  {
   "cell_type": "code",
   "execution_count": null,
   "id": "e2c9960f",
   "metadata": {},
   "outputs": [],
   "source": [
    "model.free_point_sources_within_radius(3.0, normalization_only=True)\n",
    "\n",
    "model.display()"
   ]
  },
  {
   "cell_type": "markdown",
   "id": "99c64f24",
   "metadata": {},
   "source": [
    "but then let's fix the sync and the IC components of the Crab nebula (cannot fit them with just one month of data) (these two methods are equivalent)"
   ]
  },
  {
   "cell_type": "code",
   "execution_count": null,
   "id": "08f0a863",
   "metadata": {},
   "outputs": [],
   "source": [
    "model['Crab_IC.spectrum.main.Log_parabola.K'].fix = True\n",
    "model.Crab_synch.spectrum.main.Powerlaw.K.fix     = True"
   ]
  },
  {
   "cell_type": "markdown",
   "id": "ee799f76",
   "metadata": {},
   "source": [
    "However, let's free the index of the Crab Pulsar"
   ]
  },
  {
   "cell_type": "code",
   "execution_count": null,
   "id": "06c29382",
   "metadata": {},
   "outputs": [],
   "source": [
    "model.PSR_J0534p2200.spectrum.main.Super_cutoff_powerlaw.index.free = True\n",
    "\n",
    "model.display()"
   ]
  },
  {
   "cell_type": "code",
   "execution_count": null,
   "id": "61e20b7d",
   "metadata": {},
   "outputs": [],
   "source": [
    "# Download data from Jan 01 2010 to February 1 2010\n",
    "\n",
    "tstart = \"2010-01-01 00:00:00\"\n",
    "tstop  = \"2010-02-01 00:00:00\"\n",
    "\n",
    "# Note that this will understand if you already download these files, and will\n",
    "# not do it twice unless you change your selection or the outdir\n",
    "\n",
    "evfile, scfile = download_LAT_data(\n",
    "    ra,\n",
    "    dec,\n",
    "    20.0,\n",
    "    tstart,\n",
    "    tstop,\n",
    "    time_type=\"Gregorian\",\n",
    "    destination_directory=\"Crab_data\",\n",
    ")"
   ]
  },
  {
   "cell_type": "markdown",
   "id": "5868a467",
   "metadata": {},
   "source": [
    "## Configuration for Fermipy\n",
    "\n",
    "3ML provides and intreface into [Fermipy](https://fermipy.readthedocs.io/en/latest/) via the **FermipyLike** plugin. We can use it to generate basic configuration files.\n"
   ]
  },
  {
   "cell_type": "markdown",
   "id": "140d94e6",
   "metadata": {},
   "source": [
    ".. note::\n",
    "    Currently, the FermipyLike plugin does not provide an interface to handle extended sources. This will change\n"
   ]
  },
  {
   "cell_type": "code",
   "execution_count": null,
   "id": "749ea02b",
   "metadata": {},
   "outputs": [],
   "source": [
    "config = FermipyLike.get_basic_config(evfile=evfile, scfile=scfile, ra=ra, dec=dec, fermipy_verbosity = 1, fermitools_chatter = 0)\n",
    "\n",
    "# See what we just got\n",
    "\n",
    "config.display()"
   ]
  },
  {
   "cell_type": "markdown",
   "id": "582fc714",
   "metadata": {},
   "source": [
    "You can of course modify the configuration as a dictionary"
   ]
  },
  {
   "cell_type": "code",
   "execution_count": null,
   "id": "62b0ba55",
   "metadata": {},
   "outputs": [],
   "source": [
    "config[\"selection\"][\"emax\"] = 300000.0"
   ]
  },
  {
   "cell_type": "markdown",
   "id": "19a9cb1d",
   "metadata": {},
   "source": [
    "and even add sections"
   ]
  },
  {
   "cell_type": "code",
   "execution_count": null,
   "id": "ed39b6f2",
   "metadata": {},
   "outputs": [],
   "source": [
    "config[\"gtlike\"] = {\"edisp\": False}\n",
    "\n",
    "config.display()"
   ]
  },
  {
   "cell_type": "markdown",
   "id": "f324291b",
   "metadata": {},
   "source": [
    "### FermipyLike\n",
    "Let's create an instance of the plugin/ Note that here no processing is made, because fermipy still doesn't know about the model you want to use.\n",
    "\n"
   ]
  },
  {
   "cell_type": "code",
   "execution_count": null,
   "id": "33142765",
   "metadata": {},
   "outputs": [],
   "source": [
    "LAT = FermipyLike(\"LAT\", config)"
   ]
  },
  {
   "cell_type": "markdown",
   "id": "2a2e1add",
   "metadata": {},
   "source": [
    "The plugin modifies the configuration as needed to get the output files in a unique place, which will stay the same as long as your selection does not change."
   ]
  },
  {
   "cell_type": "code",
   "execution_count": null,
   "id": "583ab479",
   "metadata": {},
   "outputs": [],
   "source": [
    "config.display()"
   ]
  },
  {
   "cell_type": "markdown",
   "id": "0d744b0f",
   "metadata": {},
   "source": [
    "Here is where the fermipy processing happens (the .setup method)"
   ]
  },
  {
   "cell_type": "code",
   "execution_count": null,
   "id": "bf1ae867",
   "metadata": {},
   "outputs": [],
   "source": [
    "fermipy_output_directory = Path(config['fileio']['outdir'])\n",
    "print('Fermipy Output directoty: %s' % fermipy_output_directory)\n",
    "\n",
    "#This remove the output directory, to start a fresh analysis...\n",
    "\n",
    "if fermipy_output_directory.exists():  shutil.rmtree(fermipy_output_directory)\n",
    "\n",
    "# Here is where the fermipy processing happens (the .setup method)\n",
    "\n",
    "data = DataList(LAT)\n",
    "\n",
    "jl = JointLikelihood(model, data)"
   ]
  },
  {
   "cell_type": "markdown",
   "id": "160cdb13",
   "metadata": {},
   "source": [
    "### Performing the fit"
   ]
  },
  {
   "cell_type": "code",
   "execution_count": null,
   "id": "3b5415cc",
   "metadata": {},
   "outputs": [],
   "source": [
    "jl.set_minimizer(\"ROOT\")\n",
    "\n",
    "res = jl.fit()"
   ]
  },
  {
   "cell_type": "markdown",
   "id": "5fb4ebe7",
   "metadata": {},
   "source": [
    "Now let's compute the errors on the best fit parameters\n",
    "\n"
   ]
  },
  {
   "cell_type": "code",
   "execution_count": null,
   "id": "51315c61",
   "metadata": {},
   "outputs": [],
   "source": [
    "res = jl.get_errors()"
   ]
  },
  {
   "cell_type": "markdown",
   "id": "e83f8acb",
   "metadata": {},
   "source": [
    "We might also want to look at the profile of the likelihood for each parameter."
   ]
  },
  {
   "cell_type": "code",
   "execution_count": null,
   "id": "2def0fe5",
   "metadata": {},
   "outputs": [],
   "source": [
    "res = jl.get_contours(\n",
    "    model.PSR_J0534p2200.spectrum.main.Super_cutoff_powerlaw.index,-2.0,-1.6,30\n",
    ")"
   ]
  },
  {
   "cell_type": "code",
   "execution_count": null,
   "id": "44b5d39e",
   "metadata": {},
   "outputs": [],
   "source": [
    "res[-1]"
   ]
  },
  {
   "cell_type": "markdown",
   "id": "1659d30f",
   "metadata": {},
   "source": [
    "Or we might want to produce a contour plot"
   ]
  },
  {
   "cell_type": "code",
   "execution_count": null,
   "id": "a0bbda82",
   "metadata": {},
   "outputs": [],
   "source": [
    "res = jl.get_contours(\n",
    "    'PSR_J0534p2200.spectrum.main.Super_cutoff_powerlaw.K',0.7e-13,1.3e-13, 20,\n",
    "    'PSR_J0534p2200.spectrum.main.Super_cutoff_powerlaw.index',-2.0,-1.6, 20\n",
    ")"
   ]
  },
  {
   "cell_type": "code",
   "execution_count": null,
   "id": "f7fa9e0c",
   "metadata": {
    "tags": [
     "nbsphinx-thumbnail"
    ]
   },
   "outputs": [],
   "source": [
    "res[-1]"
   ]
  },
  {
   "cell_type": "markdown",
   "id": "5afac2c0",
   "metadata": {},
   "source": [
    "**Pro-trick:** We can also axcess the GTAnalysis object of fermipy:"
   ]
  },
  {
   "cell_type": "code",
   "execution_count": null,
   "id": "2edebb12",
   "metadata": {},
   "outputs": [],
   "source": [
    "#res = jl.fit()\n",
    "#LAT.gta.write_roi('test',make_plots=True)"
   ]
  },
  {
   "cell_type": "markdown",
   "id": "7765156b",
   "metadata": {},
   "source": [
    "All the plots are saved in the output directory as png files:\n",
    "\n"
   ]
  },
  {
   "cell_type": "code",
   "execution_count": null,
   "id": "dfd7c2e2",
   "metadata": {},
   "outputs": [],
   "source": [
    "#pngs=Path(f\"{fermipy_output_directory}\").glob(\"*png\")\n",
    "#for png in pngs:\n",
    "#    print(png)\n",
    "#    my_image=Image(str(png))\n",
    "#    display(my_image)"
   ]
  },
  {
   "cell_type": "markdown",
   "id": "6e55250c",
   "metadata": {},
   "source": [
    "We can also plot the resulting model:"
   ]
  },
  {
   "cell_type": "code",
   "execution_count": null,
   "id": "5f5b546d",
   "metadata": {},
   "outputs": [],
   "source": [
    "energies=sp.logspace(1,8,100) *u.MeV\n",
    "fig, ax=plt.subplots()\n",
    "# we only want to visualize the relevant sources...\n",
    "src_to_plot=['Crab','PSR_J0534p2200']\n",
    "# Now loop over all point sources and plot them\n",
    "for source_name, point_source in model.point_sources.items():\n",
    "    for src in src_to_plot: \n",
    "        if src in source_name: \n",
    "            # Plot the sum of all components for this source\n",
    "\n",
    "            ax.loglog(energies, point_source(energies),label=source_name)\n",
    "            # If there is more than one component, plot them also separately\n",
    "\n",
    "            if len(point_source.components) > 1:\n",
    "\n",
    "                for component_name, component in point_source.components.items():\n",
    "                    ax.loglog(energies,component.shape(energies),\n",
    "                              '--',label=f\"{component_name} of {source_name}\")\n",
    "    \n",
    "# Add a legend\n",
    "ax.legend(loc=0,frameon=False)\n",
    "\n",
    "ax.set_xlabel(\"Energy (MeV)\")\n",
    "ax.set_ylabel(r\"Flux (ph cm$^{-2}$ s$^{-1}$ keV$^{-1}$\")\n",
    "ax.set_ylim([1e-20,1e-3])\n",
    "\n",
    "#show the plot\n",
    "fig"
   ]
  },
  {
   "cell_type": "markdown",
   "id": "bfb2867a",
   "metadata": {},
   "source": [
    "We can also do a bayesian analysis.\n",
    "\n",
    "This will set priors based on the current defined min-max (log-uniform or uniform)\n"
   ]
  },
  {
   "cell_type": "code",
   "execution_count": null,
   "id": "bbf9de2a",
   "metadata": {},
   "outputs": [],
   "source": [
    "\n",
    "for param in model.free_parameters.values():\n",
    "    if param.has_transformation():\n",
    "        param.set_uninformative_prior( Log_uniform_prior )\n",
    "    else:\n",
    "        param.set_uninformative_prior( Uniform_prior )"
   ]
  },
  {
   "cell_type": "code",
   "execution_count": null,
   "id": "f0d5f02b",
   "metadata": {},
   "outputs": [],
   "source": [
    "#It's better to remove the output directory,...\n",
    "shutil.rmtree(fermipy_output_directory)\n",
    "\n",
    "bayes = BayesianAnalysis(model, data)"
   ]
  },
  {
   "cell_type": "code",
   "execution_count": null,
   "id": "506b5662",
   "metadata": {
    "lines_to_next_cell": 2
   },
   "outputs": [],
   "source": [
    "bayes.set_sampler('emcee')\n",
    "\n",
    "n_walkers = 10\n",
    "burn_in = 10\n",
    "n_samples = 500\n",
    "\n",
    "bayes.sampler.setup(n_iterations=n_samples,n_burn_in=burn_in,n_walkers=n_walkers )\n",
    "\n",
    "res = bayes.sample()\n"
   ]
  },
  {
   "cell_type": "markdown",
   "id": "d61d4632",
   "metadata": {},
   "source": [
    "You can access to the parameter range like this (HPD):"
   ]
  },
  {
   "cell_type": "code",
   "execution_count": null,
   "id": "fc607a18",
   "metadata": {},
   "outputs": [],
   "source": [
    "this_K = bayes.results.get_variates(\n",
    "    'PSR_J0534p2200.spectrum.main.Super_cutoff_powerlaw.K'\n",
    ")\n",
    "this_idx = bayes.results.get_variates(\n",
    "    'PSR_J0534p2200.spectrum.main.Super_cutoff_powerlaw.index'\n",
    ")\n",
    "\n",
    "print('Highest_posterior_density_intervals :')\n",
    "print('K (68%%):     %10.2e,%10.2e' % this_K.highest_posterior_density_interval(cl=.68))\n",
    "print('K (95%%):     %10.2e,%10.2e' % this_K.highest_posterior_density_interval(cl=.95))\n",
    "print('Index (68%%): %10.2e,%10.2e' % this_idx.highest_posterior_density_interval(cl=.68))\n",
    "print('Index (95%%): %10.2e,%10.2e' % this_idx.highest_posterior_density_interval(cl=.95))"
   ]
  },
  {
   "cell_type": "code",
   "execution_count": null,
   "id": "454a4fc5",
   "metadata": {},
   "outputs": [],
   "source": [
    "corner_figure = bayes.results.corner_plot()\n",
    "corner_figure"
   ]
  },
  {
   "cell_type": "code",
   "execution_count": null,
   "id": "d191c7ff",
   "metadata": {},
   "outputs": [],
   "source": []
  }
 ],
 "metadata": {
  "jupytext": {
   "formats": "ipynb,md"
  },
  "kernelspec": {
   "display_name": "Python 3",
   "language": "python",
   "name": "python3"
  }
 },
 "nbformat": 4,
 "nbformat_minor": 5
}
