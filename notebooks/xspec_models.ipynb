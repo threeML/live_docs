{
 "cells": [
  {
   "cell_type": "markdown",
   "id": "68a021ea",
   "metadata": {},
   "source": [
    "\\---\n",
    "jupyter:\n",
    "  jupytext:\n",
    "    formats: ipynb,md\n",
    "    text_representation:\n",
    "      extension: .md\n",
    "      format_name: markdown\n",
    "      format_version: '1.2'\n",
    "      jupytext_version: 1.7.1\n",
    "  kernelspec:\n",
    "    display_name: Python 3\n",
    "    language: python\n",
    "    name: python3\n",
    "---"
   ]
  },
  {
   "cell_type": "markdown",
   "id": "399fdc88",
   "metadata": {
    "lines_to_next_cell": 2
   },
   "source": [
    "## Working with XSPEC models\n",
    "\n",
    "One of the most powerful aspects of **XSPEC** is a huge modeling community. While in 3ML, we are focused on building a powerful and modular data analysis tool, we cannot neglect the need for many of the models thahat already exist in **XSPEC** and thus provide support for them via **astromodels** directly in 3ML. \n",
    "\n",
    "For details on installing **astromodels** with **XSPEC** support, visit the 3ML or **astromodels** installation page. \n",
    "\n",
    "\n",
    "Let's explore how we can use **XSPEC** spectral models in 3ML. "
   ]
  },
  {
   "cell_type": "code",
   "execution_count": null,
   "id": "3427f677",
   "metadata": {},
   "outputs": [],
   "source": [
    "import warnings\n",
    "warnings.simplefilter('ignore')\n",
    "import numpy as np\n",
    "np.seterr(all=\"ignore\")"
   ]
  },
  {
   "cell_type": "code",
   "execution_count": null,
   "id": "e754230a",
   "metadata": {},
   "outputs": [],
   "source": [
    "import matplotlib.pyplot as plt"
   ]
  },
  {
   "cell_type": "code",
   "execution_count": null,
   "id": "f209185e",
   "metadata": {
    "lines_to_next_cell": 2
   },
   "outputs": [],
   "source": [
    "%%capture\n",
    "from threeML import set_threeML_style\n",
    "from jupyterthemes import jtplot\n",
    "%matplotlib inline\n",
    "jtplot.style(context=\"talk\", fscale=1, ticks=True, grid=False)\n",
    "\n",
    "\n",
    "set_threeML_style()"
   ]
  },
  {
   "cell_type": "markdown",
   "id": "857729c4",
   "metadata": {},
   "source": [
    "We do not load the models by default as this takes some time and 3ML should load quickly. However, if you need the **XSPEC** models, they are imported from astromodels like this:"
   ]
  },
  {
   "cell_type": "code",
   "execution_count": null,
   "id": "b307a0d5",
   "metadata": {},
   "outputs": [],
   "source": [
    "from astromodels.xspec.factory import *"
   ]
  },
  {
   "cell_type": "markdown",
   "id": "61204680",
   "metadata": {},
   "source": [
    "The models are indexed with *XS_* before the typical **XSPEC** model names."
   ]
  },
  {
   "cell_type": "code",
   "execution_count": null,
   "id": "e7c37032",
   "metadata": {},
   "outputs": [],
   "source": [
    "plaw = XS_powerlaw()\n",
    "phabs = XS_phabs()\n",
    "phabs\n"
   ]
  },
  {
   "cell_type": "markdown",
   "id": "bde178f6",
   "metadata": {},
   "source": [
    "The spectral models behave just as any other **astromodels** spectral model and can be used in combination with other **astromodels** spectral models."
   ]
  },
  {
   "cell_type": "code",
   "execution_count": null,
   "id": "336096d9",
   "metadata": {},
   "outputs": [],
   "source": [
    "from astromodels import Powerlaw\n",
    "\n",
    "am_plaw = Powerlaw()\n",
    "\n",
    "plaw_with_abs = am_plaw*phabs\n",
    "\n",
    "\n",
    "fig, ax =plt.subplots()\n",
    "\n",
    "energy_grid = np.linspace(.1,10.,1000)\n",
    "\n",
    "ax.loglog(energy_grid,plaw_with_abs(energy_grid))\n",
    "ax.set_xlabel('energy')\n",
    "ax.set_ylabel('flux')\n"
   ]
  },
  {
   "cell_type": "markdown",
   "id": "865c1e51",
   "metadata": {},
   "source": [
    "## XSPEC Settings\n",
    "\n",
    "Many **XSPEC** models depend on external abundances, cross-sections, and cosmological parameters. We provide an interface to control these directly.\n",
    "\n",
    "Simply import the **XSPEC** settings like so:"
   ]
  },
  {
   "cell_type": "code",
   "execution_count": null,
   "id": "6d73fd8b",
   "metadata": {},
   "outputs": [],
   "source": [
    "from astromodels.xspec.xspec_settings import *"
   ]
  },
  {
   "cell_type": "markdown",
   "id": "a48e91fc",
   "metadata": {},
   "source": [
    "Calling the functions without arguments simply returns their current settings"
   ]
  },
  {
   "cell_type": "code",
   "execution_count": null,
   "id": "f7772bf9",
   "metadata": {},
   "outputs": [],
   "source": [
    "xspec_abund()"
   ]
  },
  {
   "cell_type": "code",
   "execution_count": null,
   "id": "f901f845",
   "metadata": {},
   "outputs": [],
   "source": [
    "xspec_xsect()"
   ]
  },
  {
   "cell_type": "code",
   "execution_count": null,
   "id": "d394f2d6",
   "metadata": {},
   "outputs": [],
   "source": [
    "xspec_cosmo()"
   ]
  },
  {
   "cell_type": "markdown",
   "id": "e3d2430d",
   "metadata": {},
   "source": [
    "To change the settings for abundance and cross-section, provide strings with the normal **XSPEC** naming conventions."
   ]
  },
  {
   "cell_type": "code",
   "execution_count": null,
   "id": "69839b33",
   "metadata": {},
   "outputs": [],
   "source": [
    "xspec_abund('wilm')\n",
    "xspec_abund()"
   ]
  },
  {
   "cell_type": "code",
   "execution_count": null,
   "id": "af07100c",
   "metadata": {},
   "outputs": [],
   "source": [
    "xspec_xsect('bcmc')\n",
    "xspec_xsect()"
   ]
  },
  {
   "cell_type": "markdown",
   "id": "ab22ad53",
   "metadata": {},
   "source": [
    "To alter the cosmological parameters, one passes either the parameters that should be changed, or all three:"
   ]
  },
  {
   "cell_type": "code",
   "execution_count": null,
   "id": "74aa44f3",
   "metadata": {},
   "outputs": [],
   "source": [
    "xspec_cosmo(H0=68.)\n",
    "xspec_cosmo()"
   ]
  },
  {
   "cell_type": "code",
   "execution_count": null,
   "id": "587f3984",
   "metadata": {},
   "outputs": [],
   "source": [
    "xspec_cosmo(H0=68.,q0=.1,lambda_0=70.)\n",
    "xspec_cosmo()"
   ]
  }
 ],
 "metadata": {
  "jupytext": {
   "cell_metadata_filter": "-all",
   "main_language": "python",
   "notebook_metadata_filter": "-all"
  }
 },
 "nbformat": 4,
 "nbformat_minor": 5
}
