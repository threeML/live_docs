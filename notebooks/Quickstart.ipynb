{
 "cells": [
  {
   "cell_type": "markdown",
   "id": "f866e113",
   "metadata": {},
   "source": [
    "# Quickstart\n",
    "\n",
    "In this simple example we will generate some simulated data, and fit them with 3ML."
   ]
  },
  {
   "cell_type": "markdown",
   "id": "1b01bd18",
   "metadata": {},
   "source": [
    "Let's start by generating our dataset:\n"
   ]
  },
  {
   "cell_type": "code",
   "execution_count": null,
   "id": "04907af3",
   "metadata": {
    "lines_to_next_cell": 2
   },
   "outputs": [],
   "source": [
    "import warnings\n",
    "warnings.simplefilter('ignore')\n",
    "import numpy as np\n",
    "np.seterr(all=\"ignore\")\n",
    "\n"
   ]
  },
  {
   "cell_type": "code",
   "execution_count": null,
   "id": "e1e37d6a",
   "metadata": {},
   "outputs": [],
   "source": [
    "%%capture\n",
    "from threeML import *"
   ]
  },
  {
   "cell_type": "code",
   "execution_count": null,
   "id": "180a0306",
   "metadata": {
    "lines_to_next_cell": 0
   },
   "outputs": [],
   "source": [
    "from jupyterthemes import jtplot\n",
    "%matplotlib inline\n",
    "jtplot.style(context=\"talk\", fscale=1, ticks=True, grid=False)\n",
    "silence_warnings()\n",
    "set_threeML_style()\n",
    "\n"
   ]
  },
  {
   "cell_type": "markdown",
   "id": "0687bf6b",
   "metadata": {},
   "source": [
    "\n"
   ]
  },
  {
   "cell_type": "code",
   "execution_count": null,
   "id": "023ebd64",
   "metadata": {},
   "outputs": [],
   "source": [
    "# Let's generate some data with y = Powerlaw(x)\n",
    "\n",
    "gen_function = Powerlaw()\n",
    "\n",
    "\n",
    "# Generate a dataset using the power law, and a\n",
    "# constant 30% error\n",
    "\n",
    "x = np.logspace(0, 2, 50)\n",
    "\n",
    "xyl_generator = XYLike.from_function(\"sim_data\", function = gen_function, \n",
    "                                     x = x, \n",
    "                                     yerr = 0.3 * gen_function(x))\n",
    "\n",
    "y = xyl_generator.y\n",
    "y_err = xyl_generator.yerr"
   ]
  },
  {
   "cell_type": "markdown",
   "id": "767aeb47",
   "metadata": {},
   "source": [
    "We can now fit it easily with 3ML:"
   ]
  },
  {
   "cell_type": "code",
   "execution_count": null,
   "id": "250a5cbf",
   "metadata": {},
   "outputs": [],
   "source": [
    "fit_function = Powerlaw()\n",
    "\n",
    "xyl = XYLike(\"data\", x, y, y_err)\n",
    "\n",
    "parameters, like_values = xyl.fit(fit_function)"
   ]
  },
  {
   "cell_type": "markdown",
   "id": "f1bf8a47",
   "metadata": {},
   "source": [
    "Plot data and model:"
   ]
  },
  {
   "cell_type": "code",
   "execution_count": null,
   "id": "b4c83144",
   "metadata": {},
   "outputs": [],
   "source": [
    "fig = xyl.plot(x_scale='log', y_scale='log')"
   ]
  },
  {
   "cell_type": "markdown",
   "id": "635b6d30",
   "metadata": {},
   "source": [
    "Compute the goodness of fit using Monte Carlo simulations (NOTE: if you repeat this exercise from the beginning many time, you should find that the quantity \"gof\" is a random number distributed uniformly between 0 and 1. That is the expected result if the model is a good representation of the data)"
   ]
  },
  {
   "cell_type": "code",
   "execution_count": null,
   "id": "14dee66c",
   "metadata": {},
   "outputs": [],
   "source": [
    "gof, all_results, all_like_values = xyl.goodness_of_fit()\n",
    "\n",
    "print(\"The null-hypothesis probability from simulations is %.2f\" % gof['data'])"
   ]
  },
  {
   "cell_type": "markdown",
   "id": "5b6745fe",
   "metadata": {},
   "source": [
    "The procedure outlined above works for any distribution for the data (Gaussian or Poisson). In this case we are using Gaussian data, thus the log(likelihood) is just half of a $\\chi^2$. We can then also use the $\\chi^2$ test, which gives a close result without performing simulations:"
   ]
  },
  {
   "cell_type": "code",
   "execution_count": null,
   "id": "007c17f1",
   "metadata": {},
   "outputs": [],
   "source": [
    "import scipy.stats\n",
    "\n",
    "# Compute the number of degrees of freedom\n",
    "n_dof = len(xyl.x) - len(fit_function.free_parameters)\n",
    "\n",
    "# Get the observed value for chi2 \n",
    "# (the factor of 2 comes from the fact that the Gaussian log-likelihood is half of a chi2)\n",
    "obs_chi2 = 2 * like_values['-log(likelihood)']['data']\n",
    "\n",
    "theoretical_gof = scipy.stats.chi2(n_dof).sf(obs_chi2)\n",
    "\n",
    "print(\"The null-hypothesis probability from theory is %.2f\" % theoretical_gof)"
   ]
  },
  {
   "cell_type": "markdown",
   "id": "137012a5",
   "metadata": {},
   "source": [
    "There are however many settings where a theoretical answer, such as the one provided by the $\\chi^2$ test, does not exist. A simple example is a fit where data follow the Poisson statistic. In that case, the MC computation can provide the answer."
   ]
  }
 ],
 "metadata": {
  "jupytext": {
   "formats": "ipynb,md"
  },
  "kernelspec": {
   "display_name": "Python 3",
   "language": "python",
   "name": "python3"
  }
 },
 "nbformat": 4,
 "nbformat_minor": 5
}
