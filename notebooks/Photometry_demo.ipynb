{
 "cells": [
  {
   "cell_type": "markdown",
   "id": "3f674228",
   "metadata": {},
   "source": [
    "# Photometric Plugin\n",
    "\n",
    "For optical photometry, we provide the **PhotometryLike** plugin that handles forward folding of a spectral model through filter curves. Let's have a look at the avaiable procedures.\n"
   ]
  },
  {
   "cell_type": "code",
   "execution_count": null,
   "id": "82f47a8c",
   "metadata": {
    "lines_to_next_cell": 2
   },
   "outputs": [],
   "source": [
    "import warnings\n",
    "warnings.simplefilter('ignore')\n",
    "import numpy as np\n",
    "np.seterr(all=\"ignore\")"
   ]
  },
  {
   "cell_type": "code",
   "execution_count": null,
   "id": "7a2f191f",
   "metadata": {},
   "outputs": [],
   "source": [
    "%%capture\n",
    "import matplotlib.pyplot as plt\n",
    "from threeML import *\n",
    "# we will need XPSEC models for extinction\n",
    "from astromodels.xspec import *\n",
    "\n",
    "# The filter library takes a while to load so you must import it explicitly.\n",
    "from threeML.utils.photometry import get_photometric_filter_library\n",
    "\n",
    "threeML_filter_library = get_photometric_filter_library()\n"
   ]
  },
  {
   "cell_type": "code",
   "execution_count": null,
   "id": "f8a12bcc",
   "metadata": {
    "lines_to_next_cell": 0
   },
   "outputs": [],
   "source": [
    "from jupyterthemes import jtplot\n",
    "%matplotlib inline\n",
    "jtplot.style(context=\"talk\", fscale=1, ticks=True, grid=False)\n",
    "silence_warnings()\n",
    "set_threeML_style()\n",
    "\n"
   ]
  },
  {
   "cell_type": "markdown",
   "id": "9f750a1c",
   "metadata": {},
   "source": []
  },
  {
   "cell_type": "markdown",
   "id": "c7fb45ce",
   "metadata": {},
   "source": [
    "## Setup\n",
    "\n",
    "We use [speclite](http://speclite.readthedocs.io/en/latest/ ) to handle optical filters.\n",
    "Therefore, you can easily build your own custom filters, use the built in speclite filters, or use the 3ML filter library that we have built thanks to [Spanish Virtual Observatory](http://svo.cab.inta-csic.es/main/index.php). \n",
    "\n",
    "**If you use these filters, please be sure to cite the proper sources!**\n",
    "\n",
    "### Simple example of building a filter\n",
    "Let's say we have our own 1-m telescope with a Johnson filter and we happen to record the data. We also have simultaneous data at other wavelengths and we want to compare. Let's setup the optical plugin (we'll ignore the other data for now).\n",
    "\n"
   ]
  },
  {
   "cell_type": "code",
   "execution_count": null,
   "id": "0232ac3d",
   "metadata": {},
   "outputs": [],
   "source": [
    "import speclite.filters as spec_filters\n",
    "\n",
    "my_backyard_telescope_filter = spec_filters.load_filter('bessell-R')\n",
    "\n",
    "# NOTE:\n",
    "my_backyard_telescope_filter.name"
   ]
  },
  {
   "cell_type": "markdown",
   "id": "caa40889",
   "metadata": {},
   "source": [
    "NOTE: the filter name is 'bessell-R'. The plugin will look for the name *after* the **'-'** i.e 'R'\n",
    "\n",
    "\n",
    "Now let's build a 3ML plugin via **PhotometryLike**. \n",
    "\n",
    "Our data are entered as keywords with the name of the filter as the keyword and the data in an magnitude,error tuple, i.e. R=(mag,mag_err):"
   ]
  },
  {
   "cell_type": "code",
   "execution_count": null,
   "id": "ed2bfef4",
   "metadata": {},
   "outputs": [],
   "source": [
    "my_backyard_telescope = PhotometryLike.from_kwargs('backyard_astronomy',\n",
    "                         filters=my_backyard_telescope_filter, # the filter\n",
    "                         R=(20,.1) ) # the magnitude and error\n",
    "\n",
    "_ = my_backyard_telescope.display_filters()"
   ]
  },
  {
   "cell_type": "markdown",
   "id": "309cae09",
   "metadata": {},
   "source": [
    "## 3ML filter library\n",
    "Explore the filter library. If you cannot find what you need, it is simple to add your own\n"
   ]
  },
  {
   "cell_type": "code",
   "execution_count": null,
   "id": "7f6fb764",
   "metadata": {},
   "outputs": [],
   "source": [
    "threeML_filter_library.SLOAN"
   ]
  },
  {
   "cell_type": "code",
   "execution_count": null,
   "id": "0e0a0e67",
   "metadata": {},
   "outputs": [],
   "source": [
    "spec_filters.plot_filters(threeML_filter_library.SLOAN.SDSS)"
   ]
  },
  {
   "cell_type": "code",
   "execution_count": null,
   "id": "1a521afa",
   "metadata": {},
   "outputs": [],
   "source": [
    "spec_filters.plot_filters(threeML_filter_library.Herschel.SPIRE)"
   ]
  },
  {
   "cell_type": "code",
   "execution_count": null,
   "id": "026c3c0a",
   "metadata": {},
   "outputs": [],
   "source": [
    "spec_filters.plot_filters(threeML_filter_library.Keck.NIRC2)"
   ]
  },
  {
   "cell_type": "markdown",
   "id": "b55e98df",
   "metadata": {},
   "source": [
    "## Build your own filters\n",
    "\n",
    "Following the example from speclite, we can build our own filters and add them:"
   ]
  },
  {
   "cell_type": "code",
   "execution_count": null,
   "id": "1c2ff73a",
   "metadata": {},
   "outputs": [],
   "source": [
    "fangs_g = spec_filters.FilterResponse(\n",
    "    wavelength = [3800, 4500, 5200] * u.Angstrom,\n",
    "    response = [0, 0.5, 0], meta=dict(group_name='fangs', band_name='g'))\n",
    "fangs_r = spec_filters.FilterResponse(\n",
    "    wavelength = [4800, 5500, 6200] * u.Angstrom,\n",
    "    response = [0, 0.5, 0], meta=dict(group_name='fangs', band_name='r'))\n",
    "\n",
    "fangs = spec_filters.load_filters('fangs-g', 'fangs-r')\n",
    "\n",
    "fangslike = PhotometryLike.from_kwargs('fangs',filters=fangs,g=(20,.1),r=(18,.1))\n",
    "\n",
    "\n",
    "_ = fangslike.display_filters()"
   ]
  },
  {
   "cell_type": "markdown",
   "id": "9ace7faf",
   "metadata": {},
   "source": [
    "## GROND Example\n",
    "\n",
    "Now we will look at GROND. We get the filter from the 3ML filter library.\n",
    "\n",
    "(Just play with tab completion to see what is available!)\n",
    "\n"
   ]
  },
  {
   "cell_type": "code",
   "execution_count": null,
   "id": "8beed9d1",
   "metadata": {},
   "outputs": [],
   "source": [
    "grond = PhotometryLike.from_kwargs('GROND',\n",
    "                       filters=threeML_filter_library.LaSilla.GROND,\n",
    "                       #g=(21.5.93,.23), # we exclude these filters\n",
    "                       #r=(22.,0.12),\n",
    "                       i=(21.8,.01),\n",
    "                       z=(21.2,.01),\n",
    "                       J=(19.6,.01),\n",
    "                       H=(18.6,.01),\n",
    "                       K=(18.,.01))"
   ]
  },
  {
   "cell_type": "code",
   "execution_count": null,
   "id": "718c6a35",
   "metadata": {},
   "outputs": [],
   "source": [
    "_ = grond.display_filters()"
   ]
  },
  {
   "cell_type": "markdown",
   "id": "a5b460fa",
   "metadata": {},
   "source": [
    "### Model specification\n",
    "\n",
    "Here we use XSPEC's dust extinction models for the milky way and the host "
   ]
  },
  {
   "cell_type": "code",
   "execution_count": null,
   "id": "d039773c",
   "metadata": {},
   "outputs": [],
   "source": [
    "spec =  Powerlaw() * XS_zdust() * XS_zdust()\n",
    "\n",
    "data_list = DataList(grond)\n",
    "\n",
    "model = Model(PointSource('grb',0,0,spectral_shape=spec))\n",
    "\n",
    "spec.piv_1 = 1E-2\n",
    "spec.index_1.fix=False\n",
    "spec.redshift_2 = 0.347\n",
    "spec.redshift_2.fix = True\n",
    "\n",
    "spec.e_bmv_2 = 5./2.93\n",
    "spec.e_bmv_2.fix = True\n",
    "spec.rv_2 = 2.93\n",
    "spec.rv_2.fix = True\n",
    "\n",
    "\n",
    "spec.method_2 = 3\n",
    "spec.method_2.fix=True\n",
    "\n",
    "\n",
    "\n",
    "spec.e_bmv_3 = .002/3.08\n",
    "spec.e_bmv_3.fix = True\n",
    "spec.rv_3= 3.08\n",
    "spec.rv_3.fix=True\n",
    "spec.redshift_3 = 0\n",
    "spec.redshift_3.fix=True\n",
    "spec.method_3 = 1\n",
    "spec.method_3.fix=True\n",
    "\n",
    "jl = JointLikelihood(model,data_list)\n"
   ]
  },
  {
   "cell_type": "markdown",
   "id": "8a3f3bc1",
   "metadata": {},
   "source": [
    "We compute $m_{\\rm AB}$ from astromodels photon fluxes. This is done by convolving the differential flux over the filter response:\n",
    "\n",
    "$F[R,f_\\lambda] \\equiv \\int_0^\\infty \\frac{dg}{d\\lambda}(\\lambda)R(\\lambda) \\omega(\\lambda) d\\lambda$\n",
    "\n",
    "where we have converted the astromodels functions to wavelength properly."
   ]
  },
  {
   "cell_type": "code",
   "execution_count": null,
   "id": "f7ce2bc1",
   "metadata": {},
   "outputs": [],
   "source": [
    "_ = jl.fit()"
   ]
  },
  {
   "cell_type": "markdown",
   "id": "cdfb653c",
   "metadata": {},
   "source": [
    "We can now look at the fit in magnitude space or model space as with any plugin.\n"
   ]
  },
  {
   "cell_type": "code",
   "execution_count": null,
   "id": "29eb7745",
   "metadata": {},
   "outputs": [],
   "source": [
    "_=display_photometry_model_magnitudes(jl)"
   ]
  },
  {
   "cell_type": "code",
   "execution_count": null,
   "id": "34e22603",
   "metadata": {},
   "outputs": [],
   "source": [
    "_ = plot_spectra(jl.results,flux_unit='erg/(cm2 s keV)',\n",
    "                              xscale='linear',\n",
    "                              energy_unit='nm',ene_min=1E3, ene_max=1E5, num_ene=200 )"
   ]
  }
 ],
 "metadata": {
  "jupytext": {
   "formats": "ipynb,md"
  },
  "kernelspec": {
   "display_name": "Python 3",
   "language": "python",
   "name": "python3"
  }
 },
 "nbformat": 4,
 "nbformat_minor": 5
}
