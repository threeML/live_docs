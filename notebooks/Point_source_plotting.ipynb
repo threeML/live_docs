{
 "cells": [
  {
   "cell_type": "markdown",
   "id": "fb94c27f",
   "metadata": {},
   "source": [
    "# Point source plotting basics\n",
    "In 3ML, we distinguish between **data** and **model** plotting. Data plots contian real data points and the over-plotted model is (sometimes) folded through an instrument response. Therefore, the x-axis is not always in the same *units* across instruments if there is energy dispersion. \n",
    "\n",
    "However, all instuments see the same model and a multi-wavelength fit can be viewed in model space without complication. 3ML uses one interface to plot both MLE and Bayesian fitted models. To demonstrate we will use toy data simulated from a powerlaw and two gaussians for MLE fits and an exponentially cutoff power law with one gaussian for Bayesian fits.\n",
    "\n",
    "First we load the analysis results:\n"
   ]
  },
  {
   "cell_type": "code",
   "execution_count": null,
   "id": "542ad66d",
   "metadata": {
    "lines_to_next_cell": 2
   },
   "outputs": [],
   "source": [
    "import warnings\n",
    "warnings.simplefilter('ignore')\n",
    "import numpy as np\n",
    "np.seterr(all=\"ignore\")"
   ]
  },
  {
   "cell_type": "code",
   "execution_count": null,
   "id": "efc8efd0",
   "metadata": {},
   "outputs": [],
   "source": [
    "%%capture\n",
    "import matplotlib.pyplot as plt\n",
    "\n",
    "import astropy.units as u\n",
    "from threeML import *\n",
    "from threeML.io.package_data import get_path_of_data_file\n"
   ]
  },
  {
   "cell_type": "code",
   "execution_count": null,
   "id": "91c4965e",
   "metadata": {
    "lines_to_next_cell": 2
   },
   "outputs": [],
   "source": [
    "from jupyterthemes import jtplot\n",
    "%matplotlib inline\n",
    "jtplot.style(context=\"talk\", fscale=1, ticks=True, grid=False)\n",
    "silence_warnings()\n",
    "set_threeML_style()"
   ]
  },
  {
   "cell_type": "markdown",
   "id": "fa3d3580",
   "metadata": {},
   "source": [
    "## Generate some data"
   ]
  },
  {
   "cell_type": "code",
   "execution_count": null,
   "id": "0ab2524e",
   "metadata": {},
   "outputs": [],
   "source": [
    "p = Powerlaw(K=10,piv=10,index=-1.5)\n",
    "\n",
    "p.K.prior = Log_uniform_prior(lower_bound=1, upper_bound=15)\n",
    "p.index.prior = Uniform_prior(lower_bound=-3, upper_bound=0)\n",
    "\n",
    "g1 = Gaussian(F=200,mu=10,sigma=1)\n",
    "g1.F.prior = Log_uniform_prior(lower_bound=100, upper_bound=300)\n",
    "g1.mu.prior= Log_uniform_prior(lower_bound=1, upper_bound=50)\n",
    "g1.sigma.prior = Log_uniform_prior(lower_bound=.01, upper_bound=10)\n",
    "\n",
    "g2 = Gaussian(F=200,mu=50,sigma=1)\n",
    "g2.F.prior = Log_uniform_prior(lower_bound=90, upper_bound=300)\n",
    "g2.mu.prior= Log_uniform_prior(lower_bound=10, upper_bound=100)\n",
    "g2.sigma.prior = Log_uniform_prior(lower_bound=.01, upper_bound=2)\n",
    "\n",
    "f = p + g1 + g2\n",
    "x = np.logspace(0,3,50)\n",
    "\n",
    "xy = XYLike.from_function(\"test\", f, x, poisson_data=True )\n",
    "\n",
    "fig = xy.plot(x_scale=\"log\",y_scale=\"log\");\n",
    "\n",
    "ps = PointSource(\"test\",0,0, spectral_shape=f)\n",
    "model = Model(ps)\n",
    "dl = DataList(xy)"
   ]
  },
  {
   "cell_type": "code",
   "execution_count": null,
   "id": "4c9905e5",
   "metadata": {},
   "outputs": [],
   "source": [
    "bayes = BayesianAnalysis(model, dl)\n",
    "bayes.set_sampler(\"emcee\")\n",
    "bayes.sampler.setup(n_burn_in=500,n_walkers=100, n_iterations=500)\n",
    "bayes.sample(quiet=True)\n",
    "bayes1 = bayes.results"
   ]
  },
  {
   "cell_type": "code",
   "execution_count": null,
   "id": "1b118d64",
   "metadata": {},
   "outputs": [],
   "source": [
    "jl = JointLikelihood(model, dl)\n",
    "jl.fit(quiet=True)\n",
    "mle1 = jl.results"
   ]
  },
  {
   "cell_type": "markdown",
   "id": "2c4a0ad6",
   "metadata": {},
   "source": [
    "## Plotting a single analysis result\n",
    "\n",
    "The easiest way to plot is to call **plot_spectra**. By default, it plots in photon space with a range of 10-40000 keV evaluated at 100 logrithmic points:"
   ]
  },
  {
   "cell_type": "code",
   "execution_count": null,
   "id": "855d6587",
   "metadata": {},
   "outputs": [],
   "source": [
    "_ = plot_spectra(bayes1,ene_min=1,ene_max=1E3, num_ene=300)"
   ]
  },
  {
   "cell_type": "markdown",
   "id": "062d249a",
   "metadata": {},
   "source": [
    "### Flux and energy units\n",
    "We use astropy units to specify both the flux and energy units. \n",
    "* The plotting routine understands photon, energy ($F_{\\nu}$) and $\\nu F_{\n",
    "\\nu}$ flux units;\n",
    "\n",
    "* energy units can be energy, frequency, or wavelength\n",
    "\n",
    "* a custom range can be applied.\n",
    "\n",
    "#### changing flux units\n"
   ]
  },
  {
   "cell_type": "code",
   "execution_count": null,
   "id": "045fcdf5",
   "metadata": {},
   "outputs": [],
   "source": [
    "_ = plot_spectra(mle1,ene_min=1,ene_max=1E3,flux_unit='1/(m2 s MeV)')\n",
    "_ = plot_spectra(mle1,ene_min=1,ene_max=1E3,flux_unit='erg/(cm2 day keV)')\n",
    "_ = plot_spectra(mle1,ene_min=1,ene_max=1E3,flux_unit='keV2/(cm2 s keV)')"
   ]
  },
  {
   "cell_type": "markdown",
   "id": "e81e71bd",
   "metadata": {},
   "source": [
    "#### changing energy units"
   ]
  },
  {
   "cell_type": "code",
   "execution_count": null,
   "id": "43c553a8",
   "metadata": {},
   "outputs": [],
   "source": [
    "_ = plot_spectra(mle1,\n",
    "                              ene_min=.001,\n",
    "                              ene_max=1E3,\n",
    "                              energy_unit='MeV')\n",
    "\n",
    "# energy ranges can also be specified in units\n",
    "_ = plot_spectra(mle1,\n",
    "                              ene_min=1*u.keV,\n",
    "                              ene_max=1*u.MeV)\n",
    "\n",
    "_ = plot_spectra(mle1,\n",
    "                              ene_min=1E3*u.Hz,\n",
    "                              ene_max=1E7*u.Hz)\n",
    "\n",
    "_ = plot_spectra(mle1,\n",
    "                              ene_min=1E1*u.nanometer,\n",
    "                              ene_max=1E3*u.nanometer,\n",
    "                              xscale='linear') # plotting with a linear scale\n"
   ]
  },
  {
   "cell_type": "markdown",
   "id": "ec6a13bb",
   "metadata": {},
   "source": [
    "### Plotting components\n",
    "\n",
    "Sometimes it is interesting to see the components in a composite model. We can specify the **use_components** switch. Here we will use *Bayesian* results. Note that all features work with MLE of Bayesian results."
   ]
  },
  {
   "cell_type": "code",
   "execution_count": null,
   "id": "a3fb05ba",
   "metadata": {
    "tags": [
     "nbsphinx-thumbnail"
    ]
   },
   "outputs": [],
   "source": [
    "_ = plot_spectra(bayes1,\n",
    "                              ene_min=1,\n",
    "                              ene_max=1E3,\n",
    "                              use_components=True,\n",
    "                              num_ene=300\n",
    "                             )\n",
    "\n",
    "_=plt.ylim(bottom=.1,top=1000)"
   ]
  },
  {
   "cell_type": "markdown",
   "id": "7b87e19f",
   "metadata": {},
   "source": [
    "Notice that the duplicated components have the subscripts *n1* and *n2*. If we want to specify which components to plot, we must use these subscripts."
   ]
  },
  {
   "cell_type": "code",
   "execution_count": null,
   "id": "5dbd9f21",
   "metadata": {},
   "outputs": [],
   "source": [
    "_ = plot_spectra(mle1,\n",
    "                              flux_unit='erg/(cm2 s keV)',\n",
    "                              ene_min=1,\n",
    "                              ene_max=1E3,\n",
    "                              use_components=True,\n",
    "                              components_to_use=['Gaussian_n1','Gaussian_n2'])\n",
    "\n",
    "_=plt.ylim(bottom=1E-20)"
   ]
  },
  {
   "cell_type": "markdown",
   "id": "bd87d54a",
   "metadata": {},
   "source": [
    "If we want to see the total model with the components, just add *total* to the components list.\n",
    "\n",
    "Additionally, we can change the confidence interval for the contours from the default of 1$\\sigma$ (0.68) to 2$\\sigma$ (0.95)."
   ]
  },
  {
   "cell_type": "code",
   "execution_count": null,
   "id": "22140380",
   "metadata": {},
   "outputs": [],
   "source": [
    "_ = plot_spectra(bayes1,\n",
    "                              flux_unit='erg/(cm2 s keV)',\n",
    "                              ene_min=1,\n",
    "                              ene_max=1E3,\n",
    "                              use_components=True,\n",
    "                              components_to_use=['total','Gaussian'],\n",
    "                              confidence_level=0.95)\n",
    "                                \n",
    "\n",
    "\n",
    "_=plt.ylim(bottom=1E-9)"
   ]
  },
  {
   "cell_type": "code",
   "execution_count": null,
   "id": "27c37518",
   "metadata": {},
   "outputs": [],
   "source": [
    "_ = plot_spectra(mle1,\n",
    "                              flux_unit='erg/(cm2 s keV)',\n",
    "                              ene_min=1,\n",
    "                              ene_max=1E3,\n",
    "                              use_components=True,\n",
    "                              fit_cmap='jet', # specify a color map\n",
    "                              contour_colors='k', # specify a color for all contours\n",
    "                              components_to_use=['total','Gaussian_n2','Gaussian_n1'])\n",
    "                                \n",
    "\n",
    "\n",
    "_=plt.ylim(bottom=1E-16)"
   ]
  },
  {
   "cell_type": "markdown",
   "id": "9e95f52a",
   "metadata": {},
   "source": [
    "### Additional features\n",
    "Explore the docstring to see all the available options. Default configurations can be altered in the 3ML config file.\n"
   ]
  },
  {
   "cell_type": "markdown",
   "id": "b7c44c24",
   "metadata": {},
   "source": [
    "* Use asymmetric errors and alter the default color map"
   ]
  },
  {
   "cell_type": "code",
   "execution_count": null,
   "id": "a907f653",
   "metadata": {},
   "outputs": [],
   "source": [
    "threeML_config['model_plot']['point_source_plot']['fit_cmap'] = 'plasma'\n",
    "_ = plot_spectra(mle1, equal_tailed=False)"
   ]
  },
  {
   "cell_type": "markdown",
   "id": "d1c664b7",
   "metadata": {},
   "source": [
    "* turn of contours and the legend and increase the number of points plotted"
   ]
  },
  {
   "cell_type": "code",
   "execution_count": null,
   "id": "07407956",
   "metadata": {},
   "outputs": [],
   "source": [
    "_ = plot_spectra(mle1, show_legend=False, show_contours=False, num_ene=500)"
   ]
  },
  {
   "cell_type": "markdown",
   "id": "86dfdc23",
   "metadata": {},
   "source": [
    "* colors or color maps can be specfied"
   ]
  },
  {
   "cell_type": "code",
   "execution_count": null,
   "id": "f7727d04",
   "metadata": {},
   "outputs": [],
   "source": [
    "_ = plot_spectra(mle1, fit_colors='orange', contour_colors='blue')"
   ]
  },
  {
   "cell_type": "markdown",
   "id": "b400a0eb",
   "metadata": {},
   "source": [
    "Further modifications to plotting style, legend style, etc. can be modified either in the 3ML configuration:"
   ]
  },
  {
   "cell_type": "code",
   "execution_count": null,
   "id": "1d076c24",
   "metadata": {},
   "outputs": [],
   "source": [
    "show_configuration(\"model_plot\")"
   ]
  },
  {
   "cell_type": "markdown",
   "id": "2d1243fe",
   "metadata": {},
   "source": [
    "or by directly passing dictionary arguments to the the plot command. Examine the docstring for more details!"
   ]
  },
  {
   "cell_type": "markdown",
   "id": "ab861a34",
   "metadata": {},
   "source": [
    "## Plotting multiple results\n",
    "\n",
    "Any number of results can be plotted together. Simply provide them as arguments. You can mix and match MLE and Bayesian results as well as plotting their components."
   ]
  },
  {
   "cell_type": "code",
   "execution_count": null,
   "id": "43f876bc",
   "metadata": {},
   "outputs": [],
   "source": [
    "_ = plot_spectra(mle1, bayes1, ene_min=1)\n",
    "\n",
    "#_=plt.ylim(bottom=1E-1)"
   ]
  },
  {
   "cell_type": "markdown",
   "id": "a89137bb",
   "metadata": {},
   "source": [
    "Specify particular colors for each analysis and broaden the contours"
   ]
  },
  {
   "cell_type": "code",
   "execution_count": null,
   "id": "9ef15b34",
   "metadata": {},
   "outputs": [],
   "source": [
    "_ = plot_spectra(mle1,\n",
    "                              bayes1,\n",
    "                              ene_min=1.,\n",
    "                              confidence_level=.95,\n",
    "                              equal_tailed=False,\n",
    "                              fit_colors=['orange','green'],\n",
    "                              contour_colors='blue')\n",
    "_ =plt.ylim(bottom=1E-1)"
   ]
  },
  {
   "cell_type": "markdown",
   "id": "461ab700",
   "metadata": {},
   "source": [
    "As with single results, we can choose to plot the components for all the sources."
   ]
  },
  {
   "cell_type": "code",
   "execution_count": null,
   "id": "cdb7344e",
   "metadata": {
    "lines_to_next_cell": 0
   },
   "outputs": [],
   "source": [
    "_ = plot_spectra(mle1,\n",
    "                              bayes1,\n",
    "                              ene_min=1.,\n",
    "                             use_components=True)\n",
    "_=plt.ylim(bottom=1E-4)"
   ]
  },
  {
   "cell_type": "markdown",
   "id": "10694893",
   "metadata": {},
   "source": [
    "\n"
   ]
  }
 ],
 "metadata": {
  "jupytext": {
   "formats": "ipynb,md"
  },
  "kernelspec": {
   "display_name": "Python 3",
   "language": "python",
   "name": "python3"
  }
 },
 "nbformat": 4,
 "nbformat_minor": 5
}
