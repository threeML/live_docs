{
 "cells": [
  {
   "cell_type": "markdown",
   "id": "62837d30",
   "metadata": {},
   "source": [
    "# Spectral Models\n",
    "\n",
    "Spectral models are provided via astromodels. For details, visit the astromodels [documentation](http://astromodels.readthedocs.io/en/latest/Model_tutorial.html). \n",
    "\n",
    "The important points are breifly covered below. \n",
    "\n"
   ]
  },
  {
   "cell_type": "markdown",
   "id": "2609fe41",
   "metadata": {},
   "source": [
    "## Building Custom Models\n",
    "\n",
    "One of the most powerful aspects of astromodels and 3ML is the ability to quickly build custom models on the fly. The source code for a model can be pure python, FORTRAN linked via f2py, C++ linked via cython, etc. Anything that provides a python function can be used to fit data. \n",
    "\n",
    "To build a custom spectral model in 3ML, we need to import a few things that will allow astromodels to recognize your model."
   ]
  },
  {
   "cell_type": "code",
   "execution_count": null,
   "id": "b7613f09",
   "metadata": {},
   "outputs": [],
   "source": [
    "from astromodels.functions.function import Function1D, FunctionMeta, ModelAssertionViolation"
   ]
  },
  {
   "cell_type": "markdown",
   "id": "3452b1e5",
   "metadata": {},
   "source": [
    "Function1D is the base class for 1D spectral models and FunctionMeta is ABC class that ensures all the needed parts of a model are in the class as well as making the class function as it should.\n",
    "\n",
    "\n",
    "There are three basic parts to declaring a model:\n",
    "\n",
    "* the docstring\n",
    "* the units setter\n",
    "* the evaluate function\n",
    "\n",
    "Let's look at the simple case of the power law already define in astromodels.\n"
   ]
  },
  {
   "cell_type": "code",
   "execution_count": null,
   "id": "913c34d7",
   "metadata": {},
   "outputs": [],
   "source": [
    "class Powerlaw(Function1D, metaclass=FunctionMeta):\n",
    "        r\"\"\"\n",
    "        description :\n",
    "            A simple power-law\n",
    "        latex : $ K~\\frac{x}{piv}^{index} $\n",
    "        parameters :\n",
    "            K :\n",
    "                desc : Normalization (differential flux at the pivot value)\n",
    "                initial value : 1.0\n",
    "                is_normalization : True\n",
    "                transformation : log10\n",
    "                min : 1e-30\n",
    "                max : 1e3\n",
    "                delta : 0.1\n",
    "            piv :\n",
    "                desc : Pivot value\n",
    "                initial value : 1\n",
    "                fix : yes\n",
    "            index :\n",
    "                desc : Photon index\n",
    "                initial value : -2\n",
    "                min : -10\n",
    "                max : 10\n",
    "      \n",
    "        \"\"\"\n",
    "\n",
    "\n",
    "        def _set_units(self, x_unit, y_unit):\n",
    "            # The index is always dimensionless\n",
    "            self.index.unit = astropy_units.dimensionless_unscaled\n",
    "\n",
    "            # The pivot energy has always the same dimension as the x variable\n",
    "            self.piv.unit = x_unit\n",
    "\n",
    "            # The normalization has the same units as the y\n",
    "\n",
    "            self.K.unit = y_unit\n",
    "\n",
    "        # noinspection PyPep8Naming\n",
    "        def evaluate(self, x, K, piv, index):\n",
    "\n",
    "            xx = np.divide(x, piv)\n",
    "\n",
    "            return K * np.power(xx, index)\n",
    "\n"
   ]
  },
  {
   "cell_type": "markdown",
   "id": "e70826f6",
   "metadata": {},
   "source": [
    "### The docstring\n",
    "\n",
    "We have used the docstring interface to provide a YAML description of the model. This sets up the important information used in the fitting process and record keeping. The docstring has three parts:\n",
    "\n",
    "- description\n",
    "    - The description is a text string that provides readable info about the model. Nothing fancy, but good descriptions help to inform the user.\n",
    "- latex\n",
    "    - If the model is analytic, a latex formula can be included\n",
    "- parameters\n",
    "    - For each parameter, a description and initial value must be included. Transformations for fitting, min/max values and fixing the parameter can also be described here.\n",
    "    \n",
    "    \n",
    "Keep in mind that this is in YAML format.\n",
    "\n",
    "### Set units\n",
    "\n",
    "3ML and astromodels keep track of units for you. However, a model must be set up to properly describe the units with astropy's unit system. Keep in mind that models are fit with a differential photon flux, \n",
    "\n",
    "$$\\frac{d N_p}{dA dt dE}$$\n",
    "\n",
    "so your units should reflect this convention. Therefore, proper normalizations should be taken into account.\n",
    "\n",
    "\n",
    "### Evaluate\n",
    "This is where the function is evaluated. The first argumument **must be called x** and the parameter names and ordering must reflect what is in the docstring. Any number of operations can take place inside the evaluate call, but remember that the return must be in the form of a differential photon flux. \n",
    "\n",
    "\n",
    "A model is defined in a python session. If you save the results of a fit to an AnalysisResults file and try to load this file without loading this model, you will get a error,\n",
    "\n",
    "\n",
    "## Custom models in other langauges\n",
    "\n",
    "What if your model is built from a C++ function and you want to fit that directly to the data? using Cython, pybind, f2py, etc, you can wrap these models and call them easily."
   ]
  },
  {
   "cell_type": "code",
   "execution_count": null,
   "id": "a3e2ed19",
   "metadata": {},
   "outputs": [],
   "source": [
    "\n",
    "def cpp_function_wrapper(a):\n",
    "    # we could wrap a c++ function here\n",
    "    # with cython, pybind11, etc\n",
    "    \n",
    "    return a\n"
   ]
  },
  {
   "cell_type": "code",
   "execution_count": null,
   "id": "1528588a",
   "metadata": {},
   "outputs": [],
   "source": [
    "cpp_function_wrapper(2.)"
   ]
  },
  {
   "cell_type": "markdown",
   "id": "b0e2fa84",
   "metadata": {},
   "source": [
    "Now we will define a spectral model that will handle both the unit and non-unit call."
   ]
  },
  {
   "cell_type": "code",
   "execution_count": null,
   "id": "2918cbd1",
   "metadata": {},
   "outputs": [],
   "source": [
    "import astropy.units as astropy_units\n",
    "\n",
    "class CppModel(Function1D,metaclass=FunctionMeta):\n",
    "        r\"\"\"\n",
    "        description :\n",
    "            A spectral model wrapping a cython function\n",
    "        latex : $$\n",
    "        parameters :\n",
    "            a :\n",
    "                desc : Normalization (differential flux)\n",
    "                initial value : 1.0\n",
    "                is_normalization : True\n",
    "                min : 1e-30\n",
    "                max : 1e3\n",
    "                delta : 0.1\n",
    "        \"\"\"\n",
    "\n",
    "        def _set_units(self, x_unit, y_unit):\n",
    "\n",
    "            # The normalization has the same units as the y\n",
    "\n",
    "            self.a.unit = y_unit\n",
    "\n",
    "        \n",
    "        def evaluate(self, x, a):\n",
    "            \n",
    "            # check is the function is being called with units\n",
    "            \n",
    "            if isinstance(a, astropy_units.Quantity):\n",
    "                \n",
    "                # get the values\n",
    "                a_ = a.value\n",
    "                \n",
    "                # save the unit\n",
    "                unit_ = self.y_unit\n",
    "                \n",
    "            else:\n",
    "                \n",
    "                # we do not need to do anything here\n",
    "                a_ = a\n",
    "                \n",
    "                # this will basically be ignored\n",
    "                unit_ = 1.\n",
    "\n",
    "            # call the cython function\n",
    "            flux = cpp_function_wrapper(a_)\n",
    "\n",
    "            # add back the unit if needed\n",
    "            return flux * unit_"
   ]
  },
  {
   "cell_type": "markdown",
   "id": "ae79d10f",
   "metadata": {},
   "source": [
    "We can check the unit and non-unit call by making a point source and evaluating it"
   ]
  },
  {
   "cell_type": "code",
   "execution_count": null,
   "id": "fe81382d",
   "metadata": {},
   "outputs": [],
   "source": [
    "cpp_spectrum = CppModel()\n",
    "\n",
    "from astromodels import PointSource\n",
    "\n",
    "point_source = PointSource('ps',0,0,spectral_shape=cpp_spectrum)\n",
    "\n",
    "print(point_source(10.))\n",
    "point_source(10. * astropy_units.keV)"
   ]
  },
  {
   "cell_type": "markdown",
   "id": "cfa73f47",
   "metadata": {},
   "source": [
    "## Template (Table) Models\n",
    "\n",
    "3ML (via astromodels) provides the ability to construct models in tabluated form. This is very useful for models that are from numerical simualtions. While in other software special care must be taken to construct table models into FITS files, in 3ML the construction of the table model is taken care of for you. Here is an example of how to build a template model from a pre-existing function.\n",
    "\n",
    "### Constructing a template\n",
    "First, we grab a function and make an energy grid."
   ]
  },
  {
   "cell_type": "code",
   "execution_count": null,
   "id": "053b591b",
   "metadata": {},
   "outputs": [],
   "source": [
    "from astromodels import Band\n",
    "import numpy as np\n",
    "\n",
    "model = Band()\n",
    "\n",
    "# we won't need to modify the normalization\n",
    "model.K = 1.\n",
    "\n",
    "\n",
    "# if no units are provided for the energy grid, keV will be assumed!\n",
    "energies = np.logspace(1, 3, 50)"
   ]
  },
  {
   "cell_type": "markdown",
   "id": "fc2668eb",
   "metadata": {},
   "source": [
    "Now we define a template model factory. This takes a name, a description, the energy grid and an array of parameter names as input."
   ]
  },
  {
   "cell_type": "code",
   "execution_count": null,
   "id": "181fb005",
   "metadata": {},
   "outputs": [],
   "source": [
    "from astromodels import TemplateModelFactory\n",
    "tmf = TemplateModelFactory('my_template', 'A test template', energies, ['alpha', 'xp', 'beta'])"
   ]
  },
  {
   "cell_type": "markdown",
   "id": "7bd36a85",
   "metadata": {},
   "source": [
    "Now, define our grid in parameter space. While we are using a function here, this grid could be from a text file, a database of simulations, etc. We then assign these grid points to the template model factory."
   ]
  },
  {
   "cell_type": "code",
   "execution_count": null,
   "id": "feb6a8b2",
   "metadata": {},
   "outputs": [],
   "source": [
    "alpha_grid = np.linspace(-1.5, 1, 15)\n",
    "beta_grid = np.linspace(-3.5, -1.6, 15)\n",
    "xp_grid = np.logspace(1, 3, 20)\n",
    "\n",
    "\n",
    "\n",
    "tmf.define_parameter_grid('alpha', alpha_grid)\n",
    "tmf.define_parameter_grid('beta', beta_grid)\n",
    "tmf.define_parameter_grid('xp', xp_grid)"
   ]
  },
  {
   "cell_type": "markdown",
   "id": "291bd1b2",
   "metadata": {},
   "source": [
    "Finally, we loop over our grid and set the interpolation data to the template model factory. The units of the fluxes must be a differential photon flux! "
   ]
  },
  {
   "cell_type": "code",
   "execution_count": null,
   "id": "18adcc29",
   "metadata": {},
   "outputs": [],
   "source": [
    "for a in alpha_grid:\n",
    "\n",
    "    for b in beta_grid:\n",
    "\n",
    "        for xp in xp_grid:\n",
    "            \n",
    "            # change our model parameters\n",
    "            model.alpha = a\n",
    "            model.beta = b\n",
    "            model.xp = xp\n",
    "\n",
    "            tmf.add_interpolation_data(model(energies), alpha=a, xp=xp, beta=b)\n"
   ]
  },
  {
   "cell_type": "markdown",
   "id": "37ae808c",
   "metadata": {},
   "source": [
    "We can now save our model to disk. The formal is an HDF5 file which is saved to the astromodel data directory (~/.astromodels/data). The HDF5 file can easily be passed around to other users as all information defining the model is stored in the file. The other user would place the file in thier astromodels data directory."
   ]
  },
  {
   "cell_type": "code",
   "execution_count": null,
   "id": "17e394f0",
   "metadata": {},
   "outputs": [],
   "source": [
    "tmf.save_data(overwrite=True)\n",
    "\n",
    "from astromodels import TemplateModel\n",
    "\n",
    "reloaded_table_model = TemplateModel('my_template')"
   ]
  },
  {
   "cell_type": "code",
   "execution_count": null,
   "id": "a578ae73",
   "metadata": {},
   "outputs": [],
   "source": [
    "reloaded_table_model(energies)"
   ]
  },
  {
   "cell_type": "code",
   "execution_count": null,
   "id": "92702db7",
   "metadata": {},
   "outputs": [],
   "source": []
  }
 ],
 "metadata": {
  "jupytext": {
   "formats": "ipynb,md"
  },
  "kernelspec": {
   "display_name": "Python 3",
   "language": "python",
   "name": "python3"
  }
 },
 "nbformat": 4,
 "nbformat_minor": 5
}
