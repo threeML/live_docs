{
 "cells": [
  {
   "cell_type": "markdown",
   "id": "7774283c",
   "metadata": {},
   "source": [
    "## What happens to the model/function during a fit?\n",
    "\n",
    "The spectral/spatial shapes that are input into the models and subsequently used during the fit are objects. There parameters are members of those objects and when they are changed by the user or the fitting engine, the parameter values in those objects are modified. "
   ]
  },
  {
   "cell_type": "code",
   "execution_count": null,
   "id": "510698cf",
   "metadata": {},
   "outputs": [],
   "source": [
    "%%capture\n",
    "from threeML import *\n",
    "\n",
    "power_law = Powerlaw()\n",
    "\n",
    "print(\"power law index before change:\")\n",
    "print(power_law.index)\n",
    "\n",
    "power_law.index = 0\n",
    "\n",
    "print(\"power law index after change:\")\n",
    "print(power_law.index)\n",
    "\n",
    "\n",
    "# or create a power law with a different default index\n",
    "power_law = Powerlaw(index=-1.5)\n",
    "\n",
    "print(\"power law index after creation:\")\n",
    "print(power_law.index)\n",
    "\n"
   ]
  },
  {
   "cell_type": "code",
   "execution_count": null,
   "id": "5c73dd40",
   "metadata": {},
   "outputs": [],
   "source": [
    "import numpy as np\n",
    "x = np.logspace(0, 2, 50)\n",
    "\n",
    "xyl_generator = XYLike.from_function(\"sim_data\", function = power_law, \n",
    "                                     x = x, \n",
    "                                     yerr = 0.1 * power_law(x))\n",
    "\n",
    "y = xyl_generator.y\n",
    "y_err = xyl_generator.yerr\n",
    "\n",
    "fit_function = Powerlaw()\n",
    "\n",
    "print(\"power law index before fit:\")\n",
    "print(fit_function.index)\n",
    "\n",
    "xyl = XYLike(\"data\", x, y, y_err)\n",
    "\n",
    "parameters, like_values = xyl.fit(fit_function)\n",
    "\n",
    "\n",
    "print(\"power law index after fit:\")\n",
    "print(fit_function.index)"
   ]
  },
  {
   "cell_type": "markdown",
   "id": "b8fc81cb",
   "metadata": {},
   "source": [
    "After a fit, the fitted result are stored in an AnalysisResults object so that if the fit function's values are further modified, the best fit parameters can still be recovered."
   ]
  },
  {
   "cell_type": "markdown",
   "id": "8b468704",
   "metadata": {},
   "source": [
    "## Why does my plugin not return a get_log_like()?\n",
    "\n",
    "When a plugin is created, it does not have a likelihood model set initially. This is typically done when a DataList containing the plugin is passed to a JointLikelihood or BayesianAnalysis constructor along with a model. One can manually pass a model object to the plugin using the set_model() member of the plugin. "
   ]
  },
  {
   "cell_type": "markdown",
   "id": "f6e873c4",
   "metadata": {},
   "source": [
    "## Why did my plugin lose its model?\n",
    "\n",
    "If you use the same plugin with different models bvy passing it to successive JointLikelihood or BayesianAnalysis constructors, the plugin will have the last model with which it was used set as its model. "
   ]
  },
  {
   "cell_type": "code",
   "execution_count": null,
   "id": "d811ce35",
   "metadata": {},
   "outputs": [],
   "source": []
  }
 ],
 "metadata": {
  "jupytext": {
   "formats": "ipynb,md"
  },
  "kernelspec": {
   "display_name": "Python 3",
   "language": "python",
   "name": "python3"
  }
 },
 "nbformat": 4,
 "nbformat_minor": 5
}
