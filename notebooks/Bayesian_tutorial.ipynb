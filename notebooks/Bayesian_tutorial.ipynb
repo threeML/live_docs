{
 "cells": [
  {
   "cell_type": "markdown",
   "id": "b3b564cb",
   "metadata": {},
   "source": [
    "# Bayesian Posterior Sampling\n",
    "\n",
    "When using Bayesian posterior sampling, we want to the posterior, ${\\rm P}(M(\\vec{\\theta}) \\vert D)$, of the model ($M(\\vec{\\theta})$)  given one or more datasets ($D$) (i.e., plugin instances) and one model containing one or more sources with free parameters $\\vec{\\theta} $ given a likelihood $L(\\vec{\\theta}) = {\\rm P}(D \\vert M(\\vec{\\theta}))$ and prior ${\\rm P}(\\theta)$ on the parameters. Only the simplest posteriors allow for an analytic solution, thus we must rely on Monte Carlo or nested sampling methods to sample the posterior. \n",
    "\n",
    "In 3ML, we currently provide two popular posterior sampling methods: [emcee](https://github.com/dfm/emcee) and [MULTINEST](https://github.com/farhanferoz/MultiNest). If you installed via conda, both packages are available, otherwise, only emcee is included.\n",
    "\n",
    "## emcee\n",
    "\n",
    "\"[emcee](https://github.com/dfm/emcee) is an extensible, pure-Python implementation of Goodman & Weare's Affine Invariant Markov chain Monte Carlo (MCMC) Ensemble sampler.\" It uses multiple \"walkers\" to explore the parameter space of the posterior. For a complete understanding of the capabilites and limitations, we recommend a thorough reading of [Goodman & Weare (2010)](http://msp.org/camcos/2010/5-1/p04.xhtml). Nevertheless we emphasize these N points to keep in mind:\n",
    "\n",
    "* emcee is for unimodal parameter estimation\n",
    "* for complex likelihoods and marginal likelihood integration, check out thermodynamic integration (documentation coming soon)\n",
    "\n",
    "\n",
    "\n",
    "Let's take a look at its usage for a simple likelihood.\n"
   ]
  },
  {
   "cell_type": "code",
   "execution_count": null,
   "id": "12b6f0f9",
   "metadata": {
    "lines_to_next_cell": 2
   },
   "outputs": [],
   "source": [
    "import warnings\n",
    "warnings.simplefilter('ignore')\n",
    "import numpy as np\n",
    "np.seterr(all=\"ignore\")"
   ]
  },
  {
   "cell_type": "code",
   "execution_count": null,
   "id": "29208aa8",
   "metadata": {},
   "outputs": [],
   "source": [
    "%%capture\n",
    "from threeML import *\n",
    "from threeML.bayesian.tutorial_material import *"
   ]
  },
  {
   "cell_type": "code",
   "execution_count": null,
   "id": "d2068e4d",
   "metadata": {},
   "outputs": [],
   "source": [
    "from jupyterthemes import jtplot\n",
    "%matplotlib inline\n",
    "jtplot.style(context=\"talk\", fscale=1, ticks=True, grid=False)\n",
    "silence_warnings()\n",
    "set_threeML_style()\n",
    "\n"
   ]
  },
  {
   "cell_type": "markdown",
   "id": "e34ba53d",
   "metadata": {},
   "source": [
    "Let’s get a BayesianAnalysis object like the one we would have in a normal 3ML analysis. We use a custom function, prepared for this tutorial, which gives a BayesianAnalysis object having a very simple model with one free parameter ($\\mu$), and with a likelihood having a very simple shape:"
   ]
  },
  {
   "cell_type": "code",
   "execution_count": null,
   "id": "84d2b5dc",
   "metadata": {},
   "outputs": [],
   "source": [
    "# This returns a BayesianAnalysis object with a simple likelihood function,\n",
    "# and the corresponding Model instance. These objects are what you will have\n",
    "# in a typical 3ML analysis. The Model contains one point source, named \"test\",\n",
    "# with a spectrum called \"simple\"\n",
    "bayes, model = get_bayesian_analysis_object_simple_likelihood()\n",
    "bayes.set_sampler('emcee')\n",
    "# Let's look at the likelihood function, which in this illustrative example\n",
    "# has a very simple shape\n",
    "_ = plot_likelihood_function(bayes)"
   ]
  },
  {
   "cell_type": "markdown",
   "id": "772c151c",
   "metadata": {},
   "source": [
    "We must define a prior fo $\\mu$ in order to sample. Let's use a uniform prior from 0 to 100. There are two ways to define this in 3ML:"
   ]
  },
  {
   "cell_type": "code",
   "execution_count": null,
   "id": "74e23e92",
   "metadata": {},
   "outputs": [],
   "source": [
    "# This directly assigns the prior\n",
    "model.test.spectrum.main.shape.mu.prior = Uniform_prior(lower_bound=1, upper_bound=100.)\n",
    "\n",
    "# Alternatively, we can set an uniformative prior on the parameter's bounds\n",
    "model.test.spectrum.main.shape.mu.set_uninformative_prior(Uniform_prior)\n"
   ]
  },
  {
   "cell_type": "markdown",
   "id": "6834e72e",
   "metadata": {},
   "source": [
    "Ok, we are ready to sample. We will use only 5 walkers for this problem. We need to define a burn_in sample length which is how long we want to run the sampler to approach the target distribution so that we do not include these \"learning\" samples in our final results. Additionally, we need to declare the number of samples each walker will take."
   ]
  },
  {
   "cell_type": "code",
   "execution_count": null,
   "id": "45d1cc97",
   "metadata": {},
   "outputs": [],
   "source": [
    "n_walkers = 5\n",
    "burn_in = 10\n",
    "n_samples = 500\n",
    "\n",
    "bayes.sampler.setup(n_iterations=n_samples,n_burn_in=burn_in,n_walkers=n_walkers )\n",
    "\n",
    "res = bayes.sample()"
   ]
  },
  {
   "cell_type": "code",
   "execution_count": null,
   "id": "4017babd",
   "metadata": {},
   "outputs": [],
   "source": [
    "_ = plot_sample_path(bayes,truth=40.,burn_in=n_walkers*burn_in)"
   ]
  },
  {
   "cell_type": "markdown",
   "id": "d4021077",
   "metadata": {},
   "source": [
    "We can see that we did not burn in the sampler long enough and we will have part of the burn in included in the results as can be seen in the marginal distribution of $\\mu$:"
   ]
  },
  {
   "cell_type": "code",
   "execution_count": null,
   "id": "d780ea43",
   "metadata": {},
   "outputs": [],
   "source": [
    "_ = bayes.results.corner_plot()"
   ]
  },
  {
   "cell_type": "markdown",
   "id": "f77c22fb",
   "metadata": {},
   "source": [
    "We could easily run the sampler longer, but let's reset the value of $\\mu$ far from the target distribution and try more burn in samples."
   ]
  },
  {
   "cell_type": "code",
   "execution_count": null,
   "id": "a7530dd6",
   "metadata": {},
   "outputs": [],
   "source": [
    "model.test.spectrum.main.shape.mu =99\n",
    "\n",
    "\n",
    "n_walkers = 5\n",
    "burn_in = 200\n",
    "n_samples = 500\n",
    "\n",
    "res = bayes.sample()"
   ]
  },
  {
   "cell_type": "code",
   "execution_count": null,
   "id": "542688f0",
   "metadata": {},
   "outputs": [],
   "source": [
    "_ = plot_sample_path(bayes,truth=40.,burn_in=n_walkers*burn_in)\n",
    "_ = bayes.results.corner_plot()"
   ]
  },
  {
   "cell_type": "markdown",
   "id": "0a213df6",
   "metadata": {},
   "source": [
    "The marginal distribution of the parameter $\\mu$ *is* the answer for our parameter. It is the integral of the posterior over all other parameters, $\\vec{\\phi}$, given the data.\n",
    "\n",
    "$${\\rm P}(\\mu \\vert D) = \\int_{-\\infty}^{\\infty} {\\rm d}\\vec{\\phi} \\; {\\rm P}( \\mu, \\vec{\\phi}\\vert D )$$\n",
    "\n",
    "Of course, in our simple model, there are no other parameters. The marginal natuarally includes the dependence of all other parameters and is only equivalent to MLE error estimates under assumptions of Gaussianity and linearity. \n",
    "\n",
    "We can sometimes use point-descriptors for the marginal, e.g., mean, median, etc., but when the marginal distribution is not easily symmetric, it can be more descriptive to plot it or speak of its highest posterior density interval:\n"
   ]
  },
  {
   "cell_type": "code",
   "execution_count": null,
   "id": "5ec0f63b",
   "metadata": {},
   "outputs": [],
   "source": [
    "this_mu = bayes.results.get_variates('test.spectrum.main.Simple.mu')\n",
    "\n",
    "print(this_mu.highest_posterior_density_interval(cl=.68))\n",
    "print(this_mu.highest_posterior_density_interval(cl=.95))"
   ]
  },
  {
   "cell_type": "markdown",
   "id": "d029e36d",
   "metadata": {},
   "source": [
    "### Priors\n",
    "\n",
    "We have not paid much attention to our prior choice. So far, we have used an uninformative prior (except that we know in our example the range over which the parameter can be found), but what happens if we limit our prior such that we would never find the target distribution?\n",
    "\n",
    "Let's set a uniform prior such that $\\mu \\in \\{80-100 \\}$."
   ]
  },
  {
   "cell_type": "code",
   "execution_count": null,
   "id": "a8c3883f",
   "metadata": {},
   "outputs": [],
   "source": [
    "model.test.spectrum.main.shape.mu =99\n",
    "model.test.spectrum.main.shape.mu.prior = Uniform_prior(lower_bound=80, upper_bound=100)\n",
    "\n",
    "n_walkers = 2\n",
    "burn_in = 200\n",
    "n_samples = 1000\n",
    "\n",
    "bayes.sampler.setup(n_iterations=n_samples,n_burn_in=burn_in,n_walkers=n_walkers )\n",
    "res = bayes.sample()"
   ]
  },
  {
   "cell_type": "code",
   "execution_count": null,
   "id": "68f3e068",
   "metadata": {},
   "outputs": [],
   "source": [
    "_ = plot_sample_path(bayes,truth=40.,burn_in=n_walkers*burn_in)\n",
    "_ = bayes.results.corner_plot()"
   ]
  },
  {
   "cell_type": "markdown",
   "id": "873e3e95",
   "metadata": {},
   "source": [
    "We see that the over this range, the marginal distribution is the same as the prior, i.e., uniformative. The \"data\" have not updated our information about $\\mu$ and thus we cannot conclude anything. This is by design in our example, but if we were to believe that $\\mu$ had to be found in the interval $\\mu \\in\\{80-100\\}$, the data have not helped us to determine anything.\n",
    "\n",
    "Let's now look at setting a more informative prior on $\\mu$. Suppose from either other measurements or physical insight, we are sure $\\mu\\sim 30$ with some uncertainty. Then we can impose a Gaussian prior over $\\mu$.  "
   ]
  },
  {
   "cell_type": "code",
   "execution_count": null,
   "id": "0d9a6e35",
   "metadata": {},
   "outputs": [],
   "source": [
    "model.test.spectrum.main.shape.mu =99\n",
    "model.test.spectrum.main.shape.mu.bounds = (None, None)\n",
    "model.test.spectrum.main.shape.mu.prior = Gaussian(mu=25,sigma=5)"
   ]
  },
  {
   "cell_type": "code",
   "execution_count": null,
   "id": "9808151b",
   "metadata": {},
   "outputs": [],
   "source": [
    "n_walkers = 2\n",
    "burn_in = 200\n",
    "n_samples = 1000\n",
    "\n",
    "bayes.sampler.setup(n_iterations=n_samples,n_burn_in=burn_in,n_walkers=n_walkers )\n",
    "res = bayes.sample()"
   ]
  },
  {
   "cell_type": "markdown",
   "id": "ced658da",
   "metadata": {},
   "source": [
    "Our prior information has biased the results to slightly lower values of $\\mu$. Again, this is only to illustrate how to use different priors and their effects on the recovered results."
   ]
  },
  {
   "cell_type": "code",
   "execution_count": null,
   "id": "e1c21350",
   "metadata": {},
   "outputs": [],
   "source": [
    "_ = plot_sample_path(bayes,truth=40.,burn_in=n_walkers*burn_in)\n",
    "_ = bayes.results.corner_plot()"
   ]
  },
  {
   "cell_type": "markdown",
   "id": "3fcf7dec",
   "metadata": {},
   "source": [
    "## Complex Likelihood\n",
    "\n",
    "We now examine a more complex likelihood."
   ]
  },
  {
   "cell_type": "code",
   "execution_count": null,
   "id": "fc5ca1a8",
   "metadata": {},
   "outputs": [],
   "source": [
    "bayes, model = get_bayesian_analysis_object_complex_likelihood()\n"
   ]
  },
  {
   "cell_type": "markdown",
   "id": "dd0b258f",
   "metadata": {},
   "source": [
    "## MULTINEST\n",
    "\n",
    "[MULTINEST](https://github.com/farhanferoz/MultiNest) is a nested sampling algorithm that is designed to integrate the the posterior to obtain the marginal likelihood. For details on the algorithm see [Feroz et al. (2009)](https://academic.oup.com/mnras/article-abstract/398/4/1601/981502), [Feroz et al. (2013)](https://arxiv.org/abs/1306.2144), and for details on the input arguments for the python interface we implement, see the documentation of [pymultinest](https://johannesbuchner.github.io/PyMultiNest/). If you find these algorithms useful for your research, please cite the originals authors!"
   ]
  },
  {
   "cell_type": "markdown",
   "id": "dd89b328",
   "metadata": {},
   "source": [
    "Let's sample the complex likelihood from above with MULTINEST using \n",
    "<!-- #endregion -->"
   ]
  },
  {
   "cell_type": "code",
   "execution_count": null,
   "id": "ae62a968",
   "metadata": {},
   "outputs": [],
   "source": [
    "\n",
    "bayes.set_sampler('multinest')\n",
    "\n",
    "\n",
    "model.test.spectrum.main.shape.mu.prior = Uniform_prior(lower_bound=1, upper_bound=100)\n",
    "\n",
    "_ = plot_likelihood_function(bayes)\n",
    "\n",
    "\n",
    "bayes.sampler.setup(n_live_points=400, resume=False)\n",
    "\n",
    "\n",
    "res = bayes.sample()"
   ]
  },
  {
   "cell_type": "code",
   "execution_count": null,
   "id": "1f2fbf70",
   "metadata": {},
   "outputs": [],
   "source": [
    "_ = plot_sample_path(bayes)\n",
    "_ = bayes.results.corner_plot()"
   ]
  },
  {
   "cell_type": "markdown",
   "id": "fb599c36",
   "metadata": {},
   "source": [
    "MULTINEST has fully sampled the likelihood and broken apart the modes. Cleary point-descriptors of the results will be inefficent, but we use the output files of MULTINEST to do multi-modal analysis. For details, consult the MULTINEST documentation.\n",
    "\n",
    "## UltraNest\n",
    "\n",
    "Finally we can try with [ultranest](https://johannesbuchner.github.io/UltraNest/) which is another nested sampling algorithm.\n"
   ]
  },
  {
   "cell_type": "code",
   "execution_count": null,
   "id": "07a4aa29",
   "metadata": {},
   "outputs": [],
   "source": [
    "bayes.set_sampler('ultranest')\n",
    "bayes.sampler.setup()\n",
    "\n",
    "\n",
    "res = bayes.sample(quiet=True)"
   ]
  },
  {
   "cell_type": "code",
   "execution_count": null,
   "id": "4b433374",
   "metadata": {},
   "outputs": [],
   "source": [
    "_ = plot_sample_path(bayes)\n",
    "_ = bayes.results.corner_plot()"
   ]
  },
  {
   "cell_type": "markdown",
   "id": "0e88330a",
   "metadata": {},
   "source": [
    "## Accessing samples and error propagation\n",
    "\n",
    "Error propagation with posterior samples is straight forward. Say we have a function $f(\\mu) = Sin(\\mu)$. For the complex likelihood, we would be out of luck if we were using MLE. However, we can directly calculate $f(\\mu)$ with the samples from the posterior. "
   ]
  },
  {
   "cell_type": "code",
   "execution_count": null,
   "id": "97b9a4a8",
   "metadata": {},
   "outputs": [],
   "source": [
    "def f(mu):\n",
    "    \n",
    "    return mu**2\n",
    "    \n",
    "this_mu =  bayes.results.get_variates('test.spectrum.main.Complex.mu')\n",
    "    \n",
    "f_mu = f(this_mu)\n",
    "\n",
    "print (f_mu)\n",
    "\n",
    "fig, ax = plt.subplots()\n",
    "\n",
    "ax.hist(f_mu.samples,bins=100)\n",
    "\n",
    "_ =ax.set_xlabel(r'f($\\mu$)')"
   ]
  },
  {
   "cell_type": "markdown",
   "id": "a36e1b0a",
   "metadata": {},
   "source": [
    "As with any approach, the Bayesian capabilities of 3ML are a tool. Understanding and proper use of the posterior and marginal distributions requires special care. For further reading on the Bayesian analysis and its applications to spectral analysis check out the following resources:\n",
    "* [Michael Betancourt](https://betanalpha.github.io/writing/) spends a ton of time trying to teach proper statistical methodology to applied fields. If you are using Bayesian techniques, you must read his work.\n",
    "\n",
    "* [Frequentism and bayesianism: a python-driven primer](https://arxiv.org/abs/1411.5018)\n",
    "\n",
    "* [Bayes in the sky: Bayesian inference and model selection in cosmology](http://www.tandfonline.com/doi/abs/10.1080/00107510802066753)\n",
    "\n",
    "* [X-ray spectral modelling of the AGN obscuring region in the CDFS: Bayesian model selection and catalogue](https://www.aanda.org/articles/aa/full_html/2014/04/aa22971-13/aa22971-13.html)\n",
    "\n",
    "* [Analysis of energy spectra with low photon counts via Bayesian posterior simulation](http://iopscience.iop.org/article/10.1086/318656/meta)"
   ]
  },
  {
   "cell_type": "code",
   "execution_count": null,
   "id": "8bf648cd",
   "metadata": {},
   "outputs": [],
   "source": []
  }
 ],
 "metadata": {
  "jupytext": {
   "formats": "ipynb,md"
  },
  "kernelspec": {
   "display_name": "Python 3",
   "language": "python",
   "name": "python3"
  }
 },
 "nbformat": 4,
 "nbformat_minor": 5
}
