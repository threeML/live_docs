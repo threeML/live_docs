{
 "cells": [
  {
   "cell_type": "markdown",
   "id": "f20277a5",
   "metadata": {},
   "source": [
    "# Example joint fit between GBM and Swift BAT\n",
    "\n",
    "One of the key features of 3ML is the abil ity to fit multi-messenger data properly. A simple example of this is the joint fitting of two instruments whose data obey different likelihoods. Here, we have GBM data which obey a Poisson-Gaussian profile likelihoog (<a href=http://heasarc.gsfc.nasa.gov/docs/xanadu/xspec/manual/node293.html> PGSTAT</a> in XSPEC lingo) and Swift BAT which data which are the result of a \"fit\" via a coded mask and hence obey a Gaussian ( $\\chi^2$ ) likelihood.\n"
   ]
  },
  {
   "cell_type": "code",
   "execution_count": null,
   "id": "eb268225",
   "metadata": {
    "lines_to_next_cell": 2
   },
   "outputs": [],
   "source": [
    "import warnings\n",
    "warnings.simplefilter('ignore')\n",
    "import numpy as np\n",
    "np.seterr(all=\"ignore\")"
   ]
  },
  {
   "cell_type": "code",
   "execution_count": null,
   "id": "811cb981",
   "metadata": {
    "lines_to_next_cell": 2
   },
   "outputs": [],
   "source": [
    "%%capture\n",
    "import matplotlib.pyplot as plt\n",
    "\n",
    "np.random.seed(12345)\n",
    "from threeML import *\n",
    "from threeML.io.package_data import get_path_of_data_file\n",
    "from threeML.io.logging import silence_console_log\n",
    "\n"
   ]
  },
  {
   "cell_type": "code",
   "execution_count": null,
   "id": "37270cbc",
   "metadata": {
    "lines_to_next_cell": 0
   },
   "outputs": [],
   "source": [
    "from jupyterthemes import jtplot\n",
    "%matplotlib inline\n",
    "jtplot.style(context=\"talk\", fscale=1, ticks=True, grid=False)\n",
    "set_threeML_style()\n",
    "silence_warnings()\n"
   ]
  },
  {
   "cell_type": "markdown",
   "id": "ab67a62f",
   "metadata": {},
   "source": []
  },
  {
   "cell_type": "markdown",
   "id": "05a5dadd",
   "metadata": {},
   "source": [
    "## Plugin setup\n",
    "\n",
    "We have data from the same time interval from Swift BAT and a GBM NAI and BGO detector. We have preprocessed GBM data to so that it is OGIP compliant. (Remember that we can handle the raw data with the TimeSeriesBuilder). Thus, we will use the OGIPLike plugin to read in each dataset, make energy selections and examine the raw count spectra. \n"
   ]
  },
  {
   "cell_type": "markdown",
   "id": "7cfc3a36",
   "metadata": {},
   "source": [
    "### Swift BAT"
   ]
  },
  {
   "cell_type": "code",
   "execution_count": null,
   "id": "75cf52a7",
   "metadata": {},
   "outputs": [],
   "source": [
    "bat_pha = get_path_of_data_file(\"datasets/bat/gbm_bat_joint_BAT.pha\")\n",
    "bat_rsp = get_path_of_data_file(\"datasets/bat/gbm_bat_joint_BAT.rsp\")\n",
    "\n",
    "bat = OGIPLike(\"BAT\", observation=bat_pha, response=bat_rsp)\n",
    "\n",
    "bat.set_active_measurements(\"15-150\")\n",
    "bat.view_count_spectrum()"
   ]
  },
  {
   "cell_type": "markdown",
   "id": "31363637",
   "metadata": {},
   "source": [
    "### Fermi GBM"
   ]
  },
  {
   "cell_type": "code",
   "execution_count": null,
   "id": "0d1b101d",
   "metadata": {},
   "outputs": [],
   "source": [
    "nai6 = OGIPLike(\n",
    "    \"n6\",\n",
    "    get_path_of_data_file(\"datasets/gbm/gbm_bat_joint_NAI_06.pha\"),\n",
    "    get_path_of_data_file(\"datasets/gbm/gbm_bat_joint_NAI_06.bak\"),\n",
    "    get_path_of_data_file(\"datasets/gbm/gbm_bat_joint_NAI_06.rsp\"),\n",
    "    spectrum_number=1,\n",
    ")\n",
    "\n",
    "\n",
    "nai6.set_active_measurements(\"8-900\")\n",
    "nai6.view_count_spectrum()\n",
    "\n",
    "bgo0 = OGIPLike(\n",
    "    \"b0\",\n",
    "    get_path_of_data_file(\"datasets/gbm/gbm_bat_joint_BGO_00.pha\"),\n",
    "    get_path_of_data_file(\"datasets/gbm/gbm_bat_joint_BGO_00.bak\"),\n",
    "    get_path_of_data_file(\"datasets/gbm/gbm_bat_joint_BGO_00.rsp\"),\n",
    "    spectrum_number=1,\n",
    ")\n",
    "\n",
    "bgo0.set_active_measurements(\"250-30000\")\n",
    "bgo0.view_count_spectrum()"
   ]
  },
  {
   "cell_type": "markdown",
   "id": "67acba85",
   "metadata": {},
   "source": [
    "## Model setup\n",
    "\n",
    "We setup up or spectrum and likelihood model and combine the data. 3ML will automatically assign the proper likelihood to each data set. At first, we will assume a perfect calibration between the different detectors and not a apply a so-called effective area correction. "
   ]
  },
  {
   "cell_type": "code",
   "execution_count": null,
   "id": "5453b6be",
   "metadata": {},
   "outputs": [],
   "source": [
    "band = Band()\n",
    "\n",
    "model_no_eac = Model(PointSource(\"joint_fit_no_eac\", 0, 0, spectral_shape=band))"
   ]
  },
  {
   "cell_type": "markdown",
   "id": "fcf3f25e",
   "metadata": {},
   "source": [
    "## Spectral fitting\n",
    "\n",
    "Now we simply fit the data by building the data list, creating the joint likelihood and running the fit."
   ]
  },
  {
   "cell_type": "markdown",
   "id": "cc9a9872",
   "metadata": {},
   "source": [
    "### No effective area correction"
   ]
  },
  {
   "cell_type": "code",
   "execution_count": null,
   "id": "7631cb87",
   "metadata": {},
   "outputs": [],
   "source": [
    "data_list = DataList(bat, nai6, bgo0)\n",
    "\n",
    "jl_no_eac = JointLikelihood(model_no_eac, data_list)\n",
    "\n",
    "jl_no_eac.fit();"
   ]
  },
  {
   "cell_type": "markdown",
   "id": "be4bd1a4",
   "metadata": {},
   "source": [
    "The fit has resulted in a very typical Band function fit. Let's look in count space at how good of a fit we have obtained.\n"
   ]
  },
  {
   "cell_type": "code",
   "execution_count": null,
   "id": "83c817bd",
   "metadata": {},
   "outputs": [],
   "source": [
    "threeML_config.plugins.ogip.fit_plot.model_cmap = \"Set1\"\n",
    "threeML_config.plugins.ogip.fit_plot.n_colors = 3\n",
    "display_spectrum_model_counts(\n",
    "    jl_no_eac, \n",
    "    min_rate=[0.01, 10.0, 10.0], data_colors=[\"grey\", \"k\", \"k\"], \n",
    "    show_background=False,\n",
    "    source_only=True\n",
    ");"
   ]
  },
  {
   "cell_type": "markdown",
   "id": "b22370d6",
   "metadata": {},
   "source": [
    "It seems that the effective areas between GBM and BAT do not agree! We can look at the goodness of fit for the various data sets."
   ]
  },
  {
   "cell_type": "code",
   "execution_count": null,
   "id": "7d248de3",
   "metadata": {},
   "outputs": [],
   "source": [
    "gof_object = GoodnessOfFit(jl_no_eac)\n",
    "\n",
    "gof, res_frame, lh_frame = gof_object.by_mc(n_iterations=100)"
   ]
  },
  {
   "cell_type": "code",
   "execution_count": null,
   "id": "c916effd",
   "metadata": {},
   "outputs": [],
   "source": [
    "import pandas as pd\n",
    "pd.Series(gof)"
   ]
  },
  {
   "cell_type": "markdown",
   "id": "4cc48a01",
   "metadata": {},
   "source": [
    "Both the GBM NaI detector and Swift BAT exhibit poor GOF."
   ]
  },
  {
   "cell_type": "markdown",
   "id": "44d63027",
   "metadata": {},
   "source": [
    "### With effective are correction\n",
    "\n",
    "Now let's add an effective area correction between the detectors to see if this fixes the problem. The effective area is a nuissance parameter that attempts to model systematic problems in a instruments calibration. It simply scales the counts of an instrument by a multiplicative factor. It cannot handle more complicated energy dependent "
   ]
  },
  {
   "cell_type": "code",
   "execution_count": null,
   "id": "37bd23f2",
   "metadata": {},
   "outputs": [],
   "source": [
    "# turn on the effective area correction and set it's bounds\n",
    "nai6.use_effective_area_correction(0.2, 1.8)\n",
    "bgo0.use_effective_area_correction(0.2, 1.8)\n",
    "\n",
    "model_eac = Model(PointSource(\"joint_fit_eac\", 0, 0, spectral_shape=band))\n",
    "\n",
    "jl_eac = JointLikelihood(model_eac, data_list)\n",
    "\n",
    "jl_eac.fit();"
   ]
  },
  {
   "cell_type": "markdown",
   "id": "46b9ddc5",
   "metadata": {},
   "source": [
    "Now we have a much better fit to all data sets"
   ]
  },
  {
   "cell_type": "code",
   "execution_count": null,
   "id": "ce5387fb",
   "metadata": {
    "tags": [
     "nbsphinx-thumbnail"
    ]
   },
   "outputs": [],
   "source": [
    "display_spectrum_model_counts(\n",
    "    jl_eac, step=False, min_rate=[0.01, 10.0, 10.0], data_colors=[\"grey\", \"k\", \"k\"]\n",
    ");"
   ]
  },
  {
   "cell_type": "code",
   "execution_count": null,
   "id": "decf76d0",
   "metadata": {},
   "outputs": [],
   "source": [
    "gof_object = GoodnessOfFit(jl_eac)\n",
    "\n",
    "# for display purposes we are keeping the output clear\n",
    "# with silence_console_log(and_progress_bars=False):\n",
    "gof, res_frame, lh_frame = gof_object.by_mc(\n",
    "    n_iterations=100, continue_on_failure=True )"
   ]
  },
  {
   "cell_type": "code",
   "execution_count": null,
   "id": "2ec4d60e",
   "metadata": {},
   "outputs": [],
   "source": [
    "import pandas as pd\n",
    "pd.Series(gof)"
   ]
  },
  {
   "cell_type": "markdown",
   "id": "898bcac8",
   "metadata": {},
   "source": [
    "## Examining the differences\n",
    "\n",
    "Let's plot the fits in model space and see how different the resulting models are.\n"
   ]
  },
  {
   "cell_type": "code",
   "execution_count": null,
   "id": "292760da",
   "metadata": {},
   "outputs": [],
   "source": [
    "plot_spectra(\n",
    "    jl_eac.results,\n",
    "    jl_no_eac.results,\n",
    "    fit_cmap=\"Set1\",\n",
    "    contour_cmap=\"Set1\",\n",
    "    flux_unit=\"erg2/(keV s cm2)\",\n",
    "    equal_tailed=True,\n",
    ");"
   ]
  },
  {
   "cell_type": "markdown",
   "id": "48cf86c4",
   "metadata": {},
   "source": [
    "We can easily see that the models are different "
   ]
  }
 ],
 "metadata": {
  "jupytext": {
   "formats": "ipynb,md"
  },
  "kernelspec": {
   "display_name": "Python 3",
   "language": "python",
   "name": "python3"
  }
 },
 "nbformat": 4,
 "nbformat_minor": 5
}
