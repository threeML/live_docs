{
 "cells": [
  {
   "cell_type": "markdown",
   "id": "cdfae512",
   "metadata": {},
   "source": [
    "## Extended models\n",
    "\n",
    "Coming soon! But checkout the existing [documentation](http://astromodels.readthedocs.io/en/latest/Extended_sources_tutorial.html) in astromodels."
   ]
  },
  {
   "cell_type": "code",
   "execution_count": null,
   "id": "dc3573aa",
   "metadata": {},
   "outputs": [],
   "source": []
  }
 ],
 "metadata": {
  "jupytext": {
   "formats": "ipynb,md"
  },
  "kernelspec": {
   "display_name": "Python 3",
   "language": "python",
   "name": "python3"
  }
 },
 "nbformat": 4,
 "nbformat_minor": 5
}
