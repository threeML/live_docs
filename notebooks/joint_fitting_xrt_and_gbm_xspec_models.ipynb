{
 "cells": [
  {
   "cell_type": "markdown",
   "id": "cf570468",
   "metadata": {},
   "source": [
    "# Joint fitting XRT and GBM data with XSPEC models\n",
    "\n",
    "### Goals\n",
    "\n",
    "3ML is designed to properly joint fit data from different instruments with thier instrument dependent likelihoods.\n",
    "We demostrate this with joint fitting data from GBM and XRT while simultaneously showing hwo to use the XSPEC models form **astromodels**\n",
    "\n",
    "### Setup\n",
    "\n",
    "You must have you HEASARC initiated so that **astromodels** can find the XSPEC libraries. \n"
   ]
  },
  {
   "cell_type": "code",
   "execution_count": null,
   "id": "dc48d42b",
   "metadata": {
    "lines_to_next_cell": 2
   },
   "outputs": [],
   "source": [
    "import warnings\n",
    "warnings.simplefilter('ignore')\n",
    "import numpy as np\n",
    "np.seterr(all=\"ignore\")"
   ]
  },
  {
   "cell_type": "code",
   "execution_count": null,
   "id": "00b168f1",
   "metadata": {
    "lines_to_next_cell": 2
   },
   "outputs": [],
   "source": [
    "%%capture\n",
    "import matplotlib.pyplot as plt\n",
    "from pathlib import Path\n",
    "from threeML import *\n",
    "from threeML.io.package_data import get_path_of_data_file\n",
    "\n",
    "# we will need XPSEC models for extinction\n",
    "from astromodels.xspec import *\n",
    "from astromodels.xspec.xspec_settings import *\n"
   ]
  },
  {
   "cell_type": "code",
   "execution_count": null,
   "id": "96ee8351",
   "metadata": {
    "lines_to_next_cell": 2
   },
   "outputs": [],
   "source": [
    "from jupyterthemes import jtplot\n",
    "%matplotlib inline\n",
    "jtplot.style(context=\"talk\", fscale=1, ticks=True, grid=False)\n",
    "set_threeML_style()\n",
    "silence_warnings()"
   ]
  },
  {
   "cell_type": "markdown",
   "id": "77fde753",
   "metadata": {},
   "source": [
    "## Load XRT data\n",
    "\n",
    "Make a likelihood for the XRT including all the appropriate files"
   ]
  },
  {
   "cell_type": "code",
   "execution_count": null,
   "id": "638aef4d",
   "metadata": {},
   "outputs": [],
   "source": [
    "trigger=\"GRB110731A\"\n",
    "dec=-28.546\n",
    "ra=280.52\n",
    "\n",
    "p = Path(\"datasets/xrt\")\n",
    "\n",
    "xrt = OGIPLike(\"XRT\",observation= get_path_of_data_file(p /\"xrt_src.pha\"),\n",
    "                   background= get_path_of_data_file(p /\"xrt_bkg.pha\"),\n",
    "                   response= get_path_of_data_file(p /\"xrt.rmf\"),\n",
    "                   arf_file= get_path_of_data_file(p /\"xrt.arf\"))\n",
    "\n",
    "\n",
    "\n",
    "fig = xrt.view_count_spectrum()\n",
    "ax = fig.get_axes()[0]\n",
    "_ =ax.set_xlim(1e-1);"
   ]
  },
  {
   "cell_type": "code",
   "execution_count": null,
   "id": "48f29d5b",
   "metadata": {},
   "outputs": [],
   "source": [
    "fit = xrt.view_count_spectrum(scale_background=False);"
   ]
  },
  {
   "cell_type": "markdown",
   "id": "e677e397",
   "metadata": {},
   "source": [
    "## Load GBM data\n",
    "\n",
    "Load all the GBM data you need and make appropriate background, source time, and energy selections. Make sure to check the light curves! "
   ]
  },
  {
   "cell_type": "code",
   "execution_count": null,
   "id": "2ee917af",
   "metadata": {},
   "outputs": [],
   "source": [
    "trigger_number = 'bn110731465'\n",
    "gbm_data = download_GBM_trigger_data(trigger_number,detectors=['n3'])"
   ]
  },
  {
   "cell_type": "code",
   "execution_count": null,
   "id": "eaa6db9f",
   "metadata": {},
   "outputs": [],
   "source": [
    "# Select the time interval\n",
    "src_selection = \"100.169342-150.169342\"\n",
    "bkg_selection = [\"-25.0--10.0\",\"300-400\"]\n",
    "ts = TimeSeriesBuilder.from_gbm_cspec_or_ctime(name=\"gbm_n3\",\n",
    "    cspec_or_ctime_file=gbm_data[\"n3\"][\"cspec\"],\n",
    "                                              rsp_file=gbm_data[\"n3\"][\"rsp\"]\n",
    "                                              )\n",
    "\n",
    "\n",
    "ts.set_background_interval(*bkg_selection)\n",
    "ts.save_background(\"n3_bkg.h5\",overwrite=True)\n",
    "fig = ts.view_lightcurve(-50,450);"
   ]
  },
  {
   "cell_type": "code",
   "execution_count": null,
   "id": "60dce7eb",
   "metadata": {},
   "outputs": [],
   "source": [
    "ts = TimeSeriesBuilder.from_gbm_tte(\"gbm_n3\",\n",
    "                                    tte_file=gbm_data[\"n3\"][\"tte\"],\n",
    "                                    rsp_file=gbm_data[\"n3\"][\"rsp\"],\n",
    "                                    restore_background=\"n3_bkg.h5\"\n",
    "                                   \n",
    "                                   )\n",
    "\n",
    "\n",
    "ts.set_active_time_interval(src_selection)\n",
    "\n",
    "fig = ts.view_lightcurve(90, 160);"
   ]
  },
  {
   "cell_type": "code",
   "execution_count": null,
   "id": "b64fae25",
   "metadata": {},
   "outputs": [],
   "source": [
    "nai3 = ts.to_spectrumlike()"
   ]
  },
  {
   "cell_type": "markdown",
   "id": "3e863021",
   "metadata": {},
   "source": [
    "Make energy selections and check them out"
   ]
  },
  {
   "cell_type": "code",
   "execution_count": null,
   "id": "2685ea1b",
   "metadata": {},
   "outputs": [],
   "source": [
    "nai3.set_active_measurements(\"8-900\")\n",
    "fig = nai3.view_count_spectrum();"
   ]
  },
  {
   "cell_type": "markdown",
   "id": "f3085387",
   "metadata": {},
   "source": [
    "## Setup the model\n",
    "\n",
    "**astromodels** allows you to use XSPEC models if you have XSPEC installed.\n",
    "Set all the normal parameters you would in XSPEC and build a model the normal **3ML/astromodels** way! Here we will use the ```phabs``` model from XSPEC and mix it with powerlaw model in astromodels.\n"
   ]
  },
  {
   "cell_type": "markdown",
   "id": "5a45f922",
   "metadata": {},
   "source": [
    "### With XSPEC"
   ]
  },
  {
   "cell_type": "code",
   "execution_count": null,
   "id": "e0f0fe8e",
   "metadata": {},
   "outputs": [],
   "source": [
    "xspec_abund('angr')\n",
    "\n",
    "spectral_model =  XS_phabs()* XS_zphabs() * Powerlaw()\n",
    "\n",
    "\n",
    "spectral_model.nh_1=0.101\n",
    "spectral_model.nh_1.bounds = (None, None)\n",
    "spectral_model.nh_1.fix = True\n",
    "\n",
    "spectral_model.nh_2=0.1114424\n",
    "spectral_model.nh_2.fix = True\n",
    "spectral_model.nh_2.bounds = (None, None)\n",
    "spectral_model.redshift_2 = 0.618\n",
    "spectral_model.redshift_2.fix =True"
   ]
  },
  {
   "cell_type": "markdown",
   "id": "e3ef5353",
   "metadata": {},
   "source": [
    "### With astromodels PHABS\n",
    "\n",
    "We can build the exact same models in native astromodels thanks to **Dominique Eckert**.\n",
    "Here, there is no extra function for redshifting the absorption model, just pass a redshift.\n"
   ]
  },
  {
   "cell_type": "code",
   "execution_count": null,
   "id": "39975674",
   "metadata": {},
   "outputs": [],
   "source": [
    "phabs_local = PhAbs(NH=0.101)\n",
    "phabs_local.NH.fix=True\n",
    "phabs_local.redshift.fix=True\n",
    "phabs_src = PhAbs(NH=0.1114424,redshift=0.618)\n",
    "phabs_src.NH.fix=True\n",
    "phabs_src.redshift.fix=True\n",
    "pl = Powerlaw()\n",
    "spectral_model_native = phabs_local * phabs_src * pl"
   ]
  },
  {
   "cell_type": "markdown",
   "id": "2da2fb86",
   "metadata": {},
   "source": [
    "## Setup the joint likelihood\n",
    "\n",
    "Create a point source object and model. \n",
    "\n",
    "Load the data into a data list and create the joint likelihood\n"
   ]
  },
  {
   "cell_type": "markdown",
   "id": "6be2358f",
   "metadata": {},
   "source": [
    "### With XSPEC models\n",
    "First we will fit with the XSPEC model  "
   ]
  },
  {
   "cell_type": "code",
   "execution_count": null,
   "id": "edb7daf6",
   "metadata": {},
   "outputs": [],
   "source": [
    "ptsrc = PointSource(trigger,ra,dec,spectral_shape=spectral_model)\n",
    "model = Model(ptsrc)"
   ]
  },
  {
   "cell_type": "markdown",
   "id": "5b84b459",
   "metadata": {},
   "source": [
    "#### Fitting"
   ]
  },
  {
   "cell_type": "code",
   "execution_count": null,
   "id": "889c8b28",
   "metadata": {},
   "outputs": [],
   "source": [
    "data = DataList(xrt,nai3)\n",
    "\n",
    "jl = JointLikelihood(model, data, verbose=False)\n",
    "model.display()"
   ]
  },
  {
   "cell_type": "code",
   "execution_count": null,
   "id": "c61eea17",
   "metadata": {},
   "outputs": [],
   "source": [
    "res = jl.fit()\n",
    "fig = display_spectrum_model_counts(jl,min_rate=[.5,.1]);"
   ]
  },
  {
   "cell_type": "code",
   "execution_count": null,
   "id": "a5e255e0",
   "metadata": {},
   "outputs": [],
   "source": [
    "res = jl.get_contours(spectral_model.index_3,-2.5,-1.5,50)"
   ]
  },
  {
   "cell_type": "code",
   "execution_count": null,
   "id": "d82e30ca",
   "metadata": {},
   "outputs": [],
   "source": [
    "_ = jl.get_contours(spectral_model.K_3,.1,.3,25,\n",
    "                spectral_model.index_3,-2.5,-1.5,50);"
   ]
  },
  {
   "cell_type": "code",
   "execution_count": null,
   "id": "c7906754",
   "metadata": {},
   "outputs": [],
   "source": [
    "fig = plot_spectra(jl.results,show_legend=False, emin=.01*u.keV);"
   ]
  },
  {
   "cell_type": "markdown",
   "id": "64275c30",
   "metadata": {},
   "source": [
    "### Fit with astromodels PhAbs\n",
    "\n",
    "Now lets repeat the fit in pure astromodels."
   ]
  },
  {
   "cell_type": "code",
   "execution_count": null,
   "id": "b6fc47e8",
   "metadata": {},
   "outputs": [],
   "source": [
    "ptsrc_native = PointSource(trigger,ra,dec,spectral_shape=spectral_model_native)\n",
    "model_native = Model(ptsrc_native)"
   ]
  },
  {
   "cell_type": "markdown",
   "id": "0cfe1fa0",
   "metadata": {},
   "source": [
    "#### Fitting"
   ]
  },
  {
   "cell_type": "code",
   "execution_count": null,
   "id": "f41eeb4d",
   "metadata": {},
   "outputs": [],
   "source": [
    "data = DataList(xrt,nai3)\n",
    "\n",
    "jl_native = JointLikelihood(model_native, data, verbose=False)\n",
    "model.display()"
   ]
  },
  {
   "cell_type": "code",
   "execution_count": null,
   "id": "df4d532f",
   "metadata": {
    "tags": [
     "nbsphinx-thumbnail"
    ]
   },
   "outputs": [],
   "source": [
    "res = jl_native.fit()\n",
    "fig = display_spectrum_model_counts(jl_native,min_rate=[.5,.1]);"
   ]
  },
  {
   "cell_type": "code",
   "execution_count": null,
   "id": "33db6901",
   "metadata": {},
   "outputs": [],
   "source": [
    "fig = plot_spectra(jl.results,jl_native.results,show_legend=False, emin=.01*u.keV);"
   ]
  },
  {
   "cell_type": "markdown",
   "id": "32e7d6d2",
   "metadata": {},
   "source": [
    "Both approaches give the same answer as they should. "
   ]
  },
  {
   "cell_type": "code",
   "execution_count": null,
   "id": "874fbbc9",
   "metadata": {},
   "outputs": [],
   "source": []
  }
 ],
 "metadata": {
  "jupytext": {
   "formats": "ipynb,md"
  },
  "kernelspec": {
   "display_name": "Python 3",
   "language": "python",
   "name": "python3"
  }
 },
 "nbformat": 4,
 "nbformat_minor": 5
}
