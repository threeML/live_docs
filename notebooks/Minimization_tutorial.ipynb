{
 "cells": [
  {
   "cell_type": "markdown",
   "id": "9594739b",
   "metadata": {},
   "source": [
    "# Minimization\n",
    "\n",
    "When using a Maximum Likelihood analysis we want to find the maximum of the likelihood $L(\\vec{\\theta})$ given one or more datasets (i.e., plugin instances) and one model containing one or more sources with free parameters $\\vec{\\theta}$. Most of the available algorithms for function optimization find the minimum, not the maximum, of a function. Also, since the likelihood function is usually the product of many probabilities, bounded to be $0 < p < 1$, $L(\\vec{\\theta})$ tend to be very small. Hence, it is much more tractable numerically to deal with the logarithm of the likelihood. Therefore, instead of finding the maximum of the likelihood $L$, we find the minimum of the $-\\log{L(\\vec{\\theta})}$ function. Of course, the values of $\\vec{\\theta}$ minimizing $-\\log{L}$ are the same that maximize $L$, i.e.:\n",
    "\n",
    "argmax$_{\\vec{\\theta}}~\\left( L(\\vec{\\theta}) \\right)$ = argmin$_{\\vec{\\theta}}~\\left(-\\log{L(\\vec{\\theta})}\\right)$.\n",
    "\n",
    "Various minimizers are available in 3ML. We can divide them in two groups: local minimizers and global minimizers."
   ]
  },
  {
   "cell_type": "markdown",
   "id": "e20d6d9c",
   "metadata": {},
   "source": [
    "## Local minimizers\n",
    "\n",
    "Most of the existing optimization algorithms are local minimizers (MINUIT, Levenberg–Marquardt, Netwton...).\n",
    "A local minimizer starts from the current values for the free parameters $\\vec{\\theta}$ and try to reach the closest minimum of a function $f(\\vec{\\theta})$ (in 3ML this is usually the $-\\log{L}$).\n",
    "\n",
    "Many minimizers are based on the idea of gradient descent, i.e., they compute the local gradient of $f(\\vec{\\theta})$ and follow the function along the direction of steepest discent until the minimum. There are however also gradient-free algorithms, like for example [COBYLA](http://www.pyopt.org/reference/optimizers.cobyla.html). While going into the details of how each algorithm works is beyond the scope, we illustrate here an example by using the Minuit algorithm."
   ]
  },
  {
   "cell_type": "markdown",
   "id": "505096ea",
   "metadata": {},
   "source": [
    "Let's start by importing what we need in the following:\n"
   ]
  },
  {
   "cell_type": "code",
   "execution_count": null,
   "id": "78f9b058",
   "metadata": {
    "lines_to_next_cell": 0
   },
   "outputs": [],
   "source": [
    "import warnings\n",
    "warnings.simplefilter('ignore')\n"
   ]
  },
  {
   "cell_type": "markdown",
   "id": "d53dc6cf",
   "metadata": {},
   "source": [
    "\n"
   ]
  },
  {
   "cell_type": "code",
   "execution_count": null,
   "id": "8e357752",
   "metadata": {},
   "outputs": [],
   "source": [
    "%%capture\n",
    "from threeML import *\n",
    "from threeML.io.package_data import get_path_of_data_file\n"
   ]
  },
  {
   "cell_type": "code",
   "execution_count": null,
   "id": "d3317b44",
   "metadata": {
    "lines_to_next_cell": 2
   },
   "outputs": [],
   "source": [
    "from jupyterthemes import jtplot\n",
    "%matplotlib inline\n",
    "jtplot.style(context=\"talk\", fscale=1, ticks=True, grid=False)\n",
    "silence_warnings()\n",
    "set_threeML_style()\n",
    "\n",
    "from threeML.minimizer.tutorial_material import *"
   ]
  },
  {
   "cell_type": "markdown",
   "id": "dc326c0a",
   "metadata": {},
   "source": [
    "Let's get a JointLikelihood object like the one we would have in a normal 3ML analysis. We use a custom function, prepared for this tutorial, which gives a JointLikelihood object having a very simple model with one free parameter ($\\mu$), and with a likelihood having a very simple shape:"
   ]
  },
  {
   "cell_type": "code",
   "execution_count": null,
   "id": "df3ad878",
   "metadata": {},
   "outputs": [],
   "source": [
    "# This returns a JointLikelihood object with a simple likelihood function,\n",
    "# and the corresponding Model instance. These objects are what you will have\n",
    "# in a typical 3ML analysis. The Model contains one point source, named \"test\",\n",
    "# with a spectrum called \"simple\"\n",
    "jl, model = get_joint_likelihood_object_simple_likelihood()\n",
    "\n",
    "# Let's look at the likelihood function, which in this illustrative example\n",
    "# has a very simple shape\n",
    "_ = plot_likelihood_function(jl)"
   ]
  },
  {
   "cell_type": "markdown",
   "id": "5287a047",
   "metadata": {},
   "source": [
    "Now let's set up the Minuit minimizer and minimize the -log(L), starting from $\\mu = 1$:"
   ]
  },
  {
   "cell_type": "code",
   "execution_count": null,
   "id": "9858b50e",
   "metadata": {},
   "outputs": [],
   "source": [
    "model.test.spectrum.main.shape.mu = 1.0\n",
    "\n",
    "# The minuit minimizer is the default, so no setup is necessary\n",
    "# quiet = True means that no result will be printed\n",
    "res = jl.fit(quiet=True)\n",
    "\n",
    "# This plots the path that Minuit has traveled looking for the minimum\n",
    "# Arrows connect the different points, starting from 1.0 and going\n",
    "# to 40, the minimum\n",
    "\n",
    "fig = plot_minimizer_path(jl)"
   ]
  },
  {
   "cell_type": "markdown",
   "id": "275c77a4",
   "metadata": {},
   "source": [
    "Now let's do the same, but starting from $\\mu=80$:"
   ]
  },
  {
   "cell_type": "code",
   "execution_count": null,
   "id": "22fd8ad5",
   "metadata": {},
   "outputs": [],
   "source": [
    "model.test.spectrum.main.shape.mu = 80.0\n",
    "res = jl.fit(quiet=True)\n",
    "fig = plot_minimizer_path(jl)"
   ]
  },
  {
   "cell_type": "markdown",
   "id": "c19a5569",
   "metadata": {},
   "source": [
    "and from $\\mu=20$:"
   ]
  },
  {
   "cell_type": "code",
   "execution_count": null,
   "id": "7f3067ad",
   "metadata": {},
   "outputs": [],
   "source": [
    "model.test.spectrum.main.shape.mu = 20.0\n",
    "res = jl.fit(quiet=True)\n",
    "fig = plot_minimizer_path(jl)"
   ]
  },
  {
   "cell_type": "markdown",
   "id": "e7fce89b",
   "metadata": {},
   "source": [
    "It is clear that, depending on the starting point, minuit makes different steps trying to reach the minimum. In this last case, at one point Minuit overshoots the minimum jumping all the way from $\\sim 30$ to $\\sim 80$, then realizes the mistake and goes back.\n",
    "\n",
    "In the case of a simple, convex likelihood like this one, Minuit finds easily the minimum independently of the starting point."
   ]
  },
  {
   "cell_type": "markdown",
   "id": "6c6f204e",
   "metadata": {},
   "source": [
    "## Global minimization\n",
    "\n",
    "Now let us consider the case of a more complicated $-\\log{L}$ function:"
   ]
  },
  {
   "cell_type": "code",
   "execution_count": null,
   "id": "5fd0f0b6",
   "metadata": {},
   "outputs": [],
   "source": [
    "jl, model = get_joint_likelihood_object_complex_likelihood()\n",
    "\n",
    "_ = plot_likelihood_function(jl)"
   ]
  },
  {
   "cell_type": "markdown",
   "id": "c72df1f6",
   "metadata": {},
   "source": [
    "This likelihood function has 3 minima: 2 are local and one (at $\\mu = 60$) is the global minimum. Let's see how Minuit performs in this case. First we start from 1.0:"
   ]
  },
  {
   "cell_type": "code",
   "execution_count": null,
   "id": "0cfe9c18",
   "metadata": {},
   "outputs": [],
   "source": [
    "model.test.spectrum.main.shape.mu = 1.0\n",
    "\n",
    "res = jl.fit(quiet=True)\n",
    "\n",
    "fig = plot_minimizer_path(jl)"
   ]
  },
  {
   "cell_type": "markdown",
   "id": "857b8cd6",
   "metadata": {},
   "source": [
    "Minuit has found the local minimum, not the global one. Now we start from 80:"
   ]
  },
  {
   "cell_type": "code",
   "execution_count": null,
   "id": "50de620f",
   "metadata": {},
   "outputs": [],
   "source": [
    "model.test.spectrum.main.shape.mu = 70\n",
    "\n",
    "res = jl.fit(quiet=True)\n",
    "\n",
    "fig = plot_minimizer_path(jl)"
   ]
  },
  {
   "cell_type": "markdown",
   "id": "ccdadeb8",
   "metadata": {},
   "source": [
    "Now we found the global minimum. This is a simple example to show that the solution find by a local minimizers can depend on the starting point, and might not be the global minimum. In practice, one can rarely be guaranteed that the likelihood function has only one minimum. This is especially true in many dimensions and in cases of data with poor statistic. \n",
    "\n",
    "To alleviate this problem 3ML offers some \"global minimizers\". While it is impossible to guarantee that a global minimum will be reached, these minimizers are much more robust towards this kind of problems, at the expenses of a considerable longer runtime.\n",
    "\n",
    "In 3ML each global minimizer must be associated with a local minimizer. The latter is used as final step to improve the solution found by the global minimizer and to compute the error matrix.\n",
    "\n",
    "### Grid minimizer\n",
    "\n",
    "The idea behind this is very simple: the user defines a grid of values for the parameters, which are used as starting points for minimization performed by a local minimizers. At the end, the solution with the smallest value for $-\\log{L}$ will be used as final solution.\n",
    "\n",
    "For example, let's define a grid of 10 values for $\\mu$. This means that 3ML will perform 10 local minimizations starting each time from a different point in the grid:"
   ]
  },
  {
   "cell_type": "code",
   "execution_count": null,
   "id": "c580ff25",
   "metadata": {},
   "outputs": [],
   "source": [
    "import numpy as np\n",
    "\n",
    "# Create an instance of the GRID minimizer\n",
    "grid_minimizer = GlobalMinimization(\"grid\")\n",
    "    \n",
    "# Create an instance of a local minimizer, which will be used by GRID\n",
    "local_minimizer = LocalMinimization(\"minuit\")\n",
    "\n",
    "# Define a grid for mu as 10 steps between 2 and 80\n",
    "my_grid = {model.test.spectrum.main.shape.mu: np.linspace(2, 80, 10)}\n",
    "\n",
    "# Setup the global minimization\n",
    "# NOTE: the \"callbacks\" option is useless in a normal 3ML analysis, it is\n",
    "# here only to keep track of the evolution for the plot\n",
    "grid_minimizer.setup(second_minimization=local_minimizer, grid = my_grid, \n",
    "                     callbacks=[get_callback(jl)])\n",
    "\n",
    "# Set the minimizer for the JointLikelihood object\n",
    "jl.set_minimizer(grid_minimizer)\n",
    "\n",
    "jl.fit()\n",
    "\n",
    "fig = plot_minimizer_path(jl)"
   ]
  },
  {
   "cell_type": "markdown",
   "id": "52a92fa8",
   "metadata": {},
   "source": [
    "The GRID minimizer has found the global minimum.\n",
    "\n",
    "Of course the GRID minimizer can be used in multiple dimensions (simply define a grid for the other parameters as well). It is a simple brute force solution that works well in practice, especially when the likelihood function computation is not too time-consuming. When there are many parameters, you should choose carefully the parameters to use in the grid. For example, when looking for a spectral line in a spectrum, it makes sense to use the location of the line as parameter in the grid, but not its normalization. "
   ]
  },
  {
   "cell_type": "markdown",
   "id": "a71fc792",
   "metadata": {},
   "source": [
    "### PAGMO minimizer\n",
    "\n",
    "The Pagmo minimizer is an open-source optimization suite provided by the European Space Agency:\n",
    "\n",
    "https://esa.github.io/pagmo2/\n",
    "\n",
    "It contains a lot of algorithms for optimization of different kinds:\n",
    "\n",
    "https://esa.github.io/pagmo2/docs/algorithm_list.html\n",
    "\n",
    "and it is very powerful. In order to be able to use it you need to install the python package pygmo (make sure to have version >= 2, as the old version 1.x has a different API and won't work with 3ML).\n",
    "\n",
    "In Pagmo/pygmo, candidate solutions to the minimization are called \"individuals\". A population of individuals over which an algorithm acts to improve the solutions is called \"island\". An ensamble of islands that can share solutions along a defined topology and thus learn on their reciprocal progress is called \"archipelago\". The evolution of the populations can be executed more than once (\"evolution cycles\").\n",
    "\n",
    "After the pygmo section of the optimization has been completed, the secondary minimizer will be used to further improve on the solution (if possible) and to compute the covariance matrix."
   ]
  },
  {
   "cell_type": "code",
   "execution_count": null,
   "id": "be802535",
   "metadata": {},
   "outputs": [],
   "source": [
    "# Reset the parameter to a value different from the best fit found\n",
    "# by previous algorithms\n",
    "jl, model = get_joint_likelihood_object_complex_likelihood()\n",
    "model.test.spectrum.main.shape.mu = 2.5\n",
    "\n",
    "# Create an instance of the PAGMO minimizer\n",
    "pagmo_minimizer = GlobalMinimization(\"pagmo\")\n",
    "\n",
    "# Select one of the many algorithms provided by pagmo\n",
    "# (see https://esa.github.io/pagmo2/docs/algorithm_list.html\n",
    "# for a list).\n",
    "# In this case we use the Artificial Bee Colony algorithm\n",
    "# (see here for a description: https://link.springer.com/article/10.1007/s10898-007-9149-x)\n",
    "\n",
    "import pygmo\n",
    "my_algorithm = pygmo.algorithm(pygmo.bee_colony(gen=20))\n",
    "\n",
    "# Create an instance of a local minimizer\n",
    "local_minimizer = LocalMinimization(\"minuit\")\n",
    "\n",
    "# Setup the global minimization\n",
    "pagmo_minimizer.setup(second_minimization = local_minimizer, algorithm=my_algorithm,\n",
    "                      islands=10, population_size=10, evolution_cycles=1)\n",
    "\n",
    "# Set the minimizer for the JointLikelihood object\n",
    "jl.set_minimizer(pagmo_minimizer)\n",
    "\n",
    "jl.fit()\n",
    "\n",
    "# NOTE: given the inner working of pygmo, it is not possible\n",
    "# to plot the evolution"
   ]
  },
  {
   "cell_type": "markdown",
   "id": "4f23cec4",
   "metadata": {},
   "source": [
    "### Multinest minimizer\n",
    "\n",
    "[MultiNest](https://github.com/farhanferoz/MultiNest) is a Bayesian inference tool which calculates the evidence and explores the parameter space which may contain multiple posterior modes and pronounced (curving) degeneracies in moderately high dimensions. It is not strictly a minimizer. However, given its capacity to explore multiple modes of the likelihood function (i.e., multiple local minima), it can be used as a global minimizer.\n",
    "\n",
    "The Multinest minimizer in 3ML forms a posterior probability using the likelihood multiplied by uniformative priors. The priors are automatically chosen (uniform if the allowed parameter range is less than 2 orders of magnitudes or negative values are allowed, log-uniform otherwise). Then, Multinest is run in multimodal mode (multimodal=True). At the end of the run, among all the values of the $-\\log{L}$ traversed by Multinest, the smaller one is chosen as starting point for the local minimizer."
   ]
  },
  {
   "cell_type": "code",
   "execution_count": null,
   "id": "15f22b84",
   "metadata": {},
   "outputs": [],
   "source": [
    "# Reset the parameter to a value different from the best fit found\n",
    "# by previous algorithms\n",
    "jl, model = get_joint_likelihood_object_complex_likelihood()\n",
    "model.test.spectrum.main.shape.mu = 5.0\n",
    "\n",
    "# Create an instance of the multinest minimizer\n",
    "multinest_minimizer = GlobalMinimization(\"multinest\")\n",
    "\n",
    "# Create an instance of a local minimizer\n",
    "local_minimizer = LocalMinimization(\"minuit\")\n",
    "\n",
    "# Setup the global minimization\n",
    "multinest_minimizer.setup(second_minimization = local_minimizer, live_points=100)\n",
    "\n",
    "# Set the minimizer for the JointLikelihood object\n",
    "jl.set_minimizer(multinest_minimizer)\n",
    "\n",
    "jl.fit()\n",
    "\n",
    "# Plots the point traversed by Multinest\n",
    "fig = plot_minimizer_path(jl, points=True)"
   ]
  }
 ],
 "metadata": {
  "jupytext": {
   "formats": "ipynb,md"
  },
  "kernelspec": {
   "display_name": "Python 3",
   "language": "python",
   "name": "python3"
  }
 },
 "nbformat": 4,
 "nbformat_minor": 5
}
