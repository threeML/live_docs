{
 "cells": [
  {
   "cell_type": "markdown",
   "id": "b2866e28",
   "metadata": {
    "deletable": true,
    "editable": true,
    "lines_to_next_cell": 2
   },
   "source": [
    "# Background Modeling\n",
    "\n",
    "When fitting a spectrum with a background, it is invalid to simply subtract off the background if the background is part of the data's generative model [van Dyk et al. (2001)](http://iopscience.iop.org/article/10.1086/318656/meta). Therefore, we are often left with the task of modeling the statistical process of the background along with our source. \n",
    "\n",
    "In typical spectral modeling, we find a few common cases when background is involved. If we have total counts ($S_i$) in $i^{\\rm th}$ on $N$ bins observed for an exposure of $t_{\\rm s}$ and also a measurement of $B_i$ background counts from looking off source for $t_{\\rm b}$ seconds, we can then suppose a model for the source rate ($m_i$) and background rate ($b_i$).\n",
    "\n",
    "**Poisson source with Poisson background**\n",
    "\n",
    "This is described by a likelihood of the following form:\n",
    "\n",
    "$$ L = \\prod^N_{i=1} \\frac{(t_{\\rm s}(m_i+b_i))^{S_i} e^{-t_{\\rm s}(m_i+b_i)}}{S_i!} \\times \\frac{(t_{\\rm b} b_i)^{B_i} e^{-t_{\\rm b}b_i}}{B_i!}  $$\n",
    "\n",
    "which is a Poisson likelihood for the total model ($m_i +b_i$) conditional on the Poisson distributed background observation. This is the typical case for e.g. aperture x-ray instruments that observe a source region and then a background region. Both observations are Poisson distributed.\n",
    "\n",
    "**Poisson source with Gaussian background**\n",
    "\n",
    "This likelihood is similar, but the conditonal background distribution is described by Gaussian:\n",
    "\n",
    "$$ L = \\prod^N_{i=1} \\frac{(t_{\\rm s}(m_i+b_i))^{S_i} e^{-t_{\\rm s}(m_i+b_i)}}{S_i!} \\times \\frac{1}{\\sigma_{b,i}\\sqrt{2 \\pi}} \\exp \\left[ \\frac{({B_i} - t_{\\rm b} b_i)^2} {2 \\sigma_{b,i}^2} \\right] $$\n",
    "\n",
    "where the $\\sigma_{b,i}$ are the measured errors on $B_i$. This situation occurs e.g. when the background counts are estimated from a fitted model such as time-domain instruments that estimate the background counts from temporal fits to the lightcurve.\n",
    "\n",
    "In 3ML, we can fit a background model along with the the source model which allows for arbitrarily low background counts (in fact zero) in channels. The alternative is to use profile likelihoods where we first differentiate the likelihood with respect to the background model\n",
    "\n",
    "$$ \\frac{ \\partial L}{{\\partial b_i}} = 0$$\n",
    "\n",
    "and solve for the $b_i$ that maximize the likelihood. Both the Poisson and Gaussian background profile likelihoods are described in the [XSPEC statistics guide](https://heasarc.gsfc.nasa.gov/xanadu/xspec/manual/XSappendixStatistics.html). This implicitly yields $N$ parameters to the model thus requiring at least one background count per channel. These profile likelihoods are the default Poisson likelihoods in 3ML when a background model is not used with a **SpectrumLike** (and its children, **DispersionSpectrumLike** and **OGIPLike**) plugin.\n",
    "\n",
    "Let's examine how to handle both cases.\n"
   ]
  },
  {
   "cell_type": "code",
   "execution_count": null,
   "id": "eac02139",
   "metadata": {
    "lines_to_next_cell": 2
   },
   "outputs": [],
   "source": [
    "import warnings\n",
    "warnings.simplefilter('ignore')\n",
    "import numpy as np\n",
    "np.seterr(all=\"ignore\")"
   ]
  },
  {
   "cell_type": "code",
   "execution_count": null,
   "id": "cb4a0b4f",
   "metadata": {
    "deletable": true,
    "editable": true
   },
   "outputs": [],
   "source": [
    "%%capture\n",
    "from threeML import *\n"
   ]
  },
  {
   "cell_type": "code",
   "execution_count": null,
   "id": "2b69e945",
   "metadata": {},
   "outputs": [],
   "source": [
    "from jupyterthemes import jtplot\n",
    "%matplotlib inline\n",
    "jtplot.style(context=\"talk\", fscale=1, ticks=True, grid=False)\n",
    "set_threeML_style()\n",
    "silence_warnings()\n",
    "import astropy.units as u\n"
   ]
  },
  {
   "cell_type": "markdown",
   "id": "505057b3",
   "metadata": {
    "deletable": true,
    "editable": true
   },
   "source": [
    "First we will create an observation where we have a simulated broken power law source spectrum along with an observed background spectrum. The background is a powerl law continuum with a Gaussian line."
   ]
  },
  {
   "cell_type": "code",
   "execution_count": null,
   "id": "7996a5c3",
   "metadata": {
    "deletable": true,
    "editable": true
   },
   "outputs": [],
   "source": [
    "\n",
    "# create the simulated observation\n",
    "\n",
    "energies = np.logspace(1,4,151)\n",
    "\n",
    "low_edge = energies[:-1]\n",
    "high_edge = energies[1:]\n",
    "\n",
    "# get a BPL source function\n",
    "source_function = Broken_powerlaw(K=2,xb=300,piv=300, alpha=0., beta=-3.)\n",
    "\n",
    "# power law background function\n",
    "background_function = Powerlaw(K=.5,index=-1.5, piv=100.) + Gaussian(F=50,mu=511,sigma=20)\n",
    "\n",
    "spectrum_generator = SpectrumLike.from_function('fake',\n",
    "                                               source_function=source_function,\n",
    "                                               background_function=background_function,\n",
    "                                               energy_min=low_edge,\n",
    "                                               energy_max=high_edge)\n",
    "\n",
    "\n",
    "spectrum_generator.view_count_spectrum()"
   ]
  },
  {
   "cell_type": "markdown",
   "id": "1eb27e1a",
   "metadata": {
    "deletable": true,
    "editable": true
   },
   "source": [
    "## Using a profile likelihood\n",
    "\n",
    "We have very few counts counts in some channels (in fact sometimes zero), but let's assume we do not know the model for the background. In this case, we will use the profile Poisson likelihood."
   ]
  },
  {
   "cell_type": "code",
   "execution_count": null,
   "id": "f0875fca",
   "metadata": {
    "deletable": true,
    "editable": true
   },
   "outputs": [],
   "source": [
    "# instance our source spectrum\n",
    "bpl = Broken_powerlaw(piv=300,xb=500)\n",
    "\n",
    "# instance a point source\n",
    "ra, dec = 0,0\n",
    "ps_src = PointSource('source',ra,dec,spectral_shape=bpl)\n",
    "\n",
    "# instance the likelihood model\n",
    "src_model = Model(ps_src)\n",
    "\n",
    "# pass everything to a joint likelihood object\n",
    "jl_profile = JointLikelihood(src_model,DataList(spectrum_generator))\n",
    "\n",
    "\n",
    "# fit the model\n",
    "_ = jl_profile.fit()\n",
    "\n",
    "# plot the fit in count space\n",
    "_ = spectrum_generator.display_model(step=False) "
   ]
  },
  {
   "cell_type": "markdown",
   "id": "4479d420",
   "metadata": {
    "deletable": true,
    "editable": true
   },
   "source": [
    "Our fit recovers the simulated parameters. However, we should have binned the spectrum up such that there is at least one background count per spectral bin for the profile to be valid."
   ]
  },
  {
   "cell_type": "code",
   "execution_count": null,
   "id": "b9038f90",
   "metadata": {
    "deletable": true,
    "editable": true
   },
   "outputs": [],
   "source": [
    "spectrum_generator.rebin_on_background(1)\n",
    "\n",
    "spectrum_generator.view_count_spectrum()\n",
    "\n",
    "_ = jl_profile.fit()\n",
    "\n",
    "_ = spectrum_generator.display_model(step=False) "
   ]
  },
  {
   "cell_type": "markdown",
   "id": "0513cf48",
   "metadata": {
    "deletable": true,
    "editable": true
   },
   "source": [
    "## Modeling the background\n",
    "\n",
    "Now let's try to model the background assuming we know that the background is a power law with a Gaussian line. We can extract a background plugin from the data by passing the original plugin to a classmethod of spectrum like."
   ]
  },
  {
   "cell_type": "code",
   "execution_count": null,
   "id": "e47c2868",
   "metadata": {
    "deletable": true,
    "editable": true
   },
   "outputs": [],
   "source": [
    "# extract the background from the spectrum plugin.\n",
    "# This works for OGIPLike plugins as well, though we could easily also just read \n",
    "# in a bakcground PHA\n",
    "background_plugin = SpectrumLike.from_background('bkg',spectrum_generator)"
   ]
  },
  {
   "cell_type": "markdown",
   "id": "957482cb",
   "metadata": {
    "deletable": true,
    "editable": true
   },
   "source": [
    "This constructs a new plugin with only the observed background so that we can first model it."
   ]
  },
  {
   "cell_type": "code",
   "execution_count": null,
   "id": "26a4825a",
   "metadata": {
    "deletable": true,
    "editable": true
   },
   "outputs": [],
   "source": [
    "background_plugin.view_count_spectrum()"
   ]
  },
  {
   "cell_type": "markdown",
   "id": "9e254b2d",
   "metadata": {
    "deletable": true,
    "editable": true
   },
   "source": [
    "We now construct our background model and fit it to the data. Let's assume we know that the line occurs at 511 keV, but we are unsure of its strength an width. We do not need to bin the data up because we are using a simple Poisson likelihood which is valid even when we have zero counts [Cash (1979)](http://adsabs.harvard.edu/abs/1979ApJ...228..939C)."
   ]
  },
  {
   "cell_type": "code",
   "execution_count": null,
   "id": "3a1495ad",
   "metadata": {
    "deletable": true,
    "editable": true
   },
   "outputs": [],
   "source": [
    "# instance the spectrum setting the line's location to 511\n",
    "bkg_spectrum = Powerlaw(piv=100) +  Gaussian(F=50,mu=511)\n",
    "\n",
    "# setup model parameters\n",
    "# fix the line's location\n",
    "bkg_spectrum.mu_2.fix = True\n",
    "\n",
    "# nice parameter bounds\n",
    "bkg_spectrum.K_1.bounds = (1E-4, 10)\n",
    "bkg_spectrum.F_2.bounds = (0., 1000)\n",
    "bkg_spectrum.sigma_2.bounds = (2,30)\n",
    "\n",
    "ps_bkg = PointSource('bkg',0,0,spectral_shape=bkg_spectrum)\n",
    "\n",
    "bkg_model = Model(ps_bkg)\n",
    "\n",
    "\n",
    "jl_bkg = JointLikelihood(bkg_model,DataList(background_plugin))\n",
    "\n",
    "\n",
    "_ = jl_bkg.fit()\n",
    "\n",
    "_ = background_plugin.display_model(step=False, data_color='#1A68F0', model_color='#FF9700')"
   ]
  },
  {
   "cell_type": "markdown",
   "id": "a62e48f3",
   "metadata": {
    "deletable": true,
    "editable": true
   },
   "source": [
    "We now have a model and estimate for the background which we can use when fitting with the source spectrum. We now create a new plugin with just the total observation and pass our background plugin as the background argument."
   ]
  },
  {
   "cell_type": "code",
   "execution_count": null,
   "id": "c9077f4f",
   "metadata": {
    "deletable": true,
    "editable": true
   },
   "outputs": [],
   "source": [
    "modeled_background_plugin = SpectrumLike('full',\n",
    "                                         # here we use the original observation\n",
    "                                         observation=spectrum_generator.observed_spectrum,\n",
    "                                         # we pass the background plugin as the background!\n",
    "                                         background=background_plugin)"
   ]
  },
  {
   "cell_type": "markdown",
   "id": "0e72cb8a",
   "metadata": {
    "deletable": true,
    "editable": true
   },
   "source": [
    "When we look at out count spectrum now, we will see the *predicted* background, rather than the measured one:"
   ]
  },
  {
   "cell_type": "code",
   "execution_count": null,
   "id": "11377003",
   "metadata": {
    "deletable": true,
    "editable": true
   },
   "outputs": [],
   "source": [
    "modeled_background_plugin.view_count_spectrum()"
   ]
  },
  {
   "cell_type": "markdown",
   "id": "8e9ef4c6",
   "metadata": {
    "deletable": true,
    "editable": true
   },
   "source": [
    "Now we simply fit the spectrum as we did in the profiled case. The background plugin's parameters are stored in our new plugin as nuissance parameters:"
   ]
  },
  {
   "cell_type": "code",
   "execution_count": null,
   "id": "ff093605",
   "metadata": {
    "deletable": true,
    "editable": true
   },
   "outputs": [],
   "source": [
    "modeled_background_plugin.nuisance_parameters"
   ]
  },
  {
   "cell_type": "markdown",
   "id": "cc3640f8",
   "metadata": {
    "deletable": true,
    "editable": true
   },
   "source": [
    "and the fitting engine will use them in the fit. The parameters will still be connected to the background plugin and its model and thus we can free/fix them there as well as set priors on them."
   ]
  },
  {
   "cell_type": "code",
   "execution_count": null,
   "id": "fa8a2c0c",
   "metadata": {
    "deletable": true,
    "editable": true
   },
   "outputs": [],
   "source": [
    "# instance the source model... the background plugin has it's model already specified\n",
    "bpl = Broken_powerlaw(piv=300,xb=500)\n",
    "\n",
    "bpl.K.bounds = (1E-5,1E1)\n",
    "bpl.xb.bounds = (1E1,1E4)\n",
    "\n",
    "ps_src = PointSource('source',0,0,bpl)\n",
    "\n",
    "src_model = Model(ps_src)\n",
    "\n",
    "\n",
    "jl_src = JointLikelihood(src_model,DataList(modeled_background_plugin))\n",
    "\n",
    "_ = jl_src.fit()"
   ]
  },
  {
   "cell_type": "code",
   "execution_count": null,
   "id": "97d9ae3a",
   "metadata": {
    "deletable": true,
    "editable": true
   },
   "outputs": [],
   "source": [
    "\n",
    "# over plot the joint background and source fits\n",
    "fig = modeled_background_plugin.display_model(step=False)\n",
    "\n",
    "_ = background_plugin.display_model(data_color='#1A68F0', model_color='#FF9700',model_subplot=fig.axes,step=False)"
   ]
  },
  {
   "cell_type": "code",
   "execution_count": null,
   "id": "1e839953",
   "metadata": {
    "deletable": true,
    "editable": true
   },
   "outputs": [],
   "source": []
  }
 ],
 "metadata": {
  "jupytext": {
   "formats": "ipynb,md"
  },
  "kernelspec": {
   "display_name": "Python 3",
   "language": "python",
   "name": "python3"
  }
 },
 "nbformat": 4,
 "nbformat_minor": 5
}
