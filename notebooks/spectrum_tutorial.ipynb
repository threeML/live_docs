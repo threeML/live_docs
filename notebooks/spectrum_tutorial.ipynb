{
 "cells": [
  {
   "cell_type": "markdown",
   "id": "190da06b",
   "metadata": {},
   "source": [
    "# Spectrum Plugins \n",
    "\n",
    "The **SpectrumLike** plugin is designed to handle binned photon/particle spectra. It comes in three basic classes:\n",
    "\n",
    "* **SpectrumLike**: Generic binned spectral\n",
    "* **DispersionSpectrumLike**: Generic binned spectra with energy dispersion\n",
    "* **OGIPLike**: binned spectra with dispersion from OGIP PHA files\n",
    "\n",
    "The functionality of all three plugins is the same."
   ]
  },
  {
   "cell_type": "markdown",
   "id": "4e3bec1f",
   "metadata": {},
   "source": [
    "## SpectrumLike\n",
    "\n",
    "The most basic spectrum plugin is **SpectrumLike** which handles spectra with and without backgrounds. There are six basic features of a spectrum:\n",
    "\n",
    "* the energy boundries of the bins,\n",
    "* the data in these energy bins,\n",
    "* the statistical properties of the total spectrum\n",
    "    * Possion (counts are meausred in an on/off fashion),\n",
    "    * Gaussian (counts are the result of a masking process or a fit),\n",
    "* the exposure,\n",
    "* the background (and its associated statistical properties),\n",
    "* and any known systematic errors associated with the total or background spectrum.\n",
    "\n",
    "Let's start by examining an observation where the total counts are Poisson distributed and the measured background ground has been observed by viewing an off-source region and hence is also Poisson.\n"
   ]
  },
  {
   "cell_type": "code",
   "execution_count": null,
   "id": "30d3b177",
   "metadata": {
    "lines_to_next_cell": 2
   },
   "outputs": [],
   "source": [
    "import warnings\n",
    "warnings.simplefilter('ignore')\n",
    "import numpy as np\n",
    "np.seterr(all=\"ignore\")"
   ]
  },
  {
   "cell_type": "code",
   "execution_count": null,
   "id": "1fb7a698",
   "metadata": {},
   "outputs": [],
   "source": [
    "%%capture\n",
    "import matplotlib.pyplot as plt\n",
    "\n",
    "from threeML import *\n",
    "from threeML.io.package_data import get_path_of_data_file"
   ]
  },
  {
   "cell_type": "code",
   "execution_count": null,
   "id": "6f66a633",
   "metadata": {
    "lines_to_next_cell": 2
   },
   "outputs": [],
   "source": [
    "from jupyterthemes import jtplot\n",
    "%matplotlib inline\n",
    "jtplot.style(context=\"talk\", fscale=1, ticks=True, grid=False)\n",
    "set_threeML_style()\n",
    "silence_warnings()\n"
   ]
  },
  {
   "cell_type": "markdown",
   "id": "1220bbc1",
   "metadata": {},
   "source": [
    "We will construct a simulated spectrum over the energy range 10-1000 keV. The spectrum will have logrithmic energy boundaries.\n",
    "\n",
    "We will simulate a blackbody source spectrum on top of powerlaw background."
   ]
  },
  {
   "cell_type": "code",
   "execution_count": null,
   "id": "b6b86c6f",
   "metadata": {},
   "outputs": [],
   "source": [
    "energies = np.logspace(1,3,51)\n",
    "\n",
    "low_edge = energies[:-1]\n",
    "high_edge = energies[1:]\n",
    "\n",
    "# get a blackbody source function\n",
    "source_function = Blackbody(K=9E-2,kT=20)\n",
    "\n",
    "# power law background function\n",
    "background_function = Powerlaw(K=1,index=-1.5, piv=100.)\n",
    "\n",
    "spectrum_generator = SpectrumLike.from_function('fake',\n",
    "                                               source_function=source_function,\n",
    "                                               background_function=background_function,\n",
    "                                               energy_min=low_edge,\n",
    "                                               energy_max=high_edge)"
   ]
  },
  {
   "cell_type": "markdown",
   "id": "a086233c",
   "metadata": {},
   "source": [
    "### The count spectrum\n",
    "\n",
    "Let's examine a few properties about the count spectrum including the contents stored in the plugin, viewing the count distribution, masking channels, and rebinnined the spectrum.\n",
    "\n",
    "\n",
    "We can examine the contents of our plugin with the display function:"
   ]
  },
  {
   "cell_type": "code",
   "execution_count": null,
   "id": "03c7c69d",
   "metadata": {},
   "outputs": [],
   "source": [
    "spectrum_generator.display()"
   ]
  },
  {
   "cell_type": "markdown",
   "id": "61de9c10",
   "metadata": {},
   "source": [
    "These properties are accessible from the object. For example:"
   ]
  },
  {
   "cell_type": "code",
   "execution_count": null,
   "id": "80c226c4",
   "metadata": {},
   "outputs": [],
   "source": [
    "print(spectrum_generator.exposure)\n",
    "print(spectrum_generator.significance)\n",
    "print(spectrum_generator.observed_counts)"
   ]
  },
  {
   "cell_type": "markdown",
   "id": "9c37746e",
   "metadata": {},
   "source": [
    "To view the count spectrum, we call the *view_count_spectrum* method:"
   ]
  },
  {
   "cell_type": "code",
   "execution_count": null,
   "id": "572a75a1",
   "metadata": {},
   "outputs": [],
   "source": [
    "fig = spectrum_generator.view_count_spectrum()"
   ]
  },
  {
   "cell_type": "markdown",
   "id": "93ca1aa7",
   "metadata": {},
   "source": [
    "It is even possible see which channels are above a given significance threshold. Red regions are below the supplied significance regions. "
   ]
  },
  {
   "cell_type": "code",
   "execution_count": null,
   "id": "be0b37e8",
   "metadata": {},
   "outputs": [],
   "source": [
    "fig = spectrum_generator.view_count_spectrum(significance_level=5)"
   ]
  },
  {
   "cell_type": "markdown",
   "id": "79420fee",
   "metadata": {},
   "source": [
    "**Note:** In 3ML, the **Significance** module is used to compute significnaces. When total counts ($N_{\\rm on}$) are Poisson distributed and the background or off-source counts ($N_{\\rm off}$) are also Poisson distributed, the significance in $\\sigma$ is calculated via the likelihood ratio derived in [Li & Ma (1980)](http://adsabs.harvard.edu/abs/1983ApJ...272..317L):\n",
    "\n",
    "$$ \\sigma = \\sqrt{-2 \\log \\lambda} = \\sqrt{2} \\left( N_{\\rm on} \\log \\left[ \\frac{1+\\alpha}{\\alpha} \\frac{N_{\\rm on}}{N_{\\rm on}+N_{\\rm off}} \\right] + N_{\\rm off} \\log \\left[ (1 + \\alpha)\\frac{N_{\\rm off}}{N_{\\rm on}+N_{\\rm off}} \\right] \\right)$$\n",
    "\n",
    "In the case that the background is Gaussian distributed, an equivalent likelihood ratio is used (see Vianello *in prep*).\n",
    "\n",
    "#### Selection\n",
    "\n",
    "Many times, there are channels that we are not valid for analysis due to poor instrument characteristics, overflow, or systematics. We then would like to mask or exclude these channels before fitting the spectrum. We provide several ways to do this and it is useful to consult the docstring. However, we review the process here.\n",
    "\n",
    "**NOTE to Xspec users: while XSpec uses integers and floats to distinguish between energies and channels\n",
    "specifications, 3ML does not, as it would be error-prone when writing scripts. Read the following documentation\n",
    "to know how to achieve the same functionality.**\n",
    "\n",
    "##### Energy selections:\n",
    "They are specified as 'emin-emax'. Energies are in keV. "
   ]
  },
  {
   "cell_type": "code",
   "execution_count": null,
   "id": "bdbd4d6d",
   "metadata": {},
   "outputs": [],
   "source": [
    "spectrum_generator.set_active_measurements('10-12.5','56.0-100.0')\n",
    "fig = spectrum_generator.view_count_spectrum()"
   ]
  },
  {
   "cell_type": "markdown",
   "id": "0184f51e",
   "metadata": {},
   "source": [
    "which will set the energy range 10-12.5 keV and 56-100 keV to be\n",
    " used in the analysis. Note that there is no difference in saying 10 or 10.0.\n",
    "\n",
    "##### Channel selections:\n",
    "\n",
    "They are specified as 'c[channel min]-c[channel max]'."
   ]
  },
  {
   "cell_type": "code",
   "execution_count": null,
   "id": "5bc5d8ad",
   "metadata": {},
   "outputs": [],
   "source": [
    "spectrum_generator.set_active_measurements('c10-c12','c20-c50')\n",
    "fig = spectrum_generator.view_count_spectrum()"
   ]
  },
  {
   "cell_type": "markdown",
   "id": "4bfbf3b3",
   "metadata": {},
   "source": [
    "This will set channels 10-12 and 20-50 as active channels to be used in the analysis\n",
    "\n",
    "##### Mixed channel and energy selections:\n",
    "\n",
    "You can also specify mixed energy/channel selections, for example to go from 0.2 keV to channel 10 and from channel 20 to 1000 keV:"
   ]
  },
  {
   "cell_type": "code",
   "execution_count": null,
   "id": "d04289f2",
   "metadata": {},
   "outputs": [],
   "source": [
    "spectrum_generator.set_active_measurements('0.2-c10','c20-1000')\n",
    "fig = spectrum_generator.view_count_spectrum()"
   ]
  },
  {
   "cell_type": "markdown",
   "id": "724e2400",
   "metadata": {},
   "source": [
    "##### Use all measurements (i.e., reset to initial state):\n",
    "\n",
    "Use 'all' to select all measurements, as in:\n"
   ]
  },
  {
   "cell_type": "code",
   "execution_count": null,
   "id": "408e82b2",
   "metadata": {},
   "outputs": [],
   "source": [
    "spectrum_generator.set_active_measurements('all')\n",
    "fig = spectrum_generator.view_count_spectrum()"
   ]
  },
  {
   "cell_type": "markdown",
   "id": "23eda3c1",
   "metadata": {},
   "source": [
    "##### Exclude measurements:\n",
    "\n",
    "Excluding measurements work as selecting measurements, but with the \"exclude\" keyword set to the energies and/or channels to be excluded. To exclude between channel 10 and 20 keV and 50 keV to channel 120 do:"
   ]
  },
  {
   "cell_type": "code",
   "execution_count": null,
   "id": "efec50cb",
   "metadata": {},
   "outputs": [],
   "source": [
    "spectrum_generator.set_active_measurements(exclude=[\"c2-20\", \"50-c40\"])\n",
    "fig = spectrum_generator.view_count_spectrum()"
   ]
  },
  {
   "cell_type": "markdown",
   "id": "19bd33b5",
   "metadata": {},
   "source": [
    "##### Select and exclude:\n",
    "\n",
    "Call this method more than once if you need to select and exclude. For example, to select between 0.2 keV and channel 10, but exclude channel 30-50 and energy, do:"
   ]
  },
  {
   "cell_type": "code",
   "execution_count": null,
   "id": "51f7c1b0",
   "metadata": {},
   "outputs": [],
   "source": [
    "spectrum_generator.set_active_measurements(\"0.2-c10\",exclude=[\"c30-c50\"])\n",
    "fig = spectrum_generator.view_count_spectrum()"
   ]
  },
  {
   "cell_type": "markdown",
   "id": "fdbe3a59",
   "metadata": {},
   "source": [
    "### Rebinning\n",
    "\n",
    "We can rebin the spectra based off a minimum total or background rate requried. This is useful when using profile likelihoods, however, we do not change the underlying likelihood by binning up the data. For more information, consult the statistics section.\n",
    "\n",
    "To rebin a spectrum based off the total counts, we specify the minimum counts per bin we would like, say 100:"
   ]
  },
  {
   "cell_type": "code",
   "execution_count": null,
   "id": "8993329e",
   "metadata": {},
   "outputs": [],
   "source": [
    "spectrum_generator.set_active_measurements(\"all\")\n",
    "\n",
    "spectrum_generator.rebin_on_source(100)\n",
    "\n",
    "fig = spectrum_generator.view_count_spectrum()"
   ]
  },
  {
   "cell_type": "markdown",
   "id": "afda5913",
   "metadata": {},
   "source": [
    "We can remove the rebinning this way:"
   ]
  },
  {
   "cell_type": "code",
   "execution_count": null,
   "id": "cb968483",
   "metadata": {},
   "outputs": [],
   "source": [
    "spectrum_generator.remove_rebinning()"
   ]
  },
  {
   "cell_type": "markdown",
   "id": "36e88397",
   "metadata": {},
   "source": [
    "Instead, when using a profile likelihood which requires at least one background count per bin to be valid, we would call:"
   ]
  },
  {
   "cell_type": "code",
   "execution_count": null,
   "id": "4e6b9592",
   "metadata": {},
   "outputs": [],
   "source": [
    "spectrum_generator.rebin_on_background(10)\n",
    "fig = spectrum_generator.view_count_spectrum()"
   ]
  },
  {
   "cell_type": "code",
   "execution_count": null,
   "id": "26f30e18",
   "metadata": {},
   "outputs": [],
   "source": [
    "spectrum_generator.remove_rebinning()"
   ]
  },
  {
   "cell_type": "markdown",
   "id": "c172ac7a",
   "metadata": {},
   "source": [
    "### Fitting\n",
    "\n",
    "To fit the data, we need to create a function, a PointSouce, a Model, and either a JointLikelihood or BayesianAnalysis object. "
   ]
  },
  {
   "cell_type": "code",
   "execution_count": null,
   "id": "3c9e0678",
   "metadata": {},
   "outputs": [],
   "source": [
    "bb = Blackbody()\n",
    "\n",
    "pts = PointSource('mysource',0,0,spectral_shape=bb)\n",
    "\n",
    "model = Model(pts)\n",
    "\n",
    "# MLE fitting\n",
    "\n",
    "jl = JointLikelihood(model,DataList(spectrum_generator))\n",
    "\n",
    "result = jl.fit()"
   ]
  },
  {
   "cell_type": "code",
   "execution_count": null,
   "id": "0cbbd6d1",
   "metadata": {},
   "outputs": [],
   "source": [
    "count_fig1 = spectrum_generator.display_model(min_rate=10)"
   ]
  },
  {
   "cell_type": "code",
   "execution_count": null,
   "id": "93249ac6",
   "metadata": {},
   "outputs": [],
   "source": [
    "_ = plot_spectra(jl.results, flux_unit='erg/(cm2 s keV)')\n",
    "\n",
    "_ = plt.ylim(1E-20)"
   ]
  },
  {
   "cell_type": "markdown",
   "id": "ff1dc81d",
   "metadata": {},
   "source": [
    "Perhaps we want to fit a different model and compare the results. We change the spectral model and will overplot the fit's expected counts with the fit to the blackbody."
   ]
  },
  {
   "cell_type": "code",
   "execution_count": null,
   "id": "70db34e2",
   "metadata": {},
   "outputs": [],
   "source": [
    "import warnings\n",
    "\n",
    "pl = Powerlaw()\n",
    "\n",
    "pts = PointSource('mysource',0,0,spectral_shape=pl)\n",
    "\n",
    "model = Model(pts)\n",
    "\n",
    "# MLE fitting\n",
    "\n",
    "jl = JointLikelihood(model,DataList(spectrum_generator))\n",
    "\n",
    "with warnings.catch_warnings():\n",
    "    warnings.simplefilter('ignore')\n",
    "\n",
    "    result = jl.fit()"
   ]
  },
  {
   "cell_type": "code",
   "execution_count": null,
   "id": "463f527c",
   "metadata": {},
   "outputs": [],
   "source": [
    "spectrum_generator.display_model(min_rate=10,\n",
    "                                 show_data=False,\n",
    "                                 show_residuals=True,\n",
    "                                 data_color='g',\n",
    "                                 model_color='b',\n",
    "                                 model_label='powerlaw',\n",
    "                                 model_subplot=count_fig1.axes)"
   ]
  },
  {
   "cell_type": "markdown",
   "id": "b440c4df",
   "metadata": {},
   "source": [
    "Examining the fit in count space lets us easily see that the fit with the powerlaw model is very poor. We can of course deterimine the fit quality numerically, but this is saved for another section."
   ]
  },
  {
   "cell_type": "markdown",
   "id": "c0cf3929",
   "metadata": {},
   "source": [
    "## DispersionSpectrumLike\n",
    "\n",
    "Instruments that exhibit energy dispersion must have their spectra fit through a process called forward folding. Let $R(\\varepsilon,E)$ be our response converting between true (monte carlo) energy ($E$) and detector channel/energy ($\\varepsilon$), $f(E, \\vec{\\phi}_{\\rm s})$ be our photon model which is a function of $E$ and  source model parameters $\\vec{\\phi}_{\\rm s}$. Then, the source counts ($S_{c} (\\vec{\\phi}_{\\rm s})$) registered in the detector between channel (c) with energy boundaries $E_{{\\rm min}, c}$ and  $E_{{\\rm max}, c}$ (in the absence of background) are given by the convolution of the photon model with the response:\n",
    "\n",
    "$$S_{c} (\\vec{\\phi}_{\\rm s}) =\n",
    "  \\int_{0}^\\infty {\\rm d} E \\, f(E, \\vec{\\phi}_{\\rm s})\n",
    "  \\int_{E_{{\\rm min}, c}}^{E_{{\\rm max}, c}} {\\rm d} \\varepsilon\n",
    "  \\, R(\\varepsilon, E) $$\n",
    "\n",
    "Therefore, to fit the data in count space, we assume a photon model, fold it through the response, and calculate the predicted counts. This process is iterated on the source model parameters via likelihood minimization or posterior sampling until an optimal set of parameters is found. \n",
    "\n",
    "To handle dispersed spectra, 3ML provides the **DispersionSpectrumLike** plugin.\n"
   ]
  },
  {
   "cell_type": "code",
   "execution_count": null,
   "id": "3ec6ccf4",
   "metadata": {},
   "outputs": [],
   "source": [
    "from threeML.plugins.DispersionSpectrumLike import DispersionSpectrumLike\n",
    "from threeML.utils.OGIP.response import OGIPResponse\n",
    "from threeML.io.package_data import get_path_of_data_file\n",
    "\n",
    "\n",
    "# we will use a demo response\n",
    "response = OGIPResponse(get_path_of_data_file('datasets/ogip_powerlaw.rsp'))\n",
    "\n",
    "\n",
    "\n",
    "source_function = Broken_powerlaw(K=1E-2,\n",
    "                                  alpha=0,\n",
    "                                  beta=-2,\n",
    "                                  xb=2000,\n",
    "                                  piv=200)\n",
    "\n",
    "background_function = Powerlaw(K=10,\n",
    "                               index=-1.5,\n",
    "                               piv=100.)\n",
    "\n",
    "dispersion_spectrum_generator = DispersionSpectrumLike.from_function('test',\n",
    "                                 source_function=source_function,\n",
    "                                 response=response,\n",
    "                                 background_function=background_function)"
   ]
  },
  {
   "cell_type": "markdown",
   "id": "ffa17bf7",
   "metadata": {},
   "source": [
    "We can view the response and the count spectrum created."
   ]
  },
  {
   "cell_type": "code",
   "execution_count": null,
   "id": "93144fa1",
   "metadata": {},
   "outputs": [],
   "source": [
    "threeML_config.plugins.ogip.response_zero_color = \"k\"\n",
    "threeML_config.plugins.ogip.response_cmap = \"magma\"\n",
    "\n",
    "_ = dispersion_spectrum_generator.display_rsp()"
   ]
  },
  {
   "cell_type": "code",
   "execution_count": null,
   "id": "ede9453b",
   "metadata": {},
   "outputs": [],
   "source": [
    "fig = dispersion_spectrum_generator.view_count_spectrum()"
   ]
  },
  {
   "cell_type": "markdown",
   "id": "7c66e79d",
   "metadata": {},
   "source": [
    "All the functionality of **SpectrumLike** is inherited in **DispersionSpectrumLike**. Therefore, fitting, and examination of the data is the same.\n",
    "\n",
    "\n",
    "## OGIPLike\n",
    "\n",
    "Finally, many x-ray mission provide data in the form of fits files known and pulse-height analysis (PHA) data. The keywords for the information in the data are known as the Office of Guest Investigators Program (OGIP) standard. While these data are always a form of binned spectra, 3ML provide a convience plugin for reading OGIP standard PHA Type I (single spectrum) and Type II (multiple spectrum) files.\n",
    "\n",
    "The **OGIPLike** plugin inherits from **DispersionSpectrumLike** and thus needs either a full response or a redistribution matrix (RMF) and ancillary response (ARF) file. The plugin will prove the keywords in the data files to automatically figure out the correct likelihood for the observation."
   ]
  },
  {
   "cell_type": "code",
   "execution_count": null,
   "id": "75bf3157",
   "metadata": {},
   "outputs": [],
   "source": [
    "ogip_data = OGIPLike('ogip',\n",
    "                     observation=get_path_of_data_file('datasets/ogip_powerlaw.pha'),\n",
    "                     background = get_path_of_data_file('datasets/ogip_powerlaw.bak'),\n",
    "                     response=get_path_of_data_file('datasets/ogip_powerlaw.rsp'))"
   ]
  },
  {
   "cell_type": "code",
   "execution_count": null,
   "id": "69081950",
   "metadata": {},
   "outputs": [],
   "source": [
    "ogip_data.display()"
   ]
  },
  {
   "cell_type": "code",
   "execution_count": null,
   "id": "d7c91dce",
   "metadata": {},
   "outputs": [],
   "source": [
    "fig = ogip_data.view_count_spectrum()"
   ]
  },
  {
   "cell_type": "markdown",
   "id": "1a252e78",
   "metadata": {},
   "source": [
    "When using PHA Type II data, a spectrum number must be supplied to indicate which spectrum from the file to use. Users can also follow the XSPEC convention of specifying the spectrum number in the filename (e.g. 'my_pha.fits{1}') "
   ]
  }
 ],
 "metadata": {
  "jupytext": {
   "formats": "ipynb,md"
  },
  "kernelspec": {
   "display_name": "Python 3",
   "language": "python",
   "name": "python3"
  }
 },
 "nbformat": 4,
 "nbformat_minor": 5
}
