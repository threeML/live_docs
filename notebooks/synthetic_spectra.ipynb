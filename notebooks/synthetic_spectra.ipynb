{
 "cells": [
  {
   "cell_type": "markdown",
   "id": "c0c6e574",
   "metadata": {},
   "source": [
    "# Generating Synthetic Data\n",
    "In data analysis, it is important that we have the ability to test our assumptions. One powerful tool to enable these tests is simulation. In 3ML, we have several ways to generate synthetic data sets both from models and from fits."
   ]
  },
  {
   "cell_type": "markdown",
   "id": "6c05f6b5",
   "metadata": {},
   "source": [
    "## Synthetic data from spectra"
   ]
  },
  {
   "cell_type": "markdown",
   "id": "6940a82d",
   "metadata": {},
   "source": [
    "### Genertating data from models\n",
    "\n",
    "Most of the current plugins support the ability to generate synthetic data directly from a model. This can be very useful to assertain the detectability of a source/component/line or simply to see how models look once they are transformed into data. Below we will demonstrate how different plugins transform a model into synthetic data."
   ]
  },
  {
   "cell_type": "markdown",
   "id": "131da835",
   "metadata": {},
   "source": [
    "#### XYLike\n",
    "\n",
    "In many of the examples, the basic XYLike plugin has been used to generate synthetic data. Here, we will revisit the plugin for completeness.\n"
   ]
  },
  {
   "cell_type": "code",
   "execution_count": null,
   "id": "73a47e7d",
   "metadata": {
    "lines_to_next_cell": 2
   },
   "outputs": [],
   "source": [
    "import warnings\n",
    "warnings.simplefilter('ignore')"
   ]
  },
  {
   "cell_type": "code",
   "execution_count": null,
   "id": "45119de9",
   "metadata": {},
   "outputs": [],
   "source": [
    "import matplotlib.pyplot as plt\n",
    "import numpy as np\n",
    "np.seterr(all=\"ignore\")\n",
    "from threeML import *\n",
    "from threeML.io.package_data import get_path_of_data_file"
   ]
  },
  {
   "cell_type": "code",
   "execution_count": null,
   "id": "e2326789",
   "metadata": {
    "lines_to_next_cell": 2
   },
   "outputs": [],
   "source": [
    "from jupyterthemes import jtplot\n",
    "%matplotlib inline\n",
    "jtplot.style(context=\"talk\", fscale=1, ticks=True, grid=False)\n",
    "set_threeML_style()\n",
    "silence_warnings()"
   ]
  },
  {
   "cell_type": "code",
   "execution_count": null,
   "id": "6aa2932e",
   "metadata": {},
   "outputs": [],
   "source": [
    "# Select an astromodels function to from which to simualte\n",
    "generating_function = Powerlaw(K=1.0, index=-2, piv=10.0)\n",
    "\n",
    "# set up the x grig points\n",
    "x_points = np.logspace(0, 2, 50)\n",
    "\n",
    "# call the from_function classmethod\n",
    "xyl_generator = XYLike.from_function(\n",
    "    \"sim_data\",\n",
    "    function=generating_function,\n",
    "    x=x_points,\n",
    "    yerr=0.3 * generating_function(x_points),\n",
    ")\n",
    "\n",
    "\n",
    "fig = xyl_generator.plot(x_scale=\"log\", y_scale=\"log\");"
   ]
  },
  {
   "cell_type": "markdown",
   "id": "3ac99d4f",
   "metadata": {},
   "source": [
    "#### SpectrumLike\n",
    "\n",
    "Generating synthetic spectra from SpectrumLike (non-energy dispersed count spectra) can take many forms with different inputs.\n",
    "\n",
    "First, let's set the energy bins we will use for all generated spectra"
   ]
  },
  {
   "cell_type": "code",
   "execution_count": null,
   "id": "a88817ed",
   "metadata": {},
   "outputs": [],
   "source": [
    "\n",
    "energies = np.logspace(0,2,51)\n",
    "\n",
    "# create the low and high energy bin edges\n",
    "low_edge = energies[:-1]\n",
    "high_edge = energies[1:]"
   ]
  },
  {
   "cell_type": "markdown",
   "id": "021527a9",
   "metadata": {},
   "source": [
    "Now, let's use a blackbody for the source spectrum."
   ]
  },
  {
   "cell_type": "code",
   "execution_count": null,
   "id": "96f6ad0d",
   "metadata": {},
   "outputs": [],
   "source": [
    "# get a BPL source function\n",
    "source_function = Blackbody(K=1, kT = 5.)"
   ]
  },
  {
   "cell_type": "markdown",
   "id": "e6687012",
   "metadata": {},
   "source": [
    "##### Poisson spectrum with no background"
   ]
  },
  {
   "cell_type": "code",
   "execution_count": null,
   "id": "e390b7f9",
   "metadata": {},
   "outputs": [],
   "source": [
    "spectrum_generator = SpectrumLike.from_function('fake',\n",
    "                                               source_function=source_function,\n",
    "                                               energy_min=low_edge,\n",
    "                                               energy_max=high_edge)\n",
    "\n",
    "\n",
    "fig = spectrum_generator.view_count_spectrum();"
   ]
  },
  {
   "cell_type": "markdown",
   "id": "c734da6e",
   "metadata": {},
   "source": [
    "##### Gaussian spectrum with no background"
   ]
  },
  {
   "cell_type": "code",
   "execution_count": null,
   "id": "7e815470",
   "metadata": {},
   "outputs": [],
   "source": [
    "spectrum_generator = SpectrumLike.from_function('fake',\n",
    "                                               source_function=source_function,\n",
    "                                               source_errors= 0.5 * source_function(low_edge),\n",
    "                                               energy_min=low_edge,\n",
    "                                               energy_max=high_edge)\n",
    "\n",
    "\n",
    "fig = spectrum_generator.view_count_spectrum();"
   ]
  },
  {
   "cell_type": "markdown",
   "id": "161495e5",
   "metadata": {},
   "source": [
    "##### Poisson spectrum with Poisson Background"
   ]
  },
  {
   "cell_type": "code",
   "execution_count": null,
   "id": "4e2844e6",
   "metadata": {},
   "outputs": [],
   "source": [
    "\n",
    "# power law background function\n",
    "background_function = Powerlaw(K=.7,index=-1.5, piv=10.)\n",
    "\n",
    "spectrum_generator = SpectrumLike.from_function('fake',\n",
    "                                               source_function=source_function,\n",
    "                                               background_function=background_function,\n",
    "                                               energy_min=low_edge,\n",
    "                                               energy_max=high_edge)\n",
    "\n",
    "\n",
    "fig = spectrum_generator.view_count_spectrum();"
   ]
  },
  {
   "cell_type": "markdown",
   "id": "fec56aab",
   "metadata": {},
   "source": [
    "##### Poisson spectrum with Gaussian background"
   ]
  },
  {
   "cell_type": "code",
   "execution_count": null,
   "id": "5417e010",
   "metadata": {},
   "outputs": [],
   "source": [
    "\n",
    "spectrum_generator = SpectrumLike.from_function('fake',\n",
    "                                               source_function=source_function,\n",
    "                                               background_function=background_function,\n",
    "                                               background_errors= 0.1 * background_function(low_edge),\n",
    "                                               energy_min=low_edge,\n",
    "                                               energy_max=high_edge)\n",
    "\n",
    "\n",
    "fig = spectrum_generator.view_count_spectrum();"
   ]
  },
  {
   "cell_type": "markdown",
   "id": "e345e2fb",
   "metadata": {},
   "source": [
    "#### DispersionSpectrumLike\n",
    "\n",
    "DispersionSpectrumLike behaves in the same fashion as SpectrumLike except that a 3ML Instrument response must be set which means that the energy bins do not need to be specified as they are derived from the response\n",
    "\n",
    "Let's grab a response from an instrument."
   ]
  },
  {
   "cell_type": "code",
   "execution_count": null,
   "id": "18ec5dca",
   "metadata": {},
   "outputs": [],
   "source": [
    "from threeML.io.package_data import get_path_of_data_file\n",
    "from threeML.utils.OGIP.response import OGIPResponse\n",
    "\n",
    "# we will use a demo response\n",
    "response = OGIPResponse(get_path_of_data_file(\"datasets/ogip_powerlaw.rsp\"))"
   ]
  },
  {
   "cell_type": "code",
   "execution_count": null,
   "id": "27e74b0d",
   "metadata": {},
   "outputs": [],
   "source": [
    "# rescale the functions for the response\n",
    "source_function = Blackbody(K=1e-7, kT=500.0)\n",
    "background_function = Powerlaw(K=1, index=-1.5, piv=1.0e3)\n",
    "spectrum_generator = DispersionSpectrumLike.from_function(\n",
    "    \"fake\",\n",
    "    source_function=source_function,\n",
    "    background_function=background_function,\n",
    "    response=response,\n",
    ")"
   ]
  },
  {
   "cell_type": "code",
   "execution_count": null,
   "id": "3374b412",
   "metadata": {
    "tags": [
     "nbsphinx-thumbnail"
    ]
   },
   "outputs": [],
   "source": [
    "fig = spectrum_generator.view_count_spectrum()"
   ]
  },
  {
   "cell_type": "markdown",
   "id": "02df7674",
   "metadata": {},
   "source": [
    "### Generating spectra from fitted models\n",
    "\n",
    "When performing goodness of fit tests, likelihood ratio tests (both automatic in 3ML) or posterior predictive checks, we need to generate synthetic data from our fitted models. Therefore, we proved methods to do this for most current plugins."
   ]
  },
  {
   "cell_type": "markdown",
   "id": "2a211276",
   "metadata": {},
   "source": [
    "#### XYLike\n",
    "\n",
    "Let's load some example, generic XY data and fit it with a power law."
   ]
  },
  {
   "cell_type": "code",
   "execution_count": null,
   "id": "c3d9ba97",
   "metadata": {},
   "outputs": [],
   "source": [
    "data_path = get_path_of_data_file(\"datasets/xy_powerlaw.txt\")\n",
    "\n",
    "\n",
    "xyl = XYLike.from_text_file(\"xyl\", data_path)\n",
    "\n",
    "fit_function = Powerlaw()\n",
    "\n",
    "xyl.fit(fit_function)\n",
    "\n",
    "fig = xyl.plot(x_scale=\"log\", y_scale=\"log\");"
   ]
  },
  {
   "cell_type": "markdown",
   "id": "251a20bd",
   "metadata": {},
   "source": [
    "Once our fit has been finished, we can produce simulated data sets from those model parameters."
   ]
  },
  {
   "cell_type": "code",
   "execution_count": null,
   "id": "c48ec430",
   "metadata": {},
   "outputs": [],
   "source": [
    "synthetic_xyl = xyl.get_simulated_dataset()\n",
    "\n",
    "fig = synthetic_xyl.plot(x_scale=\"log\", y_scale=\"log\");"
   ]
  },
  {
   "cell_type": "markdown",
   "id": "9c096a16",
   "metadata": {},
   "source": [
    "#### SpectrumLike and DispersionSpectrumLike (OGIPLike)\n",
    "\n",
    "Both spectrum plugins work in the same way when generating data from a fit. They both keep track of the statistical properties of the likelihoods in the plugin so that the simulated datasets have the appropriate statistical properties. Additionally, background, responsses, etc. are simulated and/or kept track of as well.\n",
    "\n",
    "Let's fit an example energy dispersed spectrum."
   ]
  },
  {
   "cell_type": "code",
   "execution_count": null,
   "id": "8d2c6f62",
   "metadata": {},
   "outputs": [],
   "source": [
    "ogip_data = OGIPLike(\n",
    "    \"ogip\",\n",
    "    observation=get_path_of_data_file(\"datasets/ogip_powerlaw.pha\"),\n",
    "    background=get_path_of_data_file(\"datasets/ogip_powerlaw.bak\"),\n",
    "    response=get_path_of_data_file(\"datasets/ogip_powerlaw.rsp\"),\n",
    ")\n",
    "\n",
    "ogip_data.view_count_spectrum()\n",
    "# define the function\n",
    "fit_function = Cutoff_powerlaw(K=1e-3, xc=1000, index=-0.66)\n",
    "\n",
    "# define the point source\n",
    "point_source = PointSource(\"ps\", 0, 0, spectral_shape=fit_function)\n",
    "\n",
    "# define the model\n",
    "model = Model(point_source)\n",
    "\n",
    "ogip_data.set_model(model)"
   ]
  },
  {
   "cell_type": "markdown",
   "id": "328c4d0d",
   "metadata": {},
   "source": [
    "Now we can now generate synthetic datasets from the fitted model. This will include the background sampled properly from the profile likelihood. The instrument response is automatically passed to the new plugin."
   ]
  },
  {
   "cell_type": "code",
   "execution_count": null,
   "id": "381acc84",
   "metadata": {},
   "outputs": [],
   "source": [
    "synthetic_ogip = ogip_data.get_simulated_dataset()\n",
    "\n",
    "fig = synthetic_ogip.view_count_spectrum();"
   ]
  }
 ],
 "metadata": {
  "jupytext": {
   "formats": "ipynb,md"
  },
  "kernelspec": {
   "display_name": "Python 3",
   "language": "python",
   "name": "python3"
  }
 },
 "nbformat": 4,
 "nbformat_minor": 5
}
