{
 "cells": [
  {
   "cell_type": "markdown",
   "id": "ff7e0a19",
   "metadata": {},
   "source": [
    "# Point Source Fluxes and Multiple Sources\n",
    "\n",
    "Once one has computed a spectral to a point source, getting the flux of that source is possible.\n",
    "In 3ML, we can obtain flux in a variety of units in a live analysis or from saved fits. There is no need to know exactly what you want to obtain at the time you do the fit.\n",
    "\n",
    "Also, let's explore how to deal with fitting multiple point sources and linking of parameters.\n",
    "\n",
    "\n",
    "Let's explore the possibilites.\n",
    "\n"
   ]
  },
  {
   "cell_type": "code",
   "execution_count": null,
   "id": "efccda8e",
   "metadata": {},
   "outputs": [],
   "source": []
  },
  {
   "cell_type": "code",
   "execution_count": null,
   "id": "15afb376",
   "metadata": {},
   "outputs": [],
   "source": [
    "import warnings\n",
    "warnings.simplefilter(\"ignore\")\n"
   ]
  },
  {
   "cell_type": "code",
   "execution_count": null,
   "id": "1f39076a",
   "metadata": {},
   "outputs": [],
   "source": [
    "%%capture\n",
    "import matplotlib.pyplot as plt\n",
    "import numpy as np\n",
    "np.seterr(all=\"ignore\")\n",
    "import astropy.units as u\n",
    "from threeML import *\n",
    "from threeML.utils.OGIP.response import OGIPResponse\n",
    "from threeML.io.package_data import get_path_of_data_file\n"
   ]
  },
  {
   "cell_type": "code",
   "execution_count": null,
   "id": "e12b0621",
   "metadata": {},
   "outputs": [],
   "source": [
    "from jupyterthemes import jtplot\n",
    "%matplotlib inline\n",
    "jtplot.style(context=\"talk\", fscale=1, ticks=True, grid=False)\n",
    "silence_warnings()\n",
    "set_threeML_style()"
   ]
  },
  {
   "cell_type": "markdown",
   "id": "92d955a6",
   "metadata": {},
   "source": [
    "## Generating some synthetic data\n",
    "\n",
    "![alt text](http://aasnova.org/wp-content/uploads/2016/03/fig16.jpg)\n",
    "\n",
    "Let's say we have two galactic x-ray sources, some accreting compact binaries perhaps? We observe them at two different times. These sources (imaginary) sources emit a blackbody which is theorized to always be at the same temperature, but perhaps at different flux levels.\n",
    "\n",
    "\n",
    "Lets simulate one of these sources:\n"
   ]
  },
  {
   "cell_type": "code",
   "execution_count": null,
   "id": "d75023be",
   "metadata": {},
   "outputs": [],
   "source": [
    "np.random.seed(1234)\n",
    "\n",
    "# we will use a demo response\n",
    "response_1 = OGIPResponse(get_path_of_data_file(\"datasets/ogip_powerlaw.rsp\"))\n",
    "\n",
    "\n",
    "source_function_1 = Blackbody(K=5e-8, kT=500.0)\n",
    "background_function_1 = Powerlaw(K=1, index=-1.5, piv=1.0e3)\n",
    "\n",
    "\n",
    "spectrum_generator_1 = DispersionSpectrumLike.from_function(\n",
    "    \"s1\",\n",
    "    source_function=source_function_1,\n",
    "    background_function=background_function_1,\n",
    "    response=response_1,\n",
    ")\n",
    "\n",
    "fig = spectrum_generator_1.view_count_spectrum()"
   ]
  },
  {
   "cell_type": "markdown",
   "id": "b7aedb18",
   "metadata": {},
   "source": [
    "Now let's simulate the other source, but this one has an extra feature! There is a power law component in addition to the blackbody. "
   ]
  },
  {
   "cell_type": "code",
   "execution_count": null,
   "id": "1d469e49",
   "metadata": {},
   "outputs": [],
   "source": [
    "\n",
    "response_2 = OGIPResponse(get_path_of_data_file(\"datasets/ogip_powerlaw.rsp\"))\n",
    "\n",
    "\n",
    "source_function_2 = Blackbody(K=1e-7, kT=500.0) + Powerlaw_flux(F=2e2, index=-1.5, a=10, b=500)\n",
    "background_function_2 = Powerlaw(K=1, index=-1.5, piv=1.0e3)\n",
    "\n",
    "\n",
    "spectrum_generator_2 = DispersionSpectrumLike.from_function(\n",
    "    \"s2\",\n",
    "    source_function=source_function_2,\n",
    "    background_function=background_function_2,\n",
    "    response=response_2,\n",
    ")\n",
    "\n",
    "fig = spectrum_generator_2.view_count_spectrum()"
   ]
  },
  {
   "cell_type": "markdown",
   "id": "7ade908d",
   "metadata": {},
   "source": [
    "## Make the model\n",
    "\n",
    "Now let's make the model we will use to fit the data. First, let's make the spectral function for source_1 and set priors on the parameters.\n"
   ]
  },
  {
   "cell_type": "code",
   "execution_count": null,
   "id": "d583b6df",
   "metadata": {},
   "outputs": [],
   "source": [
    "spectrum_1 = Blackbody()\n",
    "\n",
    "spectrum_1.K.prior = Log_normal(mu=np.log(1e-7), sigma=1)\n",
    "spectrum_1.kT.prior = Log_normal(mu=np.log(300), sigma=2)\n",
    "\n",
    "ps1 = PointSource(\"src1\", ra=1, dec =20, spectral_shape=spectrum_1)\n"
   ]
  },
  {
   "cell_type": "markdown",
   "id": "e0f53131",
   "metadata": {},
   "source": [
    "We will do the same for the other source but also include the power law component "
   ]
  },
  {
   "cell_type": "code",
   "execution_count": null,
   "id": "6646f672",
   "metadata": {},
   "outputs": [],
   "source": [
    "spectrum_2 = Blackbody() + Powerlaw_flux(a=10, b=500) # a,b are the bounds for the flux for this model\n",
    "\n",
    "spectrum_2.K_1.prior = Log_normal(mu=np.log(1e-6), sigma=1)\n",
    "spectrum_2.kT_1.prior = Log_normal(mu=np.log(300), sigma=2)\n",
    "\n",
    "spectrum_2.F_2.prior = Log_normal(mu=np.log(1e2), sigma=1)\n",
    "spectrum_2.F_2.bounds = (None, None)\n",
    "\n",
    "spectrum_2.index_2.prior = Gaussian(mu=-1., sigma = 1)\n",
    "spectrum_2.index_2.bounds = (None, None)\n",
    "\n",
    "ps2 = PointSource(\"src2\", ra=2, dec=-10, spectral_shape=spectrum_2)"
   ]
  },
  {
   "cell_type": "markdown",
   "id": "1404b6c8",
   "metadata": {},
   "source": [
    "Now we can combine these two sources into our model."
   ]
  },
  {
   "cell_type": "code",
   "execution_count": null,
   "id": "4d156e41",
   "metadata": {},
   "outputs": [],
   "source": [
    "model = Model(ps1, ps2)"
   ]
  },
  {
   "cell_type": "markdown",
   "id": "6fc582ea",
   "metadata": {},
   "source": [
    "### Linking parameters\n",
    "\n",
    "We hypothesized that both sources should have the a same blackbody temperature. We can impose this by linking the temperatures. \n"
   ]
  },
  {
   "cell_type": "code",
   "execution_count": null,
   "id": "f989e17e",
   "metadata": {},
   "outputs": [],
   "source": [
    "model.link(model.src1.spectrum.main.Blackbody.kT, \n",
    "           model.src2.spectrum.main.composite.kT_1)"
   ]
  },
  {
   "cell_type": "markdown",
   "id": "be769230",
   "metadata": {},
   "source": [
    "we could also link the parameters with an arbitrary function rather than directly. Check out the [astromodels documentation](https://astromodels.readthedocs.io/en/latest/Model_tutorial.html#linking-parameters) for more details."
   ]
  },
  {
   "cell_type": "code",
   "execution_count": null,
   "id": "76d04154",
   "metadata": {},
   "outputs": [],
   "source": [
    "model"
   ]
  },
  {
   "cell_type": "markdown",
   "id": "cedc66dd",
   "metadata": {},
   "source": [
    "### Assigning sources to plugins\n",
    "\n",
    "Now, if we simply passed out model to the BayesianAnalysis or JointLikelihood objects, it would sum the point source spectra together and apply both sources to all data. \n",
    "\n",
    "This is not what we want. Many plugins have the ability to be assigned directly to a source. Let's do that here:"
   ]
  },
  {
   "cell_type": "code",
   "execution_count": null,
   "id": "335abfa8",
   "metadata": {},
   "outputs": [],
   "source": [
    "spectrum_generator_1.assign_to_source(\"src1\")\n",
    "\n",
    "spectrum_generator_2.assign_to_source(\"src2\")"
   ]
  },
  {
   "cell_type": "markdown",
   "id": "3a58f534",
   "metadata": {},
   "source": [
    "Now we simply make our our data list"
   ]
  },
  {
   "cell_type": "code",
   "execution_count": null,
   "id": "b0fb7de6",
   "metadata": {},
   "outputs": [],
   "source": [
    "data = DataList(spectrum_generator_1, spectrum_generator_2)"
   ]
  },
  {
   "cell_type": "markdown",
   "id": "72f1ea0d",
   "metadata": {},
   "source": [
    "## Fitting the data\n",
    "\n",
    "Now we fit the data as we normally would. We use Bayesian analysis here."
   ]
  },
  {
   "cell_type": "code",
   "execution_count": null,
   "id": "1cdc61a3",
   "metadata": {},
   "outputs": [],
   "source": [
    "ba = BayesianAnalysis(model, data)\n",
    "ba.set_sampler(\"ultranest\")\n",
    "ba.sampler.setup(frac_remain=0.5)\n",
    "_ = ba.sample()"
   ]
  },
  {
   "cell_type": "markdown",
   "id": "4c1bd0f4",
   "metadata": {},
   "source": [
    "Let's examine the fits."
   ]
  },
  {
   "cell_type": "code",
   "execution_count": null,
   "id": "50663a6e",
   "metadata": {},
   "outputs": [],
   "source": [
    "fig = display_spectrum_model_counts(ba);\n",
    "ax = fig.get_axes()[0]\n",
    "ax.set_ylim(1e-6)"
   ]
  },
  {
   "cell_type": "markdown",
   "id": "8915eb8a",
   "metadata": {},
   "source": [
    "Lets grab the result. Remember, we can save the results to disk, so all of the following operations can be run at a later time without having to redo all the above steps!"
   ]
  },
  {
   "cell_type": "code",
   "execution_count": null,
   "id": "371ab782",
   "metadata": {
    "tags": [
     "nbsphinx-thumbnail"
    ]
   },
   "outputs": [],
   "source": [
    "result = ba.results\n",
    "fig = result.corner_plot();"
   ]
  },
  {
   "cell_type": "markdown",
   "id": "b98c4a6f",
   "metadata": {},
   "source": [
    "## Computing fluxes\n",
    "\n",
    "Now we will compute fluxes. We can compute them an many different units, over any energy range also specified in any units. \n",
    "\n",
    "The flux is computed by integrating the function over energy. By default, a fast trapezoid method is used. If you need more accuracy, you can change the method in the configuration.\n"
   ]
  },
  {
   "cell_type": "code",
   "execution_count": null,
   "id": "d01948d2",
   "metadata": {},
   "outputs": [],
   "source": [
    "threeML_config.point_source.integrate_flux_method = \"quad\"\n",
    "\n",
    "result.get_flux(ene_min=1*u.keV, \n",
    "                ene_max = 1*u.MeV,\n",
    "                \n",
    "                flux_unit=\"erg/cm2/s\")"
   ]
  },
  {
   "cell_type": "markdown",
   "id": "8491cbf1",
   "metadata": {},
   "source": [
    "We see that a pandas dataframe is returned with all the information. We could change the confidence region for the uncertainties if we desire. However, we could also sum the source fluxes! 3ML will take care of propagating the uncertainties (for any of these operations). "
   ]
  },
  {
   "cell_type": "code",
   "execution_count": null,
   "id": "80a16de0",
   "metadata": {},
   "outputs": [],
   "source": [
    "threeML_config.point_source.integrate_flux_method = \"trapz\"\n",
    "\n",
    "result.get_flux(ene_min=1*u.keV, \n",
    "                ene_max = 1*u.MeV,\n",
    "                confidence_level=0.95,\n",
    "                sum_sources=True,\n",
    "                flux_unit=\"erg/cm2/s\")"
   ]
  },
  {
   "cell_type": "markdown",
   "id": "447e3797",
   "metadata": {},
   "source": [
    "We can get the fluxes of individual components:"
   ]
  },
  {
   "cell_type": "code",
   "execution_count": null,
   "id": "8500663c",
   "metadata": {},
   "outputs": [],
   "source": [
    "result.get_flux(ene_min=10*u.keV, \n",
    "                ene_max = 0.5*u.MeV,\n",
    "                use_components=True,\n",
    "                flux_unit=\"1/(cm2 s)\")"
   ]
  },
  {
   "cell_type": "markdown",
   "id": "da4bff4f",
   "metadata": {},
   "source": [
    "As well as choose which component to compute"
   ]
  },
  {
   "cell_type": "code",
   "execution_count": null,
   "id": "ac469b9d",
   "metadata": {},
   "outputs": [],
   "source": [
    "result.get_flux(ene_min=10*u.keV, \n",
    "                ene_max = 0.5*u.MeV,\n",
    "                use_components=True,\n",
    "                components_to_use =[\"Blackbody\"],\n",
    "                \n",
    "                flux_unit=\"erg2/(cm2 s)\")"
   ]
  },
  {
   "cell_type": "markdown",
   "id": "009f1909",
   "metadata": {},
   "source": [
    "Finally, the returned flux object is a pandas table and can be manipulated as such:"
   ]
  },
  {
   "cell_type": "code",
   "execution_count": null,
   "id": "4a0f7b6a",
   "metadata": {},
   "outputs": [],
   "source": [
    "flux = result.get_flux(ene_min=1*u.keV, \n",
    "                ene_max = 1*u.MeV,\n",
    "                flux_unit=\"erg/cm2/s\")"
   ]
  },
  {
   "cell_type": "code",
   "execution_count": null,
   "id": "6c8e79f3",
   "metadata": {},
   "outputs": [],
   "source": [
    "flux[\"flux\"]"
   ]
  },
  {
   "cell_type": "code",
   "execution_count": null,
   "id": "3fe2623d",
   "metadata": {},
   "outputs": [],
   "source": [
    "flux[\"flux\"][\"src1: total\"]"
   ]
  }
 ],
 "metadata": {
  "jupytext": {
   "formats": "ipynb,md"
  },
  "kernelspec": {
   "display_name": "Python 3",
   "language": "python",
   "name": "python3"
  }
 },
 "nbformat": 4,
 "nbformat_minor": 5
}
