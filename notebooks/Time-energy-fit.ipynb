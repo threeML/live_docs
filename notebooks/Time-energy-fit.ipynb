{
 "cells": [
  {
   "cell_type": "markdown",
   "id": "716d915c",
   "metadata": {},
   "source": [
    "# Time-energy fit\n",
    "\n",
    "3ML allows the possibility to model a time-varying source by explicitly fitting the time-dependent part of the model. Let's see this with an example.\n",
    "\n",
    "First we import what we need:\n"
   ]
  },
  {
   "cell_type": "code",
   "execution_count": null,
   "id": "d5489846",
   "metadata": {
    "lines_to_next_cell": 2
   },
   "outputs": [],
   "source": [
    "import warnings\n",
    "warnings.simplefilter('ignore')\n",
    "import numpy as np\n",
    "np.seterr(all=\"ignore\")"
   ]
  },
  {
   "cell_type": "code",
   "execution_count": null,
   "id": "ec264afb",
   "metadata": {},
   "outputs": [],
   "source": [
    "%%capture\n",
    "import matplotlib.pyplot as plt\n",
    "\n",
    "from threeML import *\n",
    "from threeML.io.package_data import get_path_of_data_file\n"
   ]
  },
  {
   "cell_type": "code",
   "execution_count": null,
   "id": "3ced2ee2",
   "metadata": {
    "lines_to_next_cell": 0
   },
   "outputs": [],
   "source": [
    "from jupyterthemes import jtplot\n",
    "%matplotlib inline\n",
    "jtplot.style(context=\"talk\", fscale=1, ticks=True, grid=False)\n",
    "set_threeML_style()\n",
    "silence_warnings()"
   ]
  },
  {
   "cell_type": "markdown",
   "id": "a6eea0cb",
   "metadata": {},
   "source": [
    "## Generating the datasets\n",
    "\n",
    "Then we generate a simulated dataset for a source with a cutoff powerlaw spectrum with a constant photon index and cutoff but with a normalization that changes with time following a powerlaw:"
   ]
  },
  {
   "cell_type": "code",
   "execution_count": null,
   "id": "32f9efd0",
   "metadata": {},
   "outputs": [],
   "source": [
    "def generate_one(K, ax):\n",
    "\n",
    "    # Let's generate some data with y = Powerlaw(x)\n",
    "\n",
    "    gen_function = Cutoff_powerlaw()\n",
    "    gen_function.K = K\n",
    "\n",
    "    # Generate a dataset using the power law, and a\n",
    "    # constant 30% error\n",
    "\n",
    "    x = np.logspace(0, 2, 50)\n",
    "\n",
    "    xyl_generator = XYLike.from_function(\n",
    "        \"sim_data\", function=gen_function, x=x, yerr=0.3 * gen_function(x)\n",
    "    )\n",
    "\n",
    "    y = xyl_generator.y\n",
    "    y_err = xyl_generator.yerr\n",
    "\n",
    "    ax.loglog(x, gen_function(x))\n",
    "    \n",
    "    ax.set_xlabel(\"Energy\")\n",
    "    ax.set_ylabel(\"Flux\")\n",
    "\n",
    "    return x, y, y_err"
   ]
  },
  {
   "cell_type": "markdown",
   "id": "1414ac44",
   "metadata": {},
   "source": [
    "These are the times at which the simulated spectra have been observed"
   ]
  },
  {
   "cell_type": "code",
   "execution_count": null,
   "id": "524a4b75",
   "metadata": {},
   "outputs": [],
   "source": [
    "time_tags = np.array([1.0, 2.0, 5.0, 10.0])"
   ]
  },
  {
   "cell_type": "markdown",
   "id": "4ac7aff5",
   "metadata": {},
   "source": [
    "This describes the time-varying normalization. If everything works as it should, we should recover from the fit a normalization of 0.23 and a index of -1.2 for the time law."
   ]
  },
  {
   "cell_type": "code",
   "execution_count": null,
   "id": "2bd3d8e9",
   "metadata": {},
   "outputs": [],
   "source": [
    "normalizations = 0.23 * time_tags ** (-3.5)"
   ]
  },
  {
   "cell_type": "markdown",
   "id": "95dceb0a",
   "metadata": {},
   "source": [
    "Now that we have a simple function to create the datasets, let's build them."
   ]
  },
  {
   "cell_type": "code",
   "execution_count": null,
   "id": "d57296a3",
   "metadata": {
    "tags": [
     "nbsphinx-thumbbail"
    ]
   },
   "outputs": [],
   "source": [
    "fig, ax = plt.subplots()\n",
    "\n",
    "datasets = [generate_one(k, ax) for k in normalizations]"
   ]
  },
  {
   "cell_type": "markdown",
   "id": "f387577a",
   "metadata": {},
   "source": [
    "## Setup the model\n",
    "\n",
    "Now set up the fit and fit it. First we need to tell 3ML that we are going to fit using an independent variable (time in this case). We init it to 1.0 and set the unit to seconds."
   ]
  },
  {
   "cell_type": "code",
   "execution_count": null,
   "id": "7a0c6d88",
   "metadata": {},
   "outputs": [],
   "source": [
    "time = IndependentVariable(\"time\", 1.0, u.s)"
   ]
  },
  {
   "cell_type": "markdown",
   "id": "98bd28ed",
   "metadata": {},
   "source": [
    "Then we load the data that we have generated, tagging them with their time of observation."
   ]
  },
  {
   "cell_type": "code",
   "execution_count": null,
   "id": "bac08578",
   "metadata": {},
   "outputs": [],
   "source": [
    "\n",
    "plugins = []\n",
    "\n",
    "for i, dataset in enumerate(datasets):\n",
    "    \n",
    "    x, y, y_err = dataset\n",
    "    \n",
    "    xyl = XYLike(\"data%i\" % i, x, y, y_err)\n",
    "    \n",
    "    # This is the important part: we need to tag the instance of the\n",
    "    # plugin so that 3ML will know that this instance corresponds to the\n",
    "    # given tag (a time coordinate in this case). If instead of giving\n",
    "    # one time coordinate we give two time coordinates, then 3ML will\n",
    "    # take the average of the model between the two time coordinates\n",
    "    # (computed as the integral of the model between t1 and t2 divided \n",
    "    # by t2-t1)\n",
    "    \n",
    "    xyl.tag = (time, time_tags[i])\n",
    "    \n",
    "    # To access the tag we have just set we can use:\n",
    "    \n",
    "    independent_variable, start, end = xyl.tag\n",
    "    \n",
    "    # NOTE: xyl.tag will return 3 things: the independent variable, the start and the\n",
    "    # end. If like in this case you do not specify an end when assigning the tag, end\n",
    "    # will be None\n",
    "    \n",
    "    plugins.append(xyl)"
   ]
  },
  {
   "cell_type": "markdown",
   "id": "c9f6c345",
   "metadata": {},
   "source": [
    "Generate the datalist as usual\n",
    "\n"
   ]
  },
  {
   "cell_type": "code",
   "execution_count": null,
   "id": "e9058109",
   "metadata": {},
   "outputs": [],
   "source": [
    "data = DataList(*plugins)"
   ]
  },
  {
   "cell_type": "markdown",
   "id": "9db62d40",
   "metadata": {},
   "source": [
    "Now let's generate the spectral model, in this case a point source with a cutoff powerlaw spectrum."
   ]
  },
  {
   "cell_type": "code",
   "execution_count": null,
   "id": "67de2db0",
   "metadata": {},
   "outputs": [],
   "source": [
    "spectrum = Cutoff_powerlaw()\n",
    "\n",
    "src = PointSource(\"test\", ra=0.0, dec=0.0, spectral_shape=spectrum)\n",
    "\n",
    "model = Model(src)"
   ]
  },
  {
   "cell_type": "markdown",
   "id": "26a2516e",
   "metadata": {},
   "source": [
    "Now we need to tell 3ML that we are going to use the time coordinate to specify a time dependence for some of the parameters of the model.\n",
    "\n"
   ]
  },
  {
   "cell_type": "code",
   "execution_count": null,
   "id": "4ad9fe7b",
   "metadata": {},
   "outputs": [],
   "source": [
    "model.add_independent_variable(time)"
   ]
  },
  {
   "cell_type": "markdown",
   "id": "ceb593b2",
   "metadata": {},
   "source": [
    "Now let's specify the time-dependence (a powerlaw) for the normalization of the powerlaw spectrum."
   ]
  },
  {
   "cell_type": "code",
   "execution_count": null,
   "id": "08813d7e",
   "metadata": {},
   "outputs": [],
   "source": [
    "time_po = Powerlaw()\n",
    "time_po.K.bounds = (0.01, 1000)"
   ]
  },
  {
   "cell_type": "markdown",
   "id": "25fe1540",
   "metadata": {},
   "source": [
    "Link the normalization of the cutoff powerlaw spectrum with time through the time law we have just generated."
   ]
  },
  {
   "cell_type": "code",
   "execution_count": null,
   "id": "a2b66acb",
   "metadata": {},
   "outputs": [],
   "source": [
    "model.link(spectrum.K, time, time_po)\n",
    "model"
   ]
  },
  {
   "cell_type": "markdown",
   "id": "3d2f3c44",
   "metadata": {},
   "source": [
    "## Performing the fit"
   ]
  },
  {
   "cell_type": "code",
   "execution_count": null,
   "id": "b3e02f1e",
   "metadata": {},
   "outputs": [],
   "source": [
    "jl = JointLikelihood(model, data)\n",
    "\n",
    "best_fit_parameters, likelihood_values = jl.fit()"
   ]
  },
  {
   "cell_type": "code",
   "execution_count": null,
   "id": "c3cf1be5",
   "metadata": {},
   "outputs": [],
   "source": [
    "for p in plugins:\n",
    "\n",
    "    _ = p.plot(x_scale='log', y_scale='log');"
   ]
  },
  {
   "cell_type": "code",
   "execution_count": null,
   "id": "b91af2dd",
   "metadata": {},
   "outputs": [],
   "source": []
  }
 ],
 "metadata": {
  "jupytext": {
   "formats": "ipynb,md"
  },
  "kernelspec": {
   "display_name": "Python 3",
   "language": "python",
   "name": "python3"
  }
 },
 "nbformat": 4,
 "nbformat_minor": 5
}
